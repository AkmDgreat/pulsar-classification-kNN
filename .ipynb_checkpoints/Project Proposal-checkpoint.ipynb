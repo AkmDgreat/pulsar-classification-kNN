{
 "cells": [
  {
   "cell_type": "markdown",
   "id": "e1e8c423-243f-4fba-8cf2-88e8d5a4d710",
   "metadata": {},
   "source": []
  },
  {
   "cell_type": "markdown",
   "id": "44ec1c66-6918-4b9e-a010-0719bc9d0637",
   "metadata": {},
   "source": [
    "Introduction:\n",
    "\n",
    "\n",
    "\n",
    "\n",
    "Preliminary exploratory data analysis:\n",
    "\n",
    "Methods:\n",
    "\n",
    "\n",
    "Expected outcomes and significance:\n",
    "\n",
    "\n",
    "Sources: \n"
   ]
  }
 ],
 "metadata": {
  "kernelspec": {
   "display_name": "R",
   "language": "R",
   "name": "ir"
  },
  "language_info": {
   "codemirror_mode": "r",
   "file_extension": ".r",
   "mimetype": "text/x-r-source",
   "name": "R",
   "pygments_lexer": "r",
   "version": "4.3.1"
  }
 },
 "nbformat": 4,
 "nbformat_minor": 5
}
