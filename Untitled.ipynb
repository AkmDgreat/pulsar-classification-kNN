{
 "cells": [
  {
   "cell_type": "code",
   "execution_count": 11,
   "id": "84627c0e-2752-40d7-8feb-34fb72e799b5",
   "metadata": {},
   "outputs": [],
   "source": [
    "library(tidyverse)\n",
    "library(repr)\n",
    "library(rvest)\n",
    "library(stringr)\n",
    "library(janitor)"
   ]
  },
  {
   "cell_type": "code",
   "execution_count": 17,
   "id": "ee048b5d-9fb0-4dce-a0b9-2eede25ad6bc",
   "metadata": {},
   "outputs": [
    {
     "name": "stderr",
     "output_type": "stream",
     "text": [
      "\u001b[1mRows: \u001b[22m\u001b[34m17898\u001b[39m \u001b[1mColumns: \u001b[22m\u001b[34m9\u001b[39m\n",
      "\u001b[36m──\u001b[39m \u001b[1mColumn specification\u001b[22m \u001b[36m────────────────────────────────────────────────────────\u001b[39m\n",
      "\u001b[1mDelimiter:\u001b[22m \",\"\n",
      "\u001b[32mdbl\u001b[39m (9): X1, X2, X3, X4, X5, X6, X7, X8, X9\n",
      "\n",
      "\u001b[36mℹ\u001b[39m Use `spec()` to retrieve the full column specification for this data.\n",
      "\u001b[36mℹ\u001b[39m Specify the column types or set `show_col_types = FALSE` to quiet this message.\n"
     ]
    }
   ],
   "source": [
    "practice <- read_csv(\"HTRU_2.arff\", skip = 11, col_names = FALSE) |>\n",
    "head()"
   ]
  },
  {
   "cell_type": "code",
   "execution_count": null,
   "id": "4532b6dc-83f6-426e-994a-67763e77f982",
   "metadata": {},
   "outputs": [],
   "source": []
  }
 ],
 "metadata": {
  "kernelspec": {
   "display_name": "R",
   "language": "R",
   "name": "ir"
  },
  "language_info": {
   "codemirror_mode": "r",
   "file_extension": ".r",
   "mimetype": "text/x-r-source",
   "name": "R",
   "pygments_lexer": "r",
   "version": "4.3.1"
  }
 },
 "nbformat": 4,
 "nbformat_minor": 5
}
