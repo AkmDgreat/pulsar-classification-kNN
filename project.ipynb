{
 "cells": [
  {
   "cell_type": "markdown",
   "id": "917e9bb1-b1dd-4ebf-97a5-93c56387bda5",
   "metadata": {},
   "source": [
    "# Classifying Pulsar Candidates Using a K-NN Algorithm\n",
    "\n",
    "## Introduction\n",
    "- Pulsars are rotating neutron stars observed to have pulses of radiation at very regular intervals, typically ranging from milliseconds to seconds. These accelerated particles produce very powerful beams of light, with some pulsars producing enough radio emissions to be detected on Earth (Ng et al., 2015).\n",
    "- Detection of Pulsars is a complex task and involves discerning fleeting Pulsar signals from a copious amount of background radio frequency interference (Eatough et al., 2010). To aid in the detection of Pulsars, computer algorithms can speed up the process and accuracy. Within our project, we aim to create a supervised *K*-Nearest Neighbors algorithm in the binary classification of the Pulsar star state.\n",
    "\n",
    "\n",
    "\n",
    "**Predictive question:** Can we create a *K*-nearest neighbor algorithm capable of classifying whether an observation is a Pulsar star or not, given the kurtosis and skewness of the integrated profile, as well as the mean, kurtosis, and skewness of the DM-SNR curve?\n",
    "\n",
    "\n",
    "#### Dataset\n",
    "- The data set that we use describes a sample of pulsar candidates collected as part of the High Time Resolution Universe Survey of the southern hemisphere.\n",
    "- The data set contains a total of 8 different features and 1 class variable. The variables are measures of the dispersion measure-signal-to-noise ratio (DM-SNR) or the integrated profile of each recorded observation."
   ]
  },
  {
   "cell_type": "markdown",
   "id": "30e247f2-3d98-4ab9-a3f1-81736d03af1f",
   "metadata": {},
   "source": [
    "## Exploratory data analysis"
   ]
  },
  {
   "cell_type": "code",
   "execution_count": 1,
   "id": "84627c0e-2752-40d7-8feb-34fb72e799b5",
   "metadata": {},
   "outputs": [
    {
     "name": "stderr",
     "output_type": "stream",
     "text": [
      "── \u001b[1mAttaching core tidyverse packages\u001b[22m ──────────────────────── tidyverse 2.0.0 ──\n",
      "\u001b[32m✔\u001b[39m \u001b[34mdplyr    \u001b[39m 1.1.3     \u001b[32m✔\u001b[39m \u001b[34mreadr    \u001b[39m 2.1.4\n",
      "\u001b[32m✔\u001b[39m \u001b[34mforcats  \u001b[39m 1.0.0     \u001b[32m✔\u001b[39m \u001b[34mstringr  \u001b[39m 1.5.0\n",
      "\u001b[32m✔\u001b[39m \u001b[34mggplot2  \u001b[39m 3.4.4     \u001b[32m✔\u001b[39m \u001b[34mtibble   \u001b[39m 3.2.1\n",
      "\u001b[32m✔\u001b[39m \u001b[34mlubridate\u001b[39m 1.9.3     \u001b[32m✔\u001b[39m \u001b[34mtidyr    \u001b[39m 1.3.0\n",
      "\u001b[32m✔\u001b[39m \u001b[34mpurrr    \u001b[39m 1.0.2     \n",
      "── \u001b[1mConflicts\u001b[22m ────────────────────────────────────────── tidyverse_conflicts() ──\n",
      "\u001b[31m✖\u001b[39m \u001b[34mdplyr\u001b[39m::\u001b[32mfilter()\u001b[39m masks \u001b[34mstats\u001b[39m::filter()\n",
      "\u001b[31m✖\u001b[39m \u001b[34mdplyr\u001b[39m::\u001b[32mlag()\u001b[39m    masks \u001b[34mstats\u001b[39m::lag()\n",
      "\u001b[36mℹ\u001b[39m Use the conflicted package (\u001b[3m\u001b[34m<http://conflicted.r-lib.org/>\u001b[39m\u001b[23m) to force all conflicts to become errors\n",
      "── \u001b[1mAttaching packages\u001b[22m ────────────────────────────────────── tidymodels 1.1.1 ──\n",
      "\n",
      "\u001b[32m✔\u001b[39m \u001b[34mbroom       \u001b[39m 1.0.5     \u001b[32m✔\u001b[39m \u001b[34mrsample     \u001b[39m 1.2.0\n",
      "\u001b[32m✔\u001b[39m \u001b[34mdials       \u001b[39m 1.2.0     \u001b[32m✔\u001b[39m \u001b[34mtune        \u001b[39m 1.1.2\n",
      "\u001b[32m✔\u001b[39m \u001b[34minfer       \u001b[39m 1.0.5     \u001b[32m✔\u001b[39m \u001b[34mworkflows   \u001b[39m 1.1.3\n",
      "\u001b[32m✔\u001b[39m \u001b[34mmodeldata   \u001b[39m 1.2.0     \u001b[32m✔\u001b[39m \u001b[34mworkflowsets\u001b[39m 1.0.1\n",
      "\u001b[32m✔\u001b[39m \u001b[34mparsnip     \u001b[39m 1.1.1     \u001b[32m✔\u001b[39m \u001b[34myardstick   \u001b[39m 1.2.0\n",
      "\u001b[32m✔\u001b[39m \u001b[34mrecipes     \u001b[39m 1.0.8     \n",
      "\n",
      "── \u001b[1mConflicts\u001b[22m ───────────────────────────────────────── tidymodels_conflicts() ──\n",
      "\u001b[31m✖\u001b[39m \u001b[34mscales\u001b[39m::\u001b[32mdiscard()\u001b[39m masks \u001b[34mpurrr\u001b[39m::discard()\n",
      "\u001b[31m✖\u001b[39m \u001b[34mdplyr\u001b[39m::\u001b[32mfilter()\u001b[39m   masks \u001b[34mstats\u001b[39m::filter()\n",
      "\u001b[31m✖\u001b[39m \u001b[34mrecipes\u001b[39m::\u001b[32mfixed()\u001b[39m  masks \u001b[34mstringr\u001b[39m::fixed()\n",
      "\u001b[31m✖\u001b[39m \u001b[34mdplyr\u001b[39m::\u001b[32mlag()\u001b[39m      masks \u001b[34mstats\u001b[39m::lag()\n",
      "\u001b[31m✖\u001b[39m \u001b[34myardstick\u001b[39m::\u001b[32mspec()\u001b[39m masks \u001b[34mreadr\u001b[39m::spec()\n",
      "\u001b[31m✖\u001b[39m \u001b[34mrecipes\u001b[39m::\u001b[32mstep()\u001b[39m   masks \u001b[34mstats\u001b[39m::step()\n",
      "\u001b[34m•\u001b[39m Learn how to get started at \u001b[32mhttps://www.tidymodels.org/start/\u001b[39m\n",
      "\n"
     ]
    }
   ],
   "source": [
    "# Importing libraries and setting seed\n",
    "library(tidyverse)\n",
    "library(tidymodels)\n",
    "\n",
    "set.seed(100)"
   ]
  },
  {
   "cell_type": "markdown",
   "id": "d4b064a9-275a-4ef0-b013-93c650cc47d6",
   "metadata": {},
   "source": [
    "#### Reading and wrangling the data from internet:"
   ]
  },
  {
   "cell_type": "code",
   "execution_count": 2,
   "id": "ee048b5d-9fb0-4dce-a0b9-2eede25ad6bc",
   "metadata": {},
   "outputs": [
    {
     "ename": "ERROR",
     "evalue": "Error in open.connection(structure(4L, class = c(\"curl\", \"connection\"), conn_id = <pointer: 0x380>), : HTTP error 404.\n",
     "output_type": "error",
     "traceback": [
      "Error in open.connection(structure(4L, class = c(\"curl\", \"connection\"), conn_id = <pointer: 0x380>), : HTTP error 404.\nTraceback:\n",
      "1. select(mutate(mutate(rename(read_csv(\"https://raw.githubusercontent.com/MichaelZhang33/HTRU2.csv/main/HTRU_2.arff\", \n .     skip = 11, col_names = FALSE), Profile_mean = X1, Profile_stdev = X2, \n .     Profile_skewness = X3, Profile_kurtosis = X4, DM_mean = X5, \n .     DM_stdev = X6, DM_skewness = X7, DM_kurtosis = X8, class = X9), \n .     class = as_factor(class)), Class = fct_recode(class, notpulsar = \"0\", \n .     pulsar = \"1\")), -Profile_mean, -Profile_stdev, -DM_stdev, \n .     -class)",
      "2. mutate(mutate(rename(read_csv(\"https://raw.githubusercontent.com/MichaelZhang33/HTRU2.csv/main/HTRU_2.arff\", \n .     skip = 11, col_names = FALSE), Profile_mean = X1, Profile_stdev = X2, \n .     Profile_skewness = X3, Profile_kurtosis = X4, DM_mean = X5, \n .     DM_stdev = X6, DM_skewness = X7, DM_kurtosis = X8, class = X9), \n .     class = as_factor(class)), Class = fct_recode(class, notpulsar = \"0\", \n .     pulsar = \"1\"))",
      "3. mutate(rename(read_csv(\"https://raw.githubusercontent.com/MichaelZhang33/HTRU2.csv/main/HTRU_2.arff\", \n .     skip = 11, col_names = FALSE), Profile_mean = X1, Profile_stdev = X2, \n .     Profile_skewness = X3, Profile_kurtosis = X4, DM_mean = X5, \n .     DM_stdev = X6, DM_skewness = X7, DM_kurtosis = X8, class = X9), \n .     class = as_factor(class))",
      "4. rename(read_csv(\"https://raw.githubusercontent.com/MichaelZhang33/HTRU2.csv/main/HTRU_2.arff\", \n .     skip = 11, col_names = FALSE), Profile_mean = X1, Profile_stdev = X2, \n .     Profile_skewness = X3, Profile_kurtosis = X4, DM_mean = X5, \n .     DM_stdev = X6, DM_skewness = X7, DM_kurtosis = X8, class = X9)",
      "5. read_csv(\"https://raw.githubusercontent.com/MichaelZhang33/HTRU2.csv/main/HTRU_2.arff\", \n .     skip = 11, col_names = FALSE)",
      "6. vroom::vroom(file, delim = \",\", col_names = col_names, col_types = col_types, \n .     col_select = {\n .         {\n .             col_select\n .         }\n .     }, id = id, .name_repair = name_repair, skip = skip, n_max = n_max, \n .     na = na, quote = quote, comment = comment, skip_empty_rows = skip_empty_rows, \n .     trim_ws = trim_ws, escape_double = TRUE, escape_backslash = FALSE, \n .     locale = locale, guess_max = guess_max, show_col_types = show_col_types, \n .     progress = progress, altrep = lazy, num_threads = num_threads)",
      "7. vroom_(file, delim = delim %||% col_types$delim, col_names = col_names, \n .     col_types = col_types, id = id, skip = skip, col_select = col_select, \n .     name_repair = .name_repair, na = na, quote = quote, trim_ws = trim_ws, \n .     escape_double = escape_double, escape_backslash = escape_backslash, \n .     comment = comment, skip_empty_rows = skip_empty_rows, locale = locale, \n .     guess_max = guess_max, n_max = n_max, altrep = vroom_altrep(altrep), \n .     num_threads = num_threads, progress = progress)",
      "8. (function (con, ...) \n . UseMethod(\"open\"))(structure(4L, class = c(\"curl\", \"connection\"\n . ), conn_id = <pointer: 0x380>), \"rb\")",
      "9. open.connection(structure(4L, class = c(\"curl\", \"connection\"), conn_id = <pointer: 0x380>), \n .     \"rb\")"
     ]
    }
   ],
   "source": [
    "# Since the initial data file is in a zip folder, we created a new repository on github, and \n",
    "# utilized the raw link to demonstrate that the data can be read from the web\n",
    "\n",
    "pulsar_df <- read_csv(\"https://raw.githubusercontent.com/MichaelZhang33/HTRU2.csv/main/HTRU_2.arff\", \n",
    "                      skip = 11, col_names = FALSE) |>\n",
    "    rename(\"Profile_mean\" = X1,\n",
    "       \"Profile_stdev\" = X2,\n",
    "       \"Profile_skewness\" = X3,\n",
    "       \"Profile_kurtosis\" = X4,\n",
    "       \"DM_mean\" = X5, \n",
    "       \"DM_stdev\" = X6, \n",
    "       \"DM_skewness\" = X7,\n",
    "       \"DM_kurtosis\" = X8,\n",
    "       \"class\" = X9) |>\n",
    "\n",
    "# Further wrangling and cleaning the data\n",
    "    mutate(class = as_factor(class)) |>\n",
    "    mutate(Class = fct_recode(class, \"notpulsar\" = \"0\", \"pulsar\" = \"1\")) |>\n",
    "    select(-Profile_mean, -Profile_stdev, -DM_stdev, -class)\n",
    "\n",
    "head(pulsar_df)\n",
    " \n",
    "\n",
    "# Splitting the dataset into a training and testing set\n",
    "pulsar_split <- initial_split(pulsar_df, prop = 0.75, strata = Class)\n",
    "pulsar_train <- training(pulsar_split)\n",
    "pulsar_test <- testing(pulsar_split)"
   ]
  },
  {
   "cell_type": "markdown",
   "id": "807f1503-23ef-40ef-97d7-435e260a7183",
   "metadata": {},
   "source": [
    "### Useful Tabular Data"
   ]
  },
  {
   "cell_type": "markdown",
   "id": "262e73da-a647-4f77-ab56-6497e95bb256",
   "metadata": {},
   "source": [
    "##### 1. Summary table for the number of pulsar star observations and non-pulsar star observations in the training set:"
   ]
  },
  {
   "cell_type": "code",
   "execution_count": null,
   "id": "6e8d8cbe-f618-431c-b35f-7e7169907af2",
   "metadata": {},
   "outputs": [],
   "source": [
    "useful_df_1 <- pulsar_train |>\n",
    "    group_by(Class) |>\n",
    "    summarize(count = n())\n",
    "useful_df_1\n",
    "\n",
    "# These results indicate that the dataset is not balanced, and will require oversampling of the positive \n",
    "# pulsar cases when creating the model."
   ]
  },
  {
   "cell_type": "markdown",
   "id": "0912c552-81bb-42f9-806e-3c63749e2bf0",
   "metadata": {},
   "source": [
    "##### 2. Summary table for the average value of each predictor variable based on class:"
   ]
  },
  {
   "cell_type": "code",
   "execution_count": null,
   "id": "d6947b56-7465-4da5-a5e1-75c52df6dc20",
   "metadata": {},
   "outputs": [],
   "source": [
    "useful_df_2 <- pulsar_train |>\n",
    "    group_by(Class) |>\n",
    "    summarize(mean_profile_skewness = mean(Profile_skewness), \n",
    "              mean_profile_kurtosis = mean(Profile_kurtosis), \n",
    "              mean_DM_mean = mean(DM_mean), \n",
    "              mean_DM_skewness = mean(DM_skewness), \n",
    "              mean_DM_kurtosis = mean(DM_kurtosis))\n",
    "useful_df_2"
   ]
  },
  {
   "cell_type": "markdown",
   "id": "b55d02e2-fb4e-4807-a2bb-7f73c424cd3c",
   "metadata": {},
   "source": [
    "##### 3. Number of rows in each column that have na values:"
   ]
  },
  {
   "cell_type": "code",
   "execution_count": null,
   "id": "7a7fbc01-78cd-4882-855a-4bec825e08d9",
   "metadata": {},
   "outputs": [],
   "source": [
    "useful_df_3 <- colSums(is.na(pulsar_train))\n",
    "useful_df_3"
   ]
  },
  {
   "cell_type": "markdown",
   "id": "14663b6f-60f7-4591-a1fa-1dde1ff6fca5",
   "metadata": {},
   "source": [
    "### Useful visualisations"
   ]
  },
  {
   "cell_type": "markdown",
   "id": "b711cfc5-d0f8-49bd-957a-3704f4388691",
   "metadata": {},
   "source": [
    "#### 1. Distribution of Profile_skewness"
   ]
  },
  {
   "cell_type": "code",
   "execution_count": null,
   "id": "7b4b10cb-0d80-4d6d-b7a2-8158504523fb",
   "metadata": {},
   "outputs": [],
   "source": [
    "profile_sk_distribution <- pulsar_train |>\n",
    "    select(Profile_skewness, Class) |>\n",
    "    ggplot(aes(x = Profile_skewness)) +\n",
    "    geom_histogram(bins = 10) +\n",
    "    labs(x= \"Skewness of the integrated profile\") +\n",
    "    ggtitle(\"Distribution of the skewness of the integrated profile\") +\n",
    "    theme(text = element_text(size = 15)) +\n",
    "    facet_grid(cols = vars(Class))\n",
    "profile_sk_distribution"
   ]
  },
  {
   "cell_type": "markdown",
   "id": "9cb4f325-31d1-414a-8fcb-96b5b0e62a85",
   "metadata": {},
   "source": [
    "#### 2. Distribution of Profile_kurtosis"
   ]
  },
  {
   "cell_type": "code",
   "execution_count": null,
   "id": "f5605b66-7c7c-4693-a035-0c22a8fc218f",
   "metadata": {},
   "outputs": [],
   "source": [
    "profile_kur_distribution <- pulsar_train |>\n",
    "    select(Profile_kurtosis, Class) |>\n",
    "    ggplot(aes(x = Profile_kurtosis)) +\n",
    "    geom_histogram(bins = 10) +\n",
    "    labs(x= \"Excess kurtosis of integrated profile\") +\n",
    "    ggtitle(\"Distribution of the excess kurtosis of integrated profile\") +\n",
    "    theme(text = element_text(size = 15)) +\n",
    "    facet_grid(cols = vars(Class))\n",
    "profile_kur_distribution"
   ]
  },
  {
   "cell_type": "markdown",
   "id": "42d9b6bb-327c-4e43-9905-b1cca5832273",
   "metadata": {},
   "source": [
    "#### 3. Distribution of DM_mean"
   ]
  },
  {
   "cell_type": "code",
   "execution_count": null,
   "id": "e35f2e29-4146-499f-902f-212c623de46d",
   "metadata": {},
   "outputs": [],
   "source": [
    "profile_dmMean_distribution <- pulsar_train |>\n",
    "    select(DM_mean, Class) |>\n",
    "    ggplot(aes(x = DM_mean)) +\n",
    "    geom_histogram(bins = 10) +\n",
    "    labs(x= \"Mean of DM-SNR curve\") +\n",
    "    ggtitle(\"Distribution of the mean of DM-SNR curve\") +\n",
    "    theme(text = element_text(size = 15)) +\n",
    "    facet_grid(cols = vars(Class))\n",
    "profile_dmMean_distribution"
   ]
  },
  {
   "cell_type": "markdown",
   "id": "b3a7d9ae-ccb8-4bdc-acbb-9263437c9685",
   "metadata": {},
   "source": [
    "#### 4. Distribution of DM_skewness"
   ]
  },
  {
   "cell_type": "code",
   "execution_count": null,
   "id": "71dd4508-e716-4789-b5e8-387288c6524d",
   "metadata": {},
   "outputs": [],
   "source": [
    "profile_dmsk_distribution <- pulsar_train |>\n",
    "    select(DM_skewness, Class) |>\n",
    "    ggplot(aes(x = DM_skewness)) +\n",
    "    geom_histogram(bins = 10) +\n",
    "    labs(x= \"Skewness of DM-SNR curve\") +\n",
    "    ggtitle(\"Distribution of the skewness of DM-SNR curve\") +\n",
    "    theme(text = element_text(size = 15)) +\n",
    "    facet_grid(cols = vars(Class))\n",
    "profile_dmsk_distribution"
   ]
  },
  {
   "cell_type": "markdown",
   "id": "976c31e3-ed42-4f2e-ae2a-e0db4df5713b",
   "metadata": {},
   "source": [
    "#### 5. Distribution of DM_kurtosis"
   ]
  },
  {
   "cell_type": "code",
   "execution_count": null,
   "id": "7f650b8a-676b-4015-9b05-9cc6931711c5",
   "metadata": {},
   "outputs": [],
   "source": [
    "profile_dmKur_distribution <- pulsar_train |>\n",
    "    select(DM_kurtosis, Class) |>\n",
    "    ggplot(aes(x = DM_kurtosis)) +\n",
    "    geom_histogram(bins = 10) +\n",
    "    labs(x= \"Kurtosis of DM-SNR curve\") +\n",
    "    ggtitle(\"Distribution of the kurtosis of DM-SNR curve\") +\n",
    "    theme(text = element_text(size = 15)) +\n",
    "    facet_grid(cols = vars(Class))\n",
    "profile_dmKur_distribution"
   ]
  },
  {
   "attachments": {},
   "cell_type": "markdown",
   "id": "35169e2e-e182-4d39-9d72-cef7cb34fc71",
   "metadata": {},
   "source": [
    "## Methods\n",
    "To answer our question, we will utilize some of the columns from the initial dataset. These include:\n",
    " \n",
    "1. The excess kurtosis of the integrated profile (*Profile_kurtosis*)\n",
    "2. The skewness of the integrated profile (*Profile_skewness*)\n",
    "3. Mean of the DM-SNR curve (*DM_mean*)\n",
    "4. Excess kurtosis of the DM-SNR curve (*DM_kurtosis*)\n",
    "5. Skewness of the DM-SNR curve (*DM_skewness*)\n",
    "6. Observation Class (the outcome variable)\n",
    "\n",
    "Using the first 5 columns, we will predict through *classification* to determine the observation class.\n",
    "These variables were chosen based on the nature of Pulsar stars as powerful yet fleeting signals, where the kurtosis and skewness of the integrated profile will help distinguish the transient nature of the star. Furthermore, the DM-SNR mean, kurtosis and skewness will indicate the strength and nature of the signal in comparison to background noise and radio frequency interference.\n",
    "\n",
    "\n",
    "**Visualisation:** We will visualize our results by creating a confusion matrix to visualize the performance of the model. Furthermore, we will utilize scatterplots to visualize the relationship between the predictor variables. \n",
    "\n",
    "## Expected outcomes and significance\n",
    "\n",
    "**What we expect to find**\n",
    "- For Pulsar stars, we expect a higher integrated profile DM_mean value and smaller kurtosis to be correlated with Pulsar stars, as it would indicate a more intense, fleeting beam of light. Furthermore, we expect there to be a lower skewness, and \n",
    "We expect to find correlations between a higher profile kurtosis and skewness, and a \n",
    "\n",
    "**Impacts of our finding**\n",
    "- This data analysis can help scientists in classifying if an observation is a Pulsar star, a matter of great scientific interest due to the nature of the stars as gravitational probes.\n",
    "\n",
    "**Future questions this data analysis could lead to:** \n",
    "- Are there any other factors that can help in determining whether an observation is a Pulsar star?\n",
    "- Are there other algorithms that may be more effective in classifying Pulsar status compared to K-NN? "
   ]
  },
  {
   "cell_type": "markdown",
   "id": "d9d0d313-121a-4f9c-a113-1cdea9d6778c",
   "metadata": {},
   "source": [
    "#### <center> References </center>\r\n",
    "Eatough, R. P., Molkenthin, N., Kramer, M., Noutsos, A., Keith, M. J., Stappers, B. W., & Lyne, A. G. (2010). Selection of radio pulsar candidates using artificial neural networks. Monthly Notices of the Royal Astronomical Society, 407(4), 2443–2450. https://doi.org/10.1111/j.1365-2966.2010.17082.x\n",
    "\n",
    "\n",
    "Ng, C., Champion, D. J., Bailes, M., Barr, E. D., Bates, S. D., Bhat, N. D. R., Burgay, M., Burke-Spolaor, S., Flynn, C. M. L., Jameson, A., Johnston, S., Keith, M. J., Kramer, M., Levin, L., Petroff, E., Possenti, A., Stappers, B. W., van Straten, W., Tiburzi, C., & Eatough, R. P. (2015). The High Time Resolution Universe Pulsar Survey – XII. Galactic plane acceleration search and the discovery of 60 pulsars. Monthly Notices of the Royal Astronomical Society, 450(3), 2922–2947. https://doi.org/10.1093/mnras/stv753\n",
    "\r\n"
   ]
  },
  {
   "cell_type": "code",
   "execution_count": null,
   "id": "2b3a1449-e169-4458-8640-e8b1e84dae3d",
   "metadata": {},
   "outputs": [],
   "source": []
  }
 ],
 "metadata": {
  "kernelspec": {
   "display_name": "R",
   "language": "R",
   "name": "ir"
  },
  "language_info": {
   "codemirror_mode": "r",
   "file_extension": ".r",
   "mimetype": "text/x-r-source",
   "name": "R",
   "pygments_lexer": "r",
   "version": "4.3.1"
  }
 },
 "nbformat": 4,
 "nbformat_minor": 5
}
