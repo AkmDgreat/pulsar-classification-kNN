{
 "cells": [
  {
   "cell_type": "markdown",
   "id": "917e9bb1-b1dd-4ebf-97a5-93c56387bda5",
   "metadata": {},
   "source": [
    "# Classifying Pulsar Candidates Using a K-NN Algorithm\n",
    "\n",
    "## Introduction\n",
    "- Pulsars are rotating neutron stars observed to have pulses of radiation at very regular intervals, typically ranging from milliseconds to seconds. These accelerated particles produce very powerful beams of light, with some pulsars producing enough radio emissions to be detected on Earth (Ng et al., 2015).\n",
    "- Detection of Pulsars is a complex task and involves discerning fleeting Pulsar signals from a copious amount of background radio frequency interference (Eatough et al., 2010). To aid in the detection of Pulsars, computer algorithms can speed up the process and accuracy. Within our project, we aim to create a supervised *K*-Nearest Neighbors algorithm in the binary classification of the Pulsar star state.\n",
    "\n",
    "\n",
    "\n",
    "**Predictive question:** Can we create a *K*-nearest neighbor algorithm capable of classifying whether an observation is a Pulsar star or not, given the kurtosis and skewness of the integrated profile, as well as the mean, kurtosis, and skewness of the DM-SNR curve?\n",
    "\n",
    "\n",
    "#### Dataset\n",
    "- The data set that we use describes a sample of pulsar candidates collected as part of the High Time Resolution Universe Survey of the southern hemisphere.\n",
    "- The data set contains a total of 8 different features and 1 class variable. The variables are measures of the dispersion measure-signal-to-noise ratio (DM-SNR) or the integrated profile of each recorded observation."
   ]
  },
  {
   "cell_type": "markdown",
   "id": "30e247f2-3d98-4ab9-a3f1-81736d03af1f",
   "metadata": {},
   "source": [
    "## Exploratory data analysis"
   ]
  },
  {
   "cell_type": "code",
   "execution_count": 1,
   "id": "84627c0e-2752-40d7-8feb-34fb72e799b5",
   "metadata": {},
   "outputs": [
    {
     "name": "stderr",
     "output_type": "stream",
     "text": [
      "Warning message:\n",
      "“package ‘ggplot2’ was built under R version 4.3.2”\n",
      "── \u001b[1mAttaching core tidyverse packages\u001b[22m ──────────────────────── tidyverse 2.0.0 ──\n",
      "\u001b[32m✔\u001b[39m \u001b[34mdplyr    \u001b[39m 1.1.3     \u001b[32m✔\u001b[39m \u001b[34mreadr    \u001b[39m 2.1.4\n",
      "\u001b[32m✔\u001b[39m \u001b[34mforcats  \u001b[39m 1.0.0     \u001b[32m✔\u001b[39m \u001b[34mstringr  \u001b[39m 1.5.0\n",
      "\u001b[32m✔\u001b[39m \u001b[34mggplot2  \u001b[39m 3.5.0     \u001b[32m✔\u001b[39m \u001b[34mtibble   \u001b[39m 3.2.1\n",
      "\u001b[32m✔\u001b[39m \u001b[34mlubridate\u001b[39m 1.9.2     \u001b[32m✔\u001b[39m \u001b[34mtidyr    \u001b[39m 1.3.0\n",
      "\u001b[32m✔\u001b[39m \u001b[34mpurrr    \u001b[39m 1.0.2     \n",
      "── \u001b[1mConflicts\u001b[22m ────────────────────────────────────────── tidyverse_conflicts() ──\n",
      "\u001b[31m✖\u001b[39m \u001b[34mdplyr\u001b[39m::\u001b[32mfilter()\u001b[39m masks \u001b[34mstats\u001b[39m::filter()\n",
      "\u001b[31m✖\u001b[39m \u001b[34mdplyr\u001b[39m::\u001b[32mlag()\u001b[39m    masks \u001b[34mstats\u001b[39m::lag()\n",
      "\u001b[36mℹ\u001b[39m Use the conflicted package (\u001b[3m\u001b[34m<http://conflicted.r-lib.org/>\u001b[39m\u001b[23m) to force all conflicts to become errors\n",
      "── \u001b[1mAttaching packages\u001b[22m ────────────────────────────────────── tidymodels 1.1.1 ──\n",
      "\n",
      "\u001b[32m✔\u001b[39m \u001b[34mbroom       \u001b[39m 1.0.5     \u001b[32m✔\u001b[39m \u001b[34mrsample     \u001b[39m 1.2.0\n",
      "\u001b[32m✔\u001b[39m \u001b[34mdials       \u001b[39m 1.2.0     \u001b[32m✔\u001b[39m \u001b[34mtune        \u001b[39m 1.1.2\n",
      "\u001b[32m✔\u001b[39m \u001b[34minfer       \u001b[39m 1.0.5     \u001b[32m✔\u001b[39m \u001b[34mworkflows   \u001b[39m 1.1.3\n",
      "\u001b[32m✔\u001b[39m \u001b[34mmodeldata   \u001b[39m 1.2.0     \u001b[32m✔\u001b[39m \u001b[34mworkflowsets\u001b[39m 1.0.1\n",
      "\u001b[32m✔\u001b[39m \u001b[34mparsnip     \u001b[39m 1.1.1     \u001b[32m✔\u001b[39m \u001b[34myardstick   \u001b[39m 1.2.0\n",
      "\u001b[32m✔\u001b[39m \u001b[34mrecipes     \u001b[39m 1.0.8     \n",
      "\n",
      "── \u001b[1mConflicts\u001b[22m ───────────────────────────────────────── tidymodels_conflicts() ──\n",
      "\u001b[31m✖\u001b[39m \u001b[34mscales\u001b[39m::\u001b[32mdiscard()\u001b[39m masks \u001b[34mpurrr\u001b[39m::discard()\n",
      "\u001b[31m✖\u001b[39m \u001b[34mdplyr\u001b[39m::\u001b[32mfilter()\u001b[39m   masks \u001b[34mstats\u001b[39m::filter()\n",
      "\u001b[31m✖\u001b[39m \u001b[34mrecipes\u001b[39m::\u001b[32mfixed()\u001b[39m  masks \u001b[34mstringr\u001b[39m::fixed()\n",
      "\u001b[31m✖\u001b[39m \u001b[34mdplyr\u001b[39m::\u001b[32mlag()\u001b[39m      masks \u001b[34mstats\u001b[39m::lag()\n",
      "\u001b[31m✖\u001b[39m \u001b[34myardstick\u001b[39m::\u001b[32mspec()\u001b[39m masks \u001b[34mreadr\u001b[39m::spec()\n",
      "\u001b[31m✖\u001b[39m \u001b[34mrecipes\u001b[39m::\u001b[32mstep()\u001b[39m   masks \u001b[34mstats\u001b[39m::step()\n",
      "\u001b[34m•\u001b[39m Search for functions across packages at \u001b[32mhttps://www.tidymodels.org/find/\u001b[39m\n",
      "\n",
      "Warning message:\n",
      "“package ‘GGally’ was built under R version 4.3.2”\n",
      "Registered S3 method overwritten by 'GGally':\n",
      "  method from   \n",
      "  +.gg   ggplot2\n",
      "\n",
      "also installing the dependencies ‘RANN’, ‘ROSE’\n",
      "\n",
      "\n",
      "Updating HTML index of packages in '.Library'\n",
      "\n",
      "Making 'packages.html' ...\n",
      " done\n",
      "\n"
     ]
    }
   ],
   "source": [
    "# Importing libraries and setting seed\n",
    "library(tidyverse)\n",
    "library(tidymodels)\n",
    "library(GGally)\n",
    "install.packages(\"themis\") \n",
    "\n",
    "\n",
    "set.seed(100)"
   ]
  },
  {
   "cell_type": "markdown",
   "id": "d4b064a9-275a-4ef0-b013-93c650cc47d6",
   "metadata": {},
   "source": [
    "#### Reading and wrangling the data from internet:"
   ]
  },
  {
   "cell_type": "markdown",
   "id": "53190306-995c-4691-8ebd-cb97fdb41120",
   "metadata": {},
   "source": [
    "First, we create two helper functions to keep track of the table numbers and graph number"
   ]
  },
  {
   "cell_type": "code",
   "execution_count": 2,
   "id": "0c9b5a41-f426-47f7-8769-fbd3d8c4db06",
   "metadata": {},
   "outputs": [],
   "source": [
    "table_count <- 0\n",
    "print_table_legend <- function(text) {\n",
    "    table_count <<- table_count + 1\n",
    "    print(paste(\"Table\", table_count,\":\",text))\n",
    "}\n",
    "\n",
    "graph_count <- 0\n",
    "print_graph_count <- function() {\n",
    "    graph_count <<- graph_count + 1\n",
    "    print(paste(\"Graph -\", graph_count))\n",
    "}"
   ]
  },
  {
   "cell_type": "markdown",
   "id": "cf9e9470-1645-4809-93f9-75011b3f3a88",
   "metadata": {},
   "source": [
    "Since the initial data file is in a zip folder, we created a new repository on github, and utilized the raw link to demonstrate that the data can be read from the web. Then, we wrangle and clean the data. First, we rename the columns to give them descriptive names.  Since we are interested in predicting the class of the star, we convert the class column to the type factor. Then, we select only the required columns (Profile_skewness, Profile_kurtosis, DM_mean, DM_skewness, DM_kurtosis, Class) and remove the rest."
   ]
  },
  {
   "cell_type": "code",
   "execution_count": 3,
   "id": "ee048b5d-9fb0-4dce-a0b9-2eede25ad6bc",
   "metadata": {},
   "outputs": [
    {
     "name": "stderr",
     "output_type": "stream",
     "text": [
      "\u001b[1mRows: \u001b[22m\u001b[34m17898\u001b[39m \u001b[1mColumns: \u001b[22m\u001b[34m9\u001b[39m\n",
      "\u001b[36m──\u001b[39m \u001b[1mColumn specification\u001b[22m \u001b[36m────────────────────────────────────────────────────────\u001b[39m\n",
      "\u001b[1mDelimiter:\u001b[22m \",\"\n",
      "\u001b[32mdbl\u001b[39m (9): X1, X2, X3, X4, X5, X6, X7, X8, X9\n",
      "\n",
      "\u001b[36mℹ\u001b[39m Use `spec()` to retrieve the full column specification for this data.\n",
      "\u001b[36mℹ\u001b[39m Specify the column types or set `show_col_types = FALSE` to quiet this message.\n"
     ]
    },
    {
     "data": {
      "text/html": [
       "<table class=\"dataframe\">\n",
       "<caption>A tibble: 6 × 6</caption>\n",
       "<thead>\n",
       "\t<tr><th scope=col>Profile_skewness</th><th scope=col>Profile_kurtosis</th><th scope=col>DM_mean</th><th scope=col>DM_skewness</th><th scope=col>DM_kurtosis</th><th scope=col>Class</th></tr>\n",
       "\t<tr><th scope=col>&lt;dbl&gt;</th><th scope=col>&lt;dbl&gt;</th><th scope=col>&lt;dbl&gt;</th><th scope=col>&lt;dbl&gt;</th><th scope=col>&lt;dbl&gt;</th><th scope=col>&lt;fct&gt;</th></tr>\n",
       "</thead>\n",
       "<tbody>\n",
       "\t<tr><td>-0.23457141</td><td>-0.6996484</td><td>3.199833</td><td> 7.975532</td><td> 74.24222</td><td>notpulsar</td></tr>\n",
       "\t<tr><td> 0.46531815</td><td>-0.5150879</td><td>1.677258</td><td>10.576487</td><td>127.39358</td><td>notpulsar</td></tr>\n",
       "\t<tr><td> 0.32332837</td><td> 1.0511644</td><td>3.121237</td><td> 7.735822</td><td> 63.17191</td><td>notpulsar</td></tr>\n",
       "\t<tr><td>-0.06841464</td><td>-0.6362384</td><td>3.642977</td><td> 6.896499</td><td> 53.59366</td><td>notpulsar</td></tr>\n",
       "\t<tr><td> 0.60086608</td><td> 1.1234917</td><td>1.178930</td><td>14.269573</td><td>252.56731</td><td>notpulsar</td></tr>\n",
       "\t<tr><td> 0.53190485</td><td> 0.4167211</td><td>1.636288</td><td>10.621748</td><td>131.39400</td><td>notpulsar</td></tr>\n",
       "</tbody>\n",
       "</table>\n"
      ],
      "text/latex": [
       "A tibble: 6 × 6\n",
       "\\begin{tabular}{llllll}\n",
       " Profile\\_skewness & Profile\\_kurtosis & DM\\_mean & DM\\_skewness & DM\\_kurtosis & Class\\\\\n",
       " <dbl> & <dbl> & <dbl> & <dbl> & <dbl> & <fct>\\\\\n",
       "\\hline\n",
       "\t -0.23457141 & -0.6996484 & 3.199833 &  7.975532 &  74.24222 & notpulsar\\\\\n",
       "\t  0.46531815 & -0.5150879 & 1.677258 & 10.576487 & 127.39358 & notpulsar\\\\\n",
       "\t  0.32332837 &  1.0511644 & 3.121237 &  7.735822 &  63.17191 & notpulsar\\\\\n",
       "\t -0.06841464 & -0.6362384 & 3.642977 &  6.896499 &  53.59366 & notpulsar\\\\\n",
       "\t  0.60086608 &  1.1234917 & 1.178930 & 14.269573 & 252.56731 & notpulsar\\\\\n",
       "\t  0.53190485 &  0.4167211 & 1.636288 & 10.621748 & 131.39400 & notpulsar\\\\\n",
       "\\end{tabular}\n"
      ],
      "text/markdown": [
       "\n",
       "A tibble: 6 × 6\n",
       "\n",
       "| Profile_skewness &lt;dbl&gt; | Profile_kurtosis &lt;dbl&gt; | DM_mean &lt;dbl&gt; | DM_skewness &lt;dbl&gt; | DM_kurtosis &lt;dbl&gt; | Class &lt;fct&gt; |\n",
       "|---|---|---|---|---|---|\n",
       "| -0.23457141 | -0.6996484 | 3.199833 |  7.975532 |  74.24222 | notpulsar |\n",
       "|  0.46531815 | -0.5150879 | 1.677258 | 10.576487 | 127.39358 | notpulsar |\n",
       "|  0.32332837 |  1.0511644 | 3.121237 |  7.735822 |  63.17191 | notpulsar |\n",
       "| -0.06841464 | -0.6362384 | 3.642977 |  6.896499 |  53.59366 | notpulsar |\n",
       "|  0.60086608 |  1.1234917 | 1.178930 | 14.269573 | 252.56731 | notpulsar |\n",
       "|  0.53190485 |  0.4167211 | 1.636288 | 10.621748 | 131.39400 | notpulsar |\n",
       "\n"
      ],
      "text/plain": [
       "  Profile_skewness Profile_kurtosis DM_mean  DM_skewness DM_kurtosis Class    \n",
       "1 -0.23457141      -0.6996484       3.199833  7.975532    74.24222   notpulsar\n",
       "2  0.46531815      -0.5150879       1.677258 10.576487   127.39358   notpulsar\n",
       "3  0.32332837       1.0511644       3.121237  7.735822    63.17191   notpulsar\n",
       "4 -0.06841464      -0.6362384       3.642977  6.896499    53.59366   notpulsar\n",
       "5  0.60086608       1.1234917       1.178930 14.269573   252.56731   notpulsar\n",
       "6  0.53190485       0.4167211       1.636288 10.621748   131.39400   notpulsar"
      ]
     },
     "metadata": {},
     "output_type": "display_data"
    },
    {
     "name": "stdout",
     "output_type": "stream",
     "text": [
      "[1] \"Table 1 : Wrangled and cleaned data for analysis\"\n"
     ]
    }
   ],
   "source": [
    "pulsar_df <- read_csv(\"https://raw.githubusercontent.com/MichaelZhang33/HTRU21.csv/main/HTRU_2.arff\", \n",
    "                       skip = 11, col_names = FALSE) |>\n",
    "     rename(\"Profile_mean\" = X1,\n",
    "        \"Profile_stdev\" = X2,\n",
    "        \"Profile_skewness\" = X3,\n",
    "        \"Profile_kurtosis\" = X4,\n",
    "        \"DM_mean\" = X5, \n",
    "        \"DM_stdev\" = X6, \n",
    "        \"DM_skewness\" = X7,\n",
    "        \"DM_kurtosis\" = X8,\n",
    "        \"class\" = X9) |>\n",
    "    mutate(class = as_factor(class)) |>\n",
    "    mutate(Class = fct_recode(class, \"notpulsar\" = \"0\", \"pulsar\" = \"1\")) |>\n",
    "    select(-Profile_mean, -Profile_stdev, -DM_stdev, -class)\n",
    "\n",
    "head(pulsar_df)\n",
    "print_table_legend(\"Wrangled and cleaned data for analysis\")"
   ]
  },
  {
   "cell_type": "markdown",
   "id": "1b984db1-38f1-4290-93b1-aaa735788448",
   "metadata": {},
   "source": [
    "Now, we split the data into training and testing data. We train our model using 75% of the data, and test with the other 25% of the data. We stratify our data based on `Class`, because that is what we are interested in predicting."
   ]
  },
  {
   "cell_type": "code",
   "execution_count": 4,
   "id": "276a38b2-6285-4af4-98ed-289ed9efd42c",
   "metadata": {},
   "outputs": [],
   "source": [
    "# Splitting the dataset into a training and testing set\n",
    "pulsar_split <- initial_split(pulsar_df, prop = 0.75, strata = Class)\n",
    "pulsar_train <- training(pulsar_split)\n",
    "pulsar_test <- testing(pulsar_split)"
   ]
  },
  {
   "cell_type": "markdown",
   "id": "807f1503-23ef-40ef-97d7-435e260a7183",
   "metadata": {},
   "source": [
    "### Useful Tabular Data"
   ]
  },
  {
   "cell_type": "markdown",
   "id": "262e73da-a647-4f77-ab56-6497e95bb256",
   "metadata": {},
   "source": [
    "##### 1. Summary table for the number of pulsar star observations and non-pulsar star observations in the training set:"
   ]
  },
  {
   "cell_type": "code",
   "execution_count": 5,
   "id": "6e8d8cbe-f618-431c-b35f-7e7169907af2",
   "metadata": {},
   "outputs": [
    {
     "data": {
      "text/html": [
       "<table class=\"dataframe\">\n",
       "<caption>A tibble: 2 × 2</caption>\n",
       "<thead>\n",
       "\t<tr><th scope=col>Class</th><th scope=col>count</th></tr>\n",
       "\t<tr><th scope=col>&lt;fct&gt;</th><th scope=col>&lt;int&gt;</th></tr>\n",
       "</thead>\n",
       "<tbody>\n",
       "\t<tr><td>notpulsar</td><td>12182</td></tr>\n",
       "\t<tr><td>pulsar   </td><td> 1241</td></tr>\n",
       "</tbody>\n",
       "</table>\n"
      ],
      "text/latex": [
       "A tibble: 2 × 2\n",
       "\\begin{tabular}{ll}\n",
       " Class & count\\\\\n",
       " <fct> & <int>\\\\\n",
       "\\hline\n",
       "\t notpulsar & 12182\\\\\n",
       "\t pulsar    &  1241\\\\\n",
       "\\end{tabular}\n"
      ],
      "text/markdown": [
       "\n",
       "A tibble: 2 × 2\n",
       "\n",
       "| Class &lt;fct&gt; | count &lt;int&gt; |\n",
       "|---|---|\n",
       "| notpulsar | 12182 |\n",
       "| pulsar    |  1241 |\n",
       "\n"
      ],
      "text/plain": [
       "  Class     count\n",
       "1 notpulsar 12182\n",
       "2 pulsar     1241"
      ]
     },
     "metadata": {},
     "output_type": "display_data"
    },
    {
     "name": "stdout",
     "output_type": "stream",
     "text": [
      "[1] \"Table 2 : Number of pulsars and non-pulsars in the data set\"\n"
     ]
    }
   ],
   "source": [
    "useful_df_1 <- pulsar_train |>\n",
    "    group_by(Class) |>\n",
    "    summarize(count = n())\n",
    "useful_df_1\n",
    "\n",
    "\n",
    "print_table_legend(\"Number of pulsars and non-pulsars in the data set\")"
   ]
  },
  {
   "cell_type": "markdown",
   "id": "58cd829c-48b9-40a1-a2e2-5f223c266044",
   "metadata": {},
   "source": [
    "These results indicate that the dataset is not balanced, and classification algorithms can perform badly when trained on imbalanced datasets. Oversampling can be a useful way of overcoming the class imbalance and hence improving the model’s performance. Hence, will require oversampling of the positive pulsar cases when creating the model."
   ]
  },
  {
   "cell_type": "code",
   "execution_count": 6,
   "id": "c9ec4de7-feb4-4b39-961f-defba8aa1628",
   "metadata": {},
   "outputs": [
    {
     "data": {
      "text/html": [
       "<table class=\"dataframe\">\n",
       "<caption>A tibble: 2 × 2</caption>\n",
       "<thead>\n",
       "\t<tr><th scope=col>Class</th><th scope=col>n</th></tr>\n",
       "\t<tr><th scope=col>&lt;fct&gt;</th><th scope=col>&lt;int&gt;</th></tr>\n",
       "</thead>\n",
       "<tbody>\n",
       "\t<tr><td>notpulsar</td><td>12182</td></tr>\n",
       "\t<tr><td>pulsar   </td><td>12182</td></tr>\n",
       "</tbody>\n",
       "</table>\n"
      ],
      "text/latex": [
       "A tibble: 2 × 2\n",
       "\\begin{tabular}{ll}\n",
       " Class & n\\\\\n",
       " <fct> & <int>\\\\\n",
       "\\hline\n",
       "\t notpulsar & 12182\\\\\n",
       "\t pulsar    & 12182\\\\\n",
       "\\end{tabular}\n"
      ],
      "text/markdown": [
       "\n",
       "A tibble: 2 × 2\n",
       "\n",
       "| Class &lt;fct&gt; | n &lt;int&gt; |\n",
       "|---|---|\n",
       "| notpulsar | 12182 |\n",
       "| pulsar    | 12182 |\n",
       "\n"
      ],
      "text/plain": [
       "  Class     n    \n",
       "1 notpulsar 12182\n",
       "2 pulsar    12182"
      ]
     },
     "metadata": {},
     "output_type": "display_data"
    }
   ],
   "source": [
    "library(themis)\n",
    "balance_recipe <- recipe(Class ~ ., data = pulsar_train) |>\n",
    "  step_upsample(Class, over_ratio = 1, skip = FALSE) |>\n",
    "    prep()\n",
    "\n",
    "pulsar_train <- bake(balance_recipe, pulsar_train)\n",
    "pulsar_train |>\n",
    "    group_by(Class) |>\n",
    "    summarize(n = n())"
   ]
  },
  {
   "cell_type": "markdown",
   "id": "0912c552-81bb-42f9-806e-3c63749e2bf0",
   "metadata": {},
   "source": [
    "##### 2. Summary table for the average value of each predictor variable based on class:"
   ]
  },
  {
   "cell_type": "code",
   "execution_count": 7,
   "id": "d6947b56-7465-4da5-a5e1-75c52df6dc20",
   "metadata": {},
   "outputs": [
    {
     "data": {
      "text/html": [
       "<table class=\"dataframe\">\n",
       "<caption>A tibble: 2 × 6</caption>\n",
       "<thead>\n",
       "\t<tr><th scope=col>Class</th><th scope=col>mean_profile_skewness</th><th scope=col>mean_profile_kurtosis</th><th scope=col>mean_DM_mean</th><th scope=col>mean_DM_skewness</th><th scope=col>mean_DM_kurtosis</th></tr>\n",
       "\t<tr><th scope=col>&lt;fct&gt;</th><th scope=col>&lt;dbl&gt;</th><th scope=col>&lt;dbl&gt;</th><th scope=col>&lt;dbl&gt;</th><th scope=col>&lt;dbl&gt;</th><th scope=col>&lt;dbl&gt;</th></tr>\n",
       "</thead>\n",
       "<tbody>\n",
       "\t<tr><td>notpulsar</td><td>0.2118807</td><td> 0.385433</td><td> 8.712282</td><td>8.899551</td><td>114.56026</td></tr>\n",
       "\t<tr><td>pulsar   </td><td>3.1286256</td><td>15.437317</td><td>51.057610</td><td>2.737057</td><td> 18.40868</td></tr>\n",
       "</tbody>\n",
       "</table>\n"
      ],
      "text/latex": [
       "A tibble: 2 × 6\n",
       "\\begin{tabular}{llllll}\n",
       " Class & mean\\_profile\\_skewness & mean\\_profile\\_kurtosis & mean\\_DM\\_mean & mean\\_DM\\_skewness & mean\\_DM\\_kurtosis\\\\\n",
       " <fct> & <dbl> & <dbl> & <dbl> & <dbl> & <dbl>\\\\\n",
       "\\hline\n",
       "\t notpulsar & 0.2118807 &  0.385433 &  8.712282 & 8.899551 & 114.56026\\\\\n",
       "\t pulsar    & 3.1286256 & 15.437317 & 51.057610 & 2.737057 &  18.40868\\\\\n",
       "\\end{tabular}\n"
      ],
      "text/markdown": [
       "\n",
       "A tibble: 2 × 6\n",
       "\n",
       "| Class &lt;fct&gt; | mean_profile_skewness &lt;dbl&gt; | mean_profile_kurtosis &lt;dbl&gt; | mean_DM_mean &lt;dbl&gt; | mean_DM_skewness &lt;dbl&gt; | mean_DM_kurtosis &lt;dbl&gt; |\n",
       "|---|---|---|---|---|---|\n",
       "| notpulsar | 0.2118807 |  0.385433 |  8.712282 | 8.899551 | 114.56026 |\n",
       "| pulsar    | 3.1286256 | 15.437317 | 51.057610 | 2.737057 |  18.40868 |\n",
       "\n"
      ],
      "text/plain": [
       "  Class     mean_profile_skewness mean_profile_kurtosis mean_DM_mean\n",
       "1 notpulsar 0.2118807              0.385433              8.712282   \n",
       "2 pulsar    3.1286256             15.437317             51.057610   \n",
       "  mean_DM_skewness mean_DM_kurtosis\n",
       "1 8.899551         114.56026       \n",
       "2 2.737057          18.40868       "
      ]
     },
     "metadata": {},
     "output_type": "display_data"
    },
    {
     "name": "stdout",
     "output_type": "stream",
     "text": [
      "[1] \"Table 3 : Average value of each predictor in the data set\"\n"
     ]
    }
   ],
   "source": [
    "useful_df_2 <- pulsar_train |>\n",
    "    group_by(Class) |>\n",
    "    summarize(mean_profile_skewness = mean(Profile_skewness), \n",
    "              mean_profile_kurtosis = mean(Profile_kurtosis), \n",
    "              mean_DM_mean = mean(DM_mean), \n",
    "              mean_DM_skewness = mean(DM_skewness), \n",
    "              mean_DM_kurtosis = mean(DM_kurtosis))\n",
    "useful_df_2\n",
    "print_table_legend(\"Average value of each predictor in the data set\")"
   ]
  },
  {
   "cell_type": "markdown",
   "id": "b55d02e2-fb4e-4807-a2bb-7f73c424cd3c",
   "metadata": {},
   "source": [
    "##### 3. Number of rows in each column that have na values:"
   ]
  },
  {
   "cell_type": "code",
   "execution_count": 8,
   "id": "7a7fbc01-78cd-4882-855a-4bec825e08d9",
   "metadata": {},
   "outputs": [
    {
     "data": {
      "text/html": [
       "<style>\n",
       ".dl-inline {width: auto; margin:0; padding: 0}\n",
       ".dl-inline>dt, .dl-inline>dd {float: none; width: auto; display: inline-block}\n",
       ".dl-inline>dt::after {content: \":\\0020\"; padding-right: .5ex}\n",
       ".dl-inline>dt:not(:first-of-type) {padding-left: .5ex}\n",
       "</style><dl class=dl-inline><dt>Profile_skewness</dt><dd>0</dd><dt>Profile_kurtosis</dt><dd>0</dd><dt>DM_mean</dt><dd>0</dd><dt>DM_skewness</dt><dd>0</dd><dt>DM_kurtosis</dt><dd>0</dd><dt>Class</dt><dd>0</dd></dl>\n"
      ],
      "text/latex": [
       "\\begin{description*}\n",
       "\\item[Profile\\textbackslash{}\\_skewness] 0\n",
       "\\item[Profile\\textbackslash{}\\_kurtosis] 0\n",
       "\\item[DM\\textbackslash{}\\_mean] 0\n",
       "\\item[DM\\textbackslash{}\\_skewness] 0\n",
       "\\item[DM\\textbackslash{}\\_kurtosis] 0\n",
       "\\item[Class] 0\n",
       "\\end{description*}\n"
      ],
      "text/markdown": [
       "Profile_skewness\n",
       ":   0Profile_kurtosis\n",
       ":   0DM_mean\n",
       ":   0DM_skewness\n",
       ":   0DM_kurtosis\n",
       ":   0Class\n",
       ":   0\n",
       "\n"
      ],
      "text/plain": [
       "Profile_skewness Profile_kurtosis          DM_mean      DM_skewness \n",
       "               0                0                0                0 \n",
       "     DM_kurtosis            Class \n",
       "               0                0 "
      ]
     },
     "metadata": {},
     "output_type": "display_data"
    },
    {
     "name": "stdout",
     "output_type": "stream",
     "text": [
      "[1] \"Table 4 : Number of n/a values in the table\"\n"
     ]
    }
   ],
   "source": [
    "useful_df_3 <- colSums(is.na(pulsar_train))\n",
    "useful_df_3\n",
    "print_table_legend(\"Number of n/a values in the table\")"
   ]
  },
  {
   "cell_type": "markdown",
   "id": "14663b6f-60f7-4591-a1fa-1dde1ff6fca5",
   "metadata": {},
   "source": [
    "### Useful visualisations"
   ]
  },
  {
   "cell_type": "code",
   "execution_count": null,
   "id": "108a8731-a818-47f5-8016-9a771386d063",
   "metadata": {},
   "outputs": [],
   "source": [
    "ggpairs_vis <- pulsar_train |>\n",
    "    ggpairs()"
   ]
  },
  {
   "attachments": {},
   "cell_type": "markdown",
   "id": "35169e2e-e182-4d39-9d72-cef7cb34fc71",
   "metadata": {},
   "source": [
    "## Methods and Results\n",
    "\n",
    "### Methods\n",
    "To answer our question, we will utilize some of the columns from the initial dataset. These include:\n",
    " \n",
    "1. The excess kurtosis of the integrated profile (*Profile_kurtosis*)\n",
    "2. The skewness of the integrated profile (*Profile_skewness*)\n",
    "3. Mean of the DM-SNR curve (*DM_mean*)\n",
    "4. Excess kurtosis of the DM-SNR curve (*DM_kurtosis*)\n",
    "5. Skewness of the DM-SNR curve (*DM_skewness*)\n",
    "6. Observation Class (the outcome variable)\n",
    "\n",
    "Using the first 5 columns, we will predict through *classification* to determine the observation class.\n",
    "These variables were chosen based on the nature of Pulsar stars as powerful yet fleeting signals, where the kurtosis and skewness of the integrated profile will help distinguish the transient nature of the star. Furthermore, the DM-SNR mean, kurtosis and skewness will indicate the strength and nature of the signal in comparison to background noise and radio frequency interference.\n",
    "\n",
    "\n",
    "**Visualisation:** We will visualize our results by creating a confusion matrix to visualize the performance of the model. Furthermore, we will utilize histogram to visualize the relationship between the predictor variables. "
   ]
  },
  {
   "cell_type": "markdown",
   "id": "f5c3d521-dd8b-4f5c-8380-500df1c5ec1b",
   "metadata": {},
   "source": [
    "### Results"
   ]
  },
  {
   "cell_type": "markdown",
   "id": "70a92b31-722c-401b-9e1f-2c6101956e2d",
   "metadata": {},
   "source": [
    "First we create a workflow to make our model. We will use 20 values of K, lying between K=1 to K=100, and find the best value of K for our model. Then, we perform 5-fold validation, which improves the choice of K as well."
   ]
  },
  {
   "cell_type": "code",
   "execution_count": 9,
   "id": "c20d6d5e-2d3a-46c6-81d5-11084bcb9917",
   "metadata": {},
   "outputs": [
    {
     "data": {
      "text/html": [
       "<table class=\"dataframe\">\n",
       "<caption>A tibble: 6 × 7</caption>\n",
       "<thead>\n",
       "\t<tr><th scope=col>neighbors</th><th scope=col>.metric</th><th scope=col>.estimator</th><th scope=col>mean</th><th scope=col>n</th><th scope=col>std_err</th><th scope=col>.config</th></tr>\n",
       "\t<tr><th scope=col>&lt;int&gt;</th><th scope=col>&lt;chr&gt;</th><th scope=col>&lt;chr&gt;</th><th scope=col>&lt;dbl&gt;</th><th scope=col>&lt;int&gt;</th><th scope=col>&lt;dbl&gt;</th><th scope=col>&lt;chr&gt;</th></tr>\n",
       "</thead>\n",
       "<tbody>\n",
       "\t<tr><td>1</td><td>accuracy</td><td>binary</td><td>0.9890822</td><td>5</td><td>0.0008297681</td><td>Preprocessor1_Model001</td></tr>\n",
       "\t<tr><td>2</td><td>accuracy</td><td>binary</td><td>0.9890822</td><td>5</td><td>0.0008297681</td><td>Preprocessor1_Model002</td></tr>\n",
       "\t<tr><td>3</td><td>accuracy</td><td>binary</td><td>0.9814891</td><td>5</td><td>0.0011707210</td><td>Preprocessor1_Model003</td></tr>\n",
       "\t<tr><td>4</td><td>accuracy</td><td>binary</td><td>0.9814891</td><td>5</td><td>0.0011707210</td><td>Preprocessor1_Model004</td></tr>\n",
       "\t<tr><td>5</td><td>accuracy</td><td>binary</td><td>0.9752505</td><td>5</td><td>0.0011205670</td><td>Preprocessor1_Model005</td></tr>\n",
       "\t<tr><td>6</td><td>accuracy</td><td>binary</td><td>0.9752505</td><td>5</td><td>0.0011205670</td><td>Preprocessor1_Model006</td></tr>\n",
       "</tbody>\n",
       "</table>\n"
      ],
      "text/latex": [
       "A tibble: 6 × 7\n",
       "\\begin{tabular}{lllllll}\n",
       " neighbors & .metric & .estimator & mean & n & std\\_err & .config\\\\\n",
       " <int> & <chr> & <chr> & <dbl> & <int> & <dbl> & <chr>\\\\\n",
       "\\hline\n",
       "\t 1 & accuracy & binary & 0.9890822 & 5 & 0.0008297681 & Preprocessor1\\_Model001\\\\\n",
       "\t 2 & accuracy & binary & 0.9890822 & 5 & 0.0008297681 & Preprocessor1\\_Model002\\\\\n",
       "\t 3 & accuracy & binary & 0.9814891 & 5 & 0.0011707210 & Preprocessor1\\_Model003\\\\\n",
       "\t 4 & accuracy & binary & 0.9814891 & 5 & 0.0011707210 & Preprocessor1\\_Model004\\\\\n",
       "\t 5 & accuracy & binary & 0.9752505 & 5 & 0.0011205670 & Preprocessor1\\_Model005\\\\\n",
       "\t 6 & accuracy & binary & 0.9752505 & 5 & 0.0011205670 & Preprocessor1\\_Model006\\\\\n",
       "\\end{tabular}\n"
      ],
      "text/markdown": [
       "\n",
       "A tibble: 6 × 7\n",
       "\n",
       "| neighbors &lt;int&gt; | .metric &lt;chr&gt; | .estimator &lt;chr&gt; | mean &lt;dbl&gt; | n &lt;int&gt; | std_err &lt;dbl&gt; | .config &lt;chr&gt; |\n",
       "|---|---|---|---|---|---|---|\n",
       "| 1 | accuracy | binary | 0.9890822 | 5 | 0.0008297681 | Preprocessor1_Model001 |\n",
       "| 2 | accuracy | binary | 0.9890822 | 5 | 0.0008297681 | Preprocessor1_Model002 |\n",
       "| 3 | accuracy | binary | 0.9814891 | 5 | 0.0011707210 | Preprocessor1_Model003 |\n",
       "| 4 | accuracy | binary | 0.9814891 | 5 | 0.0011707210 | Preprocessor1_Model004 |\n",
       "| 5 | accuracy | binary | 0.9752505 | 5 | 0.0011205670 | Preprocessor1_Model005 |\n",
       "| 6 | accuracy | binary | 0.9752505 | 5 | 0.0011205670 | Preprocessor1_Model006 |\n",
       "\n"
      ],
      "text/plain": [
       "  neighbors .metric  .estimator mean      n std_err      .config               \n",
       "1 1         accuracy binary     0.9890822 5 0.0008297681 Preprocessor1_Model001\n",
       "2 2         accuracy binary     0.9890822 5 0.0008297681 Preprocessor1_Model002\n",
       "3 3         accuracy binary     0.9814891 5 0.0011707210 Preprocessor1_Model003\n",
       "4 4         accuracy binary     0.9814891 5 0.0011707210 Preprocessor1_Model004\n",
       "5 5         accuracy binary     0.9752505 5 0.0011205670 Preprocessor1_Model005\n",
       "6 6         accuracy binary     0.9752505 5 0.0011205670 Preprocessor1_Model006"
      ]
     },
     "metadata": {},
     "output_type": "display_data"
    },
    {
     "name": "stdout",
     "output_type": "stream",
     "text": [
      "[1] \"Table 5 : Accuracy of classifier for each K-value in range 1 to 100\"\n"
     ]
    }
   ],
   "source": [
    "set.seed(1)\n",
    "\n",
    "options(repr.plot.height = 5, repr.plot.width = 6)\n",
    "\n",
    "knn_vfold <- vfold_cv(pulsar_train, v = 5, strata = Class)\n",
    "\n",
    "knn_recipe <- recipe(Class ~., data = pulsar_train) |>\n",
    "    step_scale(all_predictors()) |>\n",
    "    step_center(all_predictors())\n",
    "\n",
    "\n",
    "knn_tune <- nearest_neighbor(weight_func = \"rectangular\", neighbors = tune()) |>\n",
    "    set_engine(\"kknn\") |>\n",
    "    set_mode(\"classification\")\n",
    "\n",
    "\n",
    "gridvals <- tibble(neighbors = 1:100)\n",
    "\n",
    "knn_results <- workflow() |>\n",
    "  add_recipe(knn_recipe) |>\n",
    "  add_model(knn_tune) |>\n",
    "  tune_grid(resamples = knn_vfold, grid = gridvals) |>\n",
    "  collect_metrics()\n",
    "\n",
    "\n",
    "accuracies <- knn_results |>\n",
    "  filter(.metric == \"accuracy\")\n",
    "head(accuracies)\n",
    "print_table_legend(\"Accuracy of classifier for each K-value in range 1 to 100\")"
   ]
  },
  {
   "cell_type": "markdown",
   "id": "879c4dee-7d41-4ee5-894b-0a0706582c5a",
   "metadata": {},
   "source": [
    "Now, we create a graph to plot the accuracies of our model for each value of K"
   ]
  },
  {
   "cell_type": "code",
   "execution_count": 10,
   "id": "2c9fd79a-6780-4778-add4-19eaa747fb44",
   "metadata": {},
   "outputs": [
    {
     "data": {
      "application/pdf": "[encoded data removed]",
      "image/jpeg": "[encoded data removed]",
      "image/png": "[encoded data removed]",
      "image/svg+xml": [
       "<?xml version=\"1.0\" encoding=\"UTF-8\"?>\n",
       "<svg xmlns=\"http://www.w3.org/2000/svg\" xmlns:xlink=\"http://www.w3.org/1999/xlink\" width=\"432pt\" height=\"360pt\" viewBox=\"0 0 432 360\" version=\"1.1\">\n",
       "<defs>\n",
       "<g>\n",
       "<symbol overflow=\"visible\" id=\"glyph0-0\">\n",
       "<path style=\"stroke:none;\" d=\"M 0.3125 0 L 0.3125 -6.390625 L 2.859375 -6.390625 L 2.859375 0 Z M 0.640625 -0.3125 L 2.546875 -0.3125 L 2.546875 -6.078125 L 0.640625 -6.078125 Z M 0.640625 -0.3125 \"/>\n",
       "</symbol>\n",
       "<symbol overflow=\"visible\" id=\"glyph0-1\">\n",
       "<path style=\"stroke:none;\" d=\"M 4.953125 -3.296875 C 4.953125 -2.671875 4.890625 -2.140625 4.765625 -1.703125 C 4.648438 -1.265625 4.488281 -0.910156 4.28125 -0.640625 C 4.082031 -0.378906 3.84375 -0.191406 3.5625 -0.078125 C 3.28125 0.0351562 2.976562 0.09375 2.65625 0.09375 C 2.332031 0.09375 2.03125 0.0351562 1.75 -0.078125 C 1.476562 -0.191406 1.238281 -0.378906 1.03125 -0.640625 C 0.820312 -0.910156 0.660156 -1.257812 0.546875 -1.6875 C 0.429688 -2.125 0.375 -2.660156 0.375 -3.296875 C 0.375 -3.960938 0.429688 -4.515625 0.546875 -4.953125 C 0.660156 -5.390625 0.820312 -5.738281 1.03125 -6 C 1.238281 -6.257812 1.484375 -6.441406 1.765625 -6.546875 C 2.046875 -6.648438 2.351562 -6.703125 2.6875 -6.703125 C 3 -6.703125 3.289062 -6.648438 3.5625 -6.546875 C 3.84375 -6.441406 4.085938 -6.257812 4.296875 -6 C 4.503906 -5.738281 4.664062 -5.390625 4.78125 -4.953125 C 4.894531 -4.515625 4.953125 -3.960938 4.953125 -3.296875 Z M 4.109375 -3.296875 C 4.109375 -3.828125 4.078125 -4.265625 4.015625 -4.609375 C 3.953125 -4.960938 3.859375 -5.238281 3.734375 -5.4375 C 3.609375 -5.644531 3.457031 -5.789062 3.28125 -5.875 C 3.101562 -5.96875 2.90625 -6.015625 2.6875 -6.015625 C 2.445312 -6.015625 2.234375 -5.96875 2.046875 -5.875 C 1.867188 -5.789062 1.71875 -5.644531 1.59375 -5.4375 C 1.476562 -5.226562 1.390625 -4.945312 1.328125 -4.59375 C 1.265625 -4.25 1.234375 -3.816406 1.234375 -3.296875 C 1.234375 -2.796875 1.265625 -2.367188 1.328125 -2.015625 C 1.390625 -1.671875 1.484375 -1.394531 1.609375 -1.1875 C 1.734375 -0.976562 1.882812 -0.828125 2.0625 -0.734375 C 2.238281 -0.640625 2.441406 -0.59375 2.671875 -0.59375 C 2.890625 -0.59375 3.085938 -0.640625 3.265625 -0.734375 C 3.441406 -0.828125 3.59375 -0.976562 3.71875 -1.1875 C 3.84375 -1.394531 3.9375 -1.671875 4 -2.015625 C 4.070312 -2.367188 4.109375 -2.796875 4.109375 -3.296875 Z M 4.109375 -3.296875 \"/>\n",
       "</symbol>\n",
       "<symbol overflow=\"visible\" id=\"glyph0-2\">\n",
       "<path style=\"stroke:none;\" d=\"M 0.875 0 L 0.875 -1.03125 L 1.796875 -1.03125 L 1.796875 0 Z M 0.875 0 \"/>\n",
       "</symbol>\n",
       "<symbol overflow=\"visible\" id=\"glyph0-3\">\n",
       "<path style=\"stroke:none;\" d=\"M 4.875 -3.4375 C 4.875 -2.84375 4.816406 -2.328125 4.703125 -1.890625 C 4.597656 -1.453125 4.441406 -1.082031 4.234375 -0.78125 C 4.035156 -0.488281 3.785156 -0.269531 3.484375 -0.125 C 3.191406 0.0195312 2.859375 0.09375 2.484375 0.09375 C 2.234375 0.09375 2.003906 0.0664062 1.796875 0.015625 C 1.597656 -0.0351562 1.421875 -0.113281 1.265625 -0.21875 C 1.109375 -0.332031 0.972656 -0.472656 0.859375 -0.640625 C 0.742188 -0.816406 0.648438 -1.03125 0.578125 -1.28125 L 1.390625 -1.40625 C 1.472656 -1.125 1.609375 -0.914062 1.796875 -0.78125 C 1.984375 -0.644531 2.21875 -0.578125 2.5 -0.578125 C 2.726562 -0.578125 2.9375 -0.628906 3.125 -0.734375 C 3.320312 -0.847656 3.484375 -1.015625 3.609375 -1.234375 C 3.742188 -1.453125 3.847656 -1.722656 3.921875 -2.046875 C 3.992188 -2.367188 4.035156 -2.75 4.046875 -3.1875 C 3.984375 -3.039062 3.894531 -2.910156 3.78125 -2.796875 C 3.664062 -2.679688 3.535156 -2.582031 3.390625 -2.5 C 3.242188 -2.414062 3.085938 -2.351562 2.921875 -2.3125 C 2.753906 -2.269531 2.582031 -2.25 2.40625 -2.25 C 2.101562 -2.25 1.832031 -2.300781 1.59375 -2.40625 C 1.351562 -2.519531 1.144531 -2.671875 0.96875 -2.859375 C 0.800781 -3.054688 0.671875 -3.289062 0.578125 -3.5625 C 0.492188 -3.84375 0.453125 -4.148438 0.453125 -4.484375 C 0.453125 -4.816406 0.5 -5.117188 0.59375 -5.390625 C 0.695312 -5.671875 0.84375 -5.90625 1.03125 -6.09375 C 1.21875 -6.289062 1.445312 -6.441406 1.71875 -6.546875 C 1.988281 -6.648438 2.296875 -6.703125 2.640625 -6.703125 C 3.378906 -6.703125 3.9375 -6.425781 4.3125 -5.875 C 4.6875 -5.332031 4.875 -4.519531 4.875 -3.4375 Z M 3.96875 -4.25 C 3.96875 -4.488281 3.9375 -4.71875 3.875 -4.9375 C 3.820312 -5.15625 3.738281 -5.34375 3.625 -5.5 C 3.507812 -5.65625 3.367188 -5.78125 3.203125 -5.875 C 3.035156 -5.96875 2.84375 -6.015625 2.625 -6.015625 C 2.414062 -6.015625 2.226562 -5.976562 2.0625 -5.90625 C 1.90625 -5.832031 1.769531 -5.726562 1.65625 -5.59375 C 1.539062 -5.46875 1.453125 -5.304688 1.390625 -5.109375 C 1.335938 -4.921875 1.3125 -4.710938 1.3125 -4.484375 C 1.3125 -4.253906 1.335938 -4.046875 1.390625 -3.859375 C 1.441406 -3.671875 1.519531 -3.503906 1.625 -3.359375 C 1.738281 -3.222656 1.875 -3.113281 2.03125 -3.03125 C 2.195312 -2.957031 2.390625 -2.921875 2.609375 -2.921875 C 2.765625 -2.921875 2.921875 -2.945312 3.078125 -3 C 3.242188 -3.050781 3.390625 -3.128906 3.515625 -3.234375 C 3.648438 -3.347656 3.757812 -3.488281 3.84375 -3.65625 C 3.925781 -3.820312 3.96875 -4.019531 3.96875 -4.25 Z M 3.96875 -4.25 \"/>\n",
       "</symbol>\n",
       "<symbol overflow=\"visible\" id=\"glyph0-4\">\n",
       "<path style=\"stroke:none;\" d=\"M 0.484375 0 L 0.484375 -0.59375 C 0.640625 -0.957031 0.832031 -1.28125 1.0625 -1.5625 C 1.289062 -1.84375 1.53125 -2.09375 1.78125 -2.3125 C 2.039062 -2.539062 2.289062 -2.75 2.53125 -2.9375 C 2.78125 -3.132812 3.003906 -3.332031 3.203125 -3.53125 C 3.410156 -3.726562 3.578125 -3.929688 3.703125 -4.140625 C 3.828125 -4.347656 3.890625 -4.585938 3.890625 -4.859375 C 3.890625 -5.046875 3.859375 -5.207031 3.796875 -5.34375 C 3.742188 -5.488281 3.660156 -5.609375 3.546875 -5.703125 C 3.441406 -5.804688 3.316406 -5.878906 3.171875 -5.921875 C 3.023438 -5.972656 2.859375 -6 2.671875 -6 C 2.503906 -6 2.347656 -5.972656 2.203125 -5.921875 C 2.054688 -5.878906 1.925781 -5.8125 1.8125 -5.71875 C 1.695312 -5.625 1.601562 -5.507812 1.53125 -5.375 C 1.457031 -5.238281 1.40625 -5.078125 1.375 -4.890625 L 0.515625 -4.96875 C 0.546875 -5.207031 0.613281 -5.429688 0.71875 -5.640625 C 0.820312 -5.847656 0.960938 -6.03125 1.140625 -6.1875 C 1.328125 -6.34375 1.546875 -6.46875 1.796875 -6.5625 C 2.046875 -6.65625 2.335938 -6.703125 2.671875 -6.703125 C 3.003906 -6.703125 3.296875 -6.660156 3.546875 -6.578125 C 3.804688 -6.503906 4.023438 -6.390625 4.203125 -6.234375 C 4.378906 -6.078125 4.515625 -5.882812 4.609375 -5.65625 C 4.703125 -5.4375 4.75 -5.179688 4.75 -4.890625 C 4.75 -4.671875 4.707031 -4.457031 4.625 -4.25 C 4.550781 -4.050781 4.445312 -3.863281 4.3125 -3.6875 C 4.175781 -3.507812 4.019531 -3.332031 3.84375 -3.15625 C 3.675781 -2.988281 3.492188 -2.820312 3.296875 -2.65625 C 3.109375 -2.5 2.914062 -2.34375 2.71875 -2.1875 C 2.53125 -2.03125 2.347656 -1.867188 2.171875 -1.703125 C 2.003906 -1.546875 1.851562 -1.382812 1.71875 -1.21875 C 1.582031 -1.0625 1.476562 -0.894531 1.40625 -0.71875 L 4.859375 -0.71875 L 4.859375 0 Z M 0.484375 0 \"/>\n",
       "</symbol>\n",
       "<symbol overflow=\"visible\" id=\"glyph0-5\">\n",
       "<path style=\"stroke:none;\" d=\"M 4.9375 -2.15625 C 4.9375 -1.820312 4.882812 -1.515625 4.78125 -1.234375 C 4.6875 -0.960938 4.539062 -0.726562 4.34375 -0.53125 C 4.144531 -0.332031 3.898438 -0.175781 3.609375 -0.0625 C 3.316406 0.0390625 2.976562 0.09375 2.59375 0.09375 C 2.25 0.09375 1.945312 0.0507812 1.6875 -0.03125 C 1.425781 -0.113281 1.207031 -0.222656 1.03125 -0.359375 C 0.851562 -0.503906 0.710938 -0.671875 0.609375 -0.859375 C 0.503906 -1.046875 0.429688 -1.25 0.390625 -1.46875 L 1.234375 -1.578125 C 1.265625 -1.453125 1.3125 -1.328125 1.375 -1.203125 C 1.4375 -1.085938 1.519531 -0.984375 1.625 -0.890625 C 1.738281 -0.804688 1.875 -0.734375 2.03125 -0.671875 C 2.1875 -0.617188 2.378906 -0.59375 2.609375 -0.59375 C 2.828125 -0.59375 3.023438 -0.625 3.203125 -0.6875 C 3.378906 -0.757812 3.53125 -0.859375 3.65625 -0.984375 C 3.78125 -1.117188 3.878906 -1.28125 3.953125 -1.46875 C 4.023438 -1.664062 4.0625 -1.882812 4.0625 -2.125 C 4.0625 -2.332031 4.023438 -2.519531 3.953125 -2.6875 C 3.890625 -2.863281 3.796875 -3.007812 3.671875 -3.125 C 3.554688 -3.25 3.410156 -3.34375 3.234375 -3.40625 C 3.054688 -3.476562 2.851562 -3.515625 2.625 -3.515625 C 2.488281 -3.515625 2.359375 -3.503906 2.234375 -3.484375 C 2.117188 -3.460938 2.007812 -3.425781 1.90625 -3.375 C 1.800781 -3.332031 1.707031 -3.28125 1.625 -3.21875 C 1.550781 -3.164062 1.476562 -3.109375 1.40625 -3.046875 L 0.578125 -3.046875 L 0.796875 -6.59375 L 4.546875 -6.59375 L 4.546875 -5.890625 L 1.5625 -5.890625 L 1.4375 -3.796875 C 1.582031 -3.910156 1.769531 -4.007812 2 -4.09375 C 2.226562 -4.175781 2.492188 -4.21875 2.796875 -4.21875 C 3.128906 -4.21875 3.425781 -4.164062 3.6875 -4.0625 C 3.945312 -3.957031 4.171875 -3.8125 4.359375 -3.625 C 4.546875 -3.445312 4.6875 -3.234375 4.78125 -2.984375 C 4.882812 -2.734375 4.9375 -2.457031 4.9375 -2.15625 Z M 4.9375 -2.15625 \"/>\n",
       "</symbol>\n",
       "<symbol overflow=\"visible\" id=\"glyph0-6\">\n",
       "<path style=\"stroke:none;\" d=\"M 4.859375 -5.921875 C 4.523438 -5.410156 4.21875 -4.921875 3.9375 -4.453125 C 3.65625 -3.984375 3.414062 -3.515625 3.21875 -3.046875 C 3.019531 -2.578125 2.863281 -2.09375 2.75 -1.59375 C 2.644531 -1.09375 2.59375 -0.5625 2.59375 0 L 1.703125 0 C 1.703125 -0.53125 1.765625 -1.046875 1.890625 -1.546875 C 2.015625 -2.054688 2.179688 -2.554688 2.390625 -3.046875 C 2.609375 -3.535156 2.859375 -4.015625 3.140625 -4.484375 C 3.421875 -4.953125 3.71875 -5.421875 4.03125 -5.890625 L 0.484375 -5.890625 L 0.484375 -6.59375 L 4.859375 -6.59375 Z M 4.859375 -5.921875 \"/>\n",
       "</symbol>\n",
       "<symbol overflow=\"visible\" id=\"glyph0-7\">\n",
       "<path style=\"stroke:none;\" d=\"M 0.734375 0 L 0.734375 -0.71875 L 2.40625 -0.71875 L 2.40625 -5.796875 L 0.921875 -4.734375 L 0.921875 -5.53125 L 2.484375 -6.59375 L 3.265625 -6.59375 L 3.265625 -0.71875 L 4.859375 -0.71875 L 4.859375 0 Z M 0.734375 0 \"/>\n",
       "</symbol>\n",
       "<symbol overflow=\"visible\" id=\"glyph1-0\">\n",
       "<path style=\"stroke:none;\" d=\"M 0.40625 0 L 0.40625 -8 L 3.59375 -8 L 3.59375 0 Z M 0.796875 -0.40625 L 3.1875 -0.40625 L 3.1875 -7.59375 L 0.796875 -7.59375 Z M 0.796875 -0.40625 \"/>\n",
       "</symbol>\n",
       "<symbol overflow=\"visible\" id=\"glyph1-1\">\n",
       "<path style=\"stroke:none;\" d=\"M 6.34375 0 L 1.921875 -7.03125 C 1.929688 -6.84375 1.941406 -6.65625 1.953125 -6.46875 C 1.960938 -6.300781 1.96875 -6.128906 1.96875 -5.953125 C 1.976562 -5.773438 1.984375 -5.617188 1.984375 -5.484375 L 1.984375 0 L 0.984375 0 L 0.984375 -8.25 L 2.28125 -8.25 L 6.75 -1.171875 C 6.738281 -1.367188 6.726562 -1.5625 6.71875 -1.75 C 6.707031 -1.914062 6.695312 -2.09375 6.6875 -2.28125 C 6.6875 -2.476562 6.6875 -2.664062 6.6875 -2.84375 L 6.6875 -8.25 L 7.6875 -8.25 L 7.6875 0 Z M 6.34375 0 \"/>\n",
       "</symbol>\n",
       "<symbol overflow=\"visible\" id=\"glyph1-2\">\n",
       "<path style=\"stroke:none;\" d=\"M 1.625 -2.953125 C 1.625 -2.617188 1.65625 -2.3125 1.71875 -2.03125 C 1.789062 -1.75 1.894531 -1.507812 2.03125 -1.3125 C 2.175781 -1.113281 2.359375 -0.957031 2.578125 -0.84375 C 2.804688 -0.726562 3.078125 -0.671875 3.390625 -0.671875 C 3.847656 -0.671875 4.210938 -0.757812 4.484375 -0.9375 C 4.765625 -1.125 4.953125 -1.359375 5.046875 -1.640625 L 5.96875 -1.390625 C 5.90625 -1.210938 5.8125 -1.035156 5.6875 -0.859375 C 5.570312 -0.679688 5.414062 -0.519531 5.21875 -0.375 C 5.019531 -0.226562 4.769531 -0.109375 4.46875 -0.015625 C 4.164062 0.078125 3.804688 0.125 3.390625 0.125 C 2.453125 0.125 1.738281 -0.15625 1.25 -0.71875 C 0.757812 -1.28125 0.515625 -2.113281 0.515625 -3.21875 C 0.515625 -3.8125 0.585938 -4.3125 0.734375 -4.71875 C 0.878906 -5.132812 1.082031 -5.46875 1.34375 -5.71875 C 1.601562 -5.976562 1.90625 -6.164062 2.25 -6.28125 C 2.59375 -6.394531 2.957031 -6.453125 3.34375 -6.453125 C 3.875 -6.453125 4.316406 -6.363281 4.671875 -6.1875 C 5.035156 -6.019531 5.320312 -5.785156 5.53125 -5.484375 C 5.75 -5.179688 5.90625 -4.820312 6 -4.40625 C 6.09375 -4 6.140625 -3.5625 6.140625 -3.09375 L 6.140625 -2.953125 Z M 5.046875 -3.75 C 4.992188 -4.425781 4.828125 -4.914062 4.546875 -5.21875 C 4.265625 -5.519531 3.859375 -5.671875 3.328125 -5.671875 C 3.148438 -5.671875 2.960938 -5.644531 2.765625 -5.59375 C 2.578125 -5.539062 2.398438 -5.441406 2.234375 -5.296875 C 2.078125 -5.148438 1.941406 -4.953125 1.828125 -4.703125 C 1.710938 -4.453125 1.644531 -4.132812 1.625 -3.75 Z M 5.046875 -3.75 \"/>\n",
       "</symbol>\n",
       "<symbol overflow=\"visible\" id=\"glyph1-3\">\n",
       "<path style=\"stroke:none;\" d=\"M 0.796875 -7.6875 L 0.796875 -8.703125 L 1.859375 -8.703125 L 1.859375 -7.6875 Z M 0.796875 0 L 0.796875 -6.34375 L 1.859375 -6.34375 L 1.859375 0 Z M 0.796875 0 \"/>\n",
       "</symbol>\n",
       "<symbol overflow=\"visible\" id=\"glyph1-4\">\n",
       "<path style=\"stroke:none;\" d=\"M 3.21875 2.484375 C 2.851562 2.484375 2.53125 2.445312 2.25 2.375 C 1.96875 2.300781 1.722656 2.195312 1.515625 2.0625 C 1.316406 1.925781 1.15625 1.757812 1.03125 1.5625 C 0.90625 1.375 0.816406 1.160156 0.765625 0.921875 L 1.828125 0.78125 C 1.898438 1.070312 2.054688 1.296875 2.296875 1.453125 C 2.535156 1.609375 2.847656 1.6875 3.234375 1.6875 C 3.472656 1.6875 3.691406 1.648438 3.890625 1.578125 C 4.085938 1.515625 4.253906 1.410156 4.390625 1.265625 C 4.523438 1.117188 4.628906 0.925781 4.703125 0.6875 C 4.773438 0.457031 4.8125 0.175781 4.8125 -0.15625 L 4.8125 -1.171875 C 4.726562 -1.015625 4.628906 -0.863281 4.515625 -0.71875 C 4.398438 -0.570312 4.257812 -0.441406 4.09375 -0.328125 C 3.925781 -0.210938 3.734375 -0.117188 3.515625 -0.046875 C 3.296875 0.015625 3.046875 0.046875 2.765625 0.046875 C 2.359375 0.046875 2.007812 -0.0195312 1.71875 -0.15625 C 1.4375 -0.289062 1.203125 -0.492188 1.015625 -0.765625 C 0.835938 -1.035156 0.707031 -1.367188 0.625 -1.765625 C 0.539062 -2.171875 0.5 -2.632812 0.5 -3.15625 C 0.5 -3.664062 0.539062 -4.125 0.625 -4.53125 C 0.707031 -4.9375 0.84375 -5.28125 1.03125 -5.5625 C 1.226562 -5.84375 1.476562 -6.054688 1.78125 -6.203125 C 2.082031 -6.359375 2.453125 -6.4375 2.890625 -6.4375 C 3.335938 -6.4375 3.722656 -6.332031 4.046875 -6.125 C 4.378906 -5.925781 4.632812 -5.632812 4.8125 -5.25 L 4.828125 -5.25 C 4.828125 -5.351562 4.828125 -5.460938 4.828125 -5.578125 C 4.835938 -5.703125 4.84375 -5.816406 4.84375 -5.921875 C 4.851562 -6.035156 4.863281 -6.128906 4.875 -6.203125 C 4.882812 -6.285156 4.894531 -6.332031 4.90625 -6.34375 L 5.90625 -6.34375 C 5.894531 -6.300781 5.890625 -6.238281 5.890625 -6.15625 C 5.890625 -6.070312 5.882812 -5.972656 5.875 -5.859375 C 5.875 -5.742188 5.867188 -5.613281 5.859375 -5.46875 C 5.859375 -5.320312 5.859375 -5.175781 5.859375 -5.03125 L 5.859375 -0.1875 C 5.859375 0.707031 5.640625 1.375 5.203125 1.8125 C 4.773438 2.257812 4.113281 2.484375 3.21875 2.484375 Z M 4.8125 -3.171875 C 4.8125 -3.609375 4.765625 -3.984375 4.671875 -4.296875 C 4.578125 -4.617188 4.453125 -4.878906 4.296875 -5.078125 C 4.140625 -5.273438 3.957031 -5.421875 3.75 -5.515625 C 3.550781 -5.609375 3.347656 -5.65625 3.140625 -5.65625 C 2.867188 -5.65625 2.632812 -5.609375 2.4375 -5.515625 C 2.25 -5.421875 2.09375 -5.269531 1.96875 -5.0625 C 1.84375 -4.863281 1.75 -4.609375 1.6875 -4.296875 C 1.625 -3.984375 1.59375 -3.609375 1.59375 -3.171875 C 1.59375 -2.710938 1.625 -2.328125 1.6875 -2.015625 C 1.75 -1.703125 1.84375 -1.453125 1.96875 -1.265625 C 2.09375 -1.078125 2.25 -0.941406 2.4375 -0.859375 C 2.625 -0.773438 2.851562 -0.734375 3.125 -0.734375 C 3.332031 -0.734375 3.535156 -0.773438 3.734375 -0.859375 C 3.941406 -0.953125 4.125 -1.097656 4.28125 -1.296875 C 4.445312 -1.492188 4.578125 -1.742188 4.671875 -2.046875 C 4.765625 -2.359375 4.8125 -2.734375 4.8125 -3.171875 Z M 4.8125 -3.171875 \"/>\n",
       "</symbol>\n",
       "<symbol overflow=\"visible\" id=\"glyph1-5\">\n",
       "<path style=\"stroke:none;\" d=\"M 1.859375 -5.25 C 1.972656 -5.46875 2.097656 -5.648438 2.234375 -5.796875 C 2.367188 -5.953125 2.519531 -6.078125 2.6875 -6.171875 C 2.851562 -6.273438 3.03125 -6.347656 3.21875 -6.390625 C 3.414062 -6.429688 3.640625 -6.453125 3.890625 -6.453125 C 4.296875 -6.453125 4.628906 -6.394531 4.890625 -6.28125 C 5.148438 -6.175781 5.351562 -6.023438 5.5 -5.828125 C 5.644531 -5.628906 5.742188 -5.394531 5.796875 -5.125 C 5.859375 -4.851562 5.890625 -4.550781 5.890625 -4.21875 L 5.890625 0 L 4.828125 0 L 4.828125 -4.015625 C 4.828125 -4.285156 4.8125 -4.519531 4.78125 -4.71875 C 4.75 -4.925781 4.6875 -5.097656 4.59375 -5.234375 C 4.5 -5.367188 4.363281 -5.46875 4.1875 -5.53125 C 4.019531 -5.601562 3.800781 -5.640625 3.53125 -5.640625 C 3.28125 -5.640625 3.050781 -5.59375 2.84375 -5.5 C 2.644531 -5.414062 2.472656 -5.289062 2.328125 -5.125 C 2.191406 -4.957031 2.082031 -4.753906 2 -4.515625 C 1.925781 -4.285156 1.890625 -4.023438 1.890625 -3.734375 L 1.890625 0 L 0.828125 0 L 0.828125 -8.703125 L 1.890625 -8.703125 L 1.890625 -6.4375 C 1.890625 -6.300781 1.882812 -6.171875 1.875 -6.046875 C 1.875 -5.921875 1.867188 -5.800781 1.859375 -5.6875 C 1.859375 -5.582031 1.851562 -5.488281 1.84375 -5.40625 C 1.84375 -5.332031 1.84375 -5.28125 1.84375 -5.25 Z M 1.859375 -5.25 \"/>\n",
       "</symbol>\n",
       "<symbol overflow=\"visible\" id=\"glyph1-6\">\n",
       "<path style=\"stroke:none;\" d=\"M 6.171875 -3.203125 C 6.171875 -0.984375 5.394531 0.125 3.84375 0.125 C 3.363281 0.125 2.960938 0.0351562 2.640625 -0.140625 C 2.316406 -0.316406 2.054688 -0.597656 1.859375 -0.984375 C 1.859375 -0.878906 1.851562 -0.769531 1.84375 -0.65625 C 1.832031 -0.550781 1.820312 -0.453125 1.8125 -0.359375 C 1.8125 -0.265625 1.804688 -0.1875 1.796875 -0.125 C 1.796875 -0.0625 1.796875 -0.0195312 1.796875 0 L 0.78125 0 C 0.78125 -0.03125 0.78125 -0.0859375 0.78125 -0.171875 C 0.789062 -0.265625 0.796875 -0.367188 0.796875 -0.484375 C 0.796875 -0.597656 0.796875 -0.722656 0.796875 -0.859375 C 0.804688 -1.003906 0.8125 -1.15625 0.8125 -1.3125 L 0.8125 -8.703125 L 1.859375 -8.703125 L 1.859375 -6.21875 C 1.859375 -6.101562 1.859375 -5.988281 1.859375 -5.875 C 1.859375 -5.769531 1.859375 -5.675781 1.859375 -5.59375 C 1.847656 -5.5 1.84375 -5.410156 1.84375 -5.328125 L 1.859375 -5.328125 C 2.054688 -5.734375 2.316406 -6.019531 2.640625 -6.1875 C 2.960938 -6.363281 3.363281 -6.453125 3.84375 -6.453125 C 4.644531 -6.453125 5.234375 -6.179688 5.609375 -5.640625 C 5.984375 -5.109375 6.171875 -4.296875 6.171875 -3.203125 Z M 5.0625 -3.171875 C 5.0625 -3.609375 5.035156 -3.984375 4.984375 -4.296875 C 4.929688 -4.609375 4.84375 -4.863281 4.71875 -5.0625 C 4.59375 -5.257812 4.4375 -5.40625 4.25 -5.5 C 4.0625 -5.59375 3.832031 -5.640625 3.5625 -5.640625 C 3.289062 -5.640625 3.046875 -5.59375 2.828125 -5.5 C 2.617188 -5.414062 2.441406 -5.273438 2.296875 -5.078125 C 2.160156 -4.878906 2.050781 -4.613281 1.96875 -4.28125 C 1.894531 -3.957031 1.859375 -3.5625 1.859375 -3.09375 C 1.859375 -2.644531 1.894531 -2.265625 1.96875 -1.953125 C 2.050781 -1.648438 2.160156 -1.398438 2.296875 -1.203125 C 2.441406 -1.015625 2.617188 -0.875 2.828125 -0.78125 C 3.035156 -0.695312 3.28125 -0.65625 3.5625 -0.65625 C 3.8125 -0.65625 4.03125 -0.703125 4.21875 -0.796875 C 4.40625 -0.890625 4.5625 -1.035156 4.6875 -1.234375 C 4.8125 -1.429688 4.90625 -1.6875 4.96875 -2 C 5.03125 -2.320312 5.0625 -2.710938 5.0625 -3.171875 Z M 5.0625 -3.171875 \"/>\n",
       "</symbol>\n",
       "<symbol overflow=\"visible\" id=\"glyph1-7\">\n",
       "<path style=\"stroke:none;\" d=\"M 6.171875 -3.171875 C 6.171875 -2.066406 5.925781 -1.238281 5.4375 -0.6875 C 4.945312 -0.144531 4.238281 0.125 3.3125 0.125 C 2.875 0.125 2.476562 0.0546875 2.125 -0.078125 C 1.78125 -0.210938 1.488281 -0.414062 1.25 -0.6875 C 1.007812 -0.96875 0.820312 -1.3125 0.6875 -1.71875 C 0.5625 -2.132812 0.5 -2.617188 0.5 -3.171875 C 0.5 -5.359375 1.445312 -6.453125 3.34375 -6.453125 C 3.832031 -6.453125 4.253906 -6.382812 4.609375 -6.25 C 4.972656 -6.113281 5.269531 -5.910156 5.5 -5.640625 C 5.726562 -5.367188 5.894531 -5.023438 6 -4.609375 C 6.113281 -4.203125 6.171875 -3.722656 6.171875 -3.171875 Z M 5.0625 -3.171875 C 5.0625 -3.671875 5.019531 -4.078125 4.9375 -4.390625 C 4.863281 -4.710938 4.753906 -4.96875 4.609375 -5.15625 C 4.460938 -5.351562 4.285156 -5.488281 4.078125 -5.5625 C 3.867188 -5.632812 3.628906 -5.671875 3.359375 -5.671875 C 3.085938 -5.671875 2.84375 -5.628906 2.625 -5.546875 C 2.414062 -5.472656 2.234375 -5.335938 2.078125 -5.140625 C 1.929688 -4.953125 1.816406 -4.695312 1.734375 -4.375 C 1.648438 -4.050781 1.609375 -3.648438 1.609375 -3.171875 C 1.609375 -2.679688 1.648438 -2.273438 1.734375 -1.953125 C 1.828125 -1.628906 1.945312 -1.367188 2.09375 -1.171875 C 2.25 -0.984375 2.425781 -0.847656 2.625 -0.765625 C 2.832031 -0.691406 3.054688 -0.65625 3.296875 -0.65625 C 3.566406 -0.65625 3.8125 -0.691406 4.03125 -0.765625 C 4.25 -0.847656 4.429688 -0.984375 4.578125 -1.171875 C 4.734375 -1.367188 4.851562 -1.628906 4.9375 -1.953125 C 5.019531 -2.273438 5.0625 -2.679688 5.0625 -3.171875 Z M 5.0625 -3.171875 \"/>\n",
       "</symbol>\n",
       "<symbol overflow=\"visible\" id=\"glyph1-8\">\n",
       "<path style=\"stroke:none;\" d=\"M 0.828125 0 L 0.828125 -4.859375 C 0.828125 -4.992188 0.828125 -5.128906 0.828125 -5.265625 C 0.828125 -5.410156 0.820312 -5.546875 0.8125 -5.671875 C 0.8125 -5.796875 0.804688 -5.914062 0.796875 -6.03125 C 0.796875 -6.144531 0.796875 -6.25 0.796875 -6.34375 L 1.796875 -6.34375 C 1.796875 -6.25 1.796875 -6.144531 1.796875 -6.03125 C 1.804688 -5.914062 1.8125 -5.796875 1.8125 -5.671875 C 1.820312 -5.554688 1.828125 -5.441406 1.828125 -5.328125 C 1.835938 -5.210938 1.84375 -5.117188 1.84375 -5.046875 L 1.859375 -5.046875 C 1.929688 -5.285156 2.007812 -5.492188 2.09375 -5.671875 C 2.1875 -5.847656 2.285156 -5.992188 2.390625 -6.109375 C 2.503906 -6.222656 2.640625 -6.304688 2.796875 -6.359375 C 2.953125 -6.421875 3.144531 -6.453125 3.375 -6.453125 C 3.457031 -6.453125 3.535156 -6.445312 3.609375 -6.4375 C 3.691406 -6.425781 3.753906 -6.414062 3.796875 -6.40625 L 3.796875 -5.4375 C 3.722656 -5.457031 3.640625 -5.46875 3.546875 -5.46875 C 3.453125 -5.476562 3.347656 -5.484375 3.234375 -5.484375 C 2.992188 -5.484375 2.785156 -5.425781 2.609375 -5.3125 C 2.441406 -5.207031 2.304688 -5.054688 2.203125 -4.859375 C 2.097656 -4.671875 2.019531 -4.441406 1.96875 -4.171875 C 1.914062 -3.910156 1.890625 -3.625 1.890625 -3.3125 L 1.890625 0 Z M 0.828125 0 \"/>\n",
       "</symbol>\n",
       "<symbol overflow=\"visible\" id=\"glyph1-9\">\n",
       "<path style=\"stroke:none;\" d=\"M 5.5625 -1.75 C 5.5625 -1.457031 5.503906 -1.191406 5.390625 -0.953125 C 5.273438 -0.722656 5.109375 -0.53125 4.890625 -0.375 C 4.671875 -0.21875 4.398438 -0.09375 4.078125 0 C 3.765625 0.0820312 3.40625 0.125 3 0.125 C 2.625 0.125 2.289062 0.09375 2 0.03125 C 1.707031 -0.0195312 1.445312 -0.109375 1.21875 -0.234375 C 1 -0.359375 0.8125 -0.523438 0.65625 -0.734375 C 0.507812 -0.941406 0.398438 -1.191406 0.328125 -1.484375 L 1.265625 -1.671875 C 1.359375 -1.328125 1.546875 -1.078125 1.828125 -0.921875 C 2.109375 -0.765625 2.5 -0.6875 3 -0.6875 C 3.21875 -0.6875 3.421875 -0.703125 3.609375 -0.734375 C 3.804688 -0.765625 3.972656 -0.816406 4.109375 -0.890625 C 4.242188 -0.972656 4.347656 -1.078125 4.421875 -1.203125 C 4.503906 -1.328125 4.546875 -1.484375 4.546875 -1.671875 C 4.546875 -1.859375 4.5 -2.015625 4.40625 -2.140625 C 4.3125 -2.265625 4.1875 -2.367188 4.03125 -2.453125 C 3.875 -2.535156 3.679688 -2.601562 3.453125 -2.65625 C 3.222656 -2.71875 2.972656 -2.785156 2.703125 -2.859375 C 2.441406 -2.929688 2.1875 -3.007812 1.9375 -3.09375 C 1.6875 -3.175781 1.460938 -3.28125 1.265625 -3.40625 C 1.066406 -3.539062 0.90625 -3.707031 0.78125 -3.90625 C 0.65625 -4.113281 0.59375 -4.367188 0.59375 -4.671875 C 0.59375 -5.242188 0.796875 -5.679688 1.203125 -5.984375 C 1.617188 -6.285156 2.21875 -6.4375 3 -6.4375 C 3.707031 -6.4375 4.265625 -6.3125 4.671875 -6.0625 C 5.085938 -5.820312 5.347656 -5.429688 5.453125 -4.890625 L 4.5 -4.765625 C 4.46875 -4.929688 4.40625 -5.066406 4.3125 -5.171875 C 4.21875 -5.285156 4.101562 -5.378906 3.96875 -5.453125 C 3.84375 -5.523438 3.695312 -5.570312 3.53125 -5.59375 C 3.363281 -5.625 3.1875 -5.640625 3 -5.640625 C 2.53125 -5.640625 2.179688 -5.566406 1.953125 -5.421875 C 1.722656 -5.273438 1.609375 -5.054688 1.609375 -4.765625 C 1.609375 -4.597656 1.648438 -4.457031 1.734375 -4.34375 C 1.816406 -4.226562 1.929688 -4.132812 2.078125 -4.0625 C 2.234375 -3.988281 2.414062 -3.921875 2.625 -3.859375 C 2.84375 -3.804688 3.078125 -3.75 3.328125 -3.6875 C 3.492188 -3.644531 3.664062 -3.597656 3.84375 -3.546875 C 4.019531 -3.492188 4.191406 -3.429688 4.359375 -3.359375 C 4.523438 -3.296875 4.679688 -3.21875 4.828125 -3.125 C 4.972656 -3.039062 5.097656 -2.929688 5.203125 -2.796875 C 5.316406 -2.671875 5.40625 -2.519531 5.46875 -2.34375 C 5.53125 -2.175781 5.5625 -1.976562 5.5625 -1.75 Z M 5.5625 -1.75 \"/>\n",
       "</symbol>\n",
       "<symbol overflow=\"visible\" id=\"glyph2-0\">\n",
       "<path style=\"stroke:none;\" d=\"M 0 -0.40625 L -8 -0.40625 L -8 -3.59375 L 0 -3.59375 Z M -0.40625 -0.796875 L -0.40625 -3.1875 L -7.59375 -3.1875 L -7.59375 -0.796875 Z M -0.40625 -0.796875 \"/>\n",
       "</symbol>\n",
       "<symbol overflow=\"visible\" id=\"glyph2-1\">\n",
       "<path style=\"stroke:none;\" d=\"M 0 -6.84375 L -2.421875 -5.890625 L -2.421875 -2.140625 L 0 -1.1875 L 0 -0.03125 L -8.25 -3.390625 L -8.25 -4.671875 L 0 -7.984375 Z M -6.015625 -4.5 C -6.171875 -4.4375 -6.328125 -4.375 -6.484375 -4.3125 C -6.648438 -4.257812 -6.796875 -4.210938 -6.921875 -4.171875 C -7.054688 -4.128906 -7.164062 -4.09375 -7.25 -4.0625 C -7.34375 -4.03125 -7.394531 -4.015625 -7.40625 -4.015625 C -7.394531 -4.003906 -7.34375 -3.984375 -7.25 -3.953125 C -7.15625 -3.929688 -7.039062 -3.894531 -6.90625 -3.84375 C -6.78125 -3.800781 -6.632812 -3.75 -6.46875 -3.6875 C -6.3125 -3.632812 -6.15625 -3.582031 -6 -3.53125 L -3.28125 -2.46875 L -3.28125 -5.5625 Z M -6.015625 -4.5 \"/>\n",
       "</symbol>\n",
       "<symbol overflow=\"visible\" id=\"glyph2-2\">\n",
       "<path style=\"stroke:none;\" d=\"M -3.203125 -1.609375 C -2.835938 -1.609375 -2.5 -1.632812 -2.1875 -1.6875 C -1.882812 -1.738281 -1.625 -1.828125 -1.40625 -1.953125 C -1.1875 -2.078125 -1.015625 -2.242188 -0.890625 -2.453125 C -0.773438 -2.660156 -0.71875 -2.914062 -0.71875 -3.21875 C -0.71875 -3.59375 -0.816406 -3.90625 -1.015625 -4.15625 C -1.222656 -4.40625 -1.535156 -4.5625 -1.953125 -4.625 L -1.890625 -5.6875 C -1.628906 -5.644531 -1.375 -5.566406 -1.125 -5.453125 C -0.882812 -5.335938 -0.671875 -5.175781 -0.484375 -4.96875 C -0.304688 -4.769531 -0.160156 -4.523438 -0.046875 -4.234375 C 0.0664062 -3.953125 0.125 -3.617188 0.125 -3.234375 C 0.125 -2.742188 0.0390625 -2.320312 -0.125 -1.96875 C -0.300781 -1.625 -0.535156 -1.34375 -0.828125 -1.125 C -1.117188 -0.90625 -1.460938 -0.75 -1.859375 -0.65625 C -2.265625 -0.5625 -2.703125 -0.515625 -3.171875 -0.515625 C -3.597656 -0.515625 -3.972656 -0.546875 -4.296875 -0.609375 C -4.628906 -0.679688 -4.914062 -0.78125 -5.15625 -0.90625 C -5.40625 -1.039062 -5.613281 -1.191406 -5.78125 -1.359375 C -5.945312 -1.535156 -6.078125 -1.722656 -6.171875 -1.921875 C -6.273438 -2.117188 -6.347656 -2.328125 -6.390625 -2.546875 C -6.429688 -2.773438 -6.453125 -3.003906 -6.453125 -3.234375 C -6.453125 -3.585938 -6.40625 -3.898438 -6.3125 -4.171875 C -6.21875 -4.453125 -6.082031 -4.691406 -5.90625 -4.890625 C -5.738281 -5.097656 -5.539062 -5.265625 -5.3125 -5.390625 C -5.082031 -5.515625 -4.832031 -5.601562 -4.5625 -5.65625 L -4.484375 -4.5625 C -4.835938 -4.507812 -5.113281 -4.367188 -5.3125 -4.140625 C -5.519531 -3.921875 -5.625 -3.609375 -5.625 -3.203125 C -5.625 -2.898438 -5.570312 -2.644531 -5.46875 -2.4375 C -5.375 -2.238281 -5.226562 -2.078125 -5.03125 -1.953125 C -4.832031 -1.828125 -4.578125 -1.738281 -4.265625 -1.6875 C -3.960938 -1.632812 -3.609375 -1.609375 -3.203125 -1.609375 Z M -3.203125 -1.609375 \"/>\n",
       "</symbol>\n",
       "<symbol overflow=\"visible\" id=\"glyph2-3\">\n",
       "<path style=\"stroke:none;\" d=\"M -6.34375 -1.84375 L -2.328125 -1.84375 C -2.015625 -1.84375 -1.753906 -1.863281 -1.546875 -1.90625 C -1.335938 -1.945312 -1.171875 -2.019531 -1.046875 -2.125 C -0.921875 -2.226562 -0.832031 -2.363281 -0.78125 -2.53125 C -0.726562 -2.695312 -0.703125 -2.898438 -0.703125 -3.140625 C -0.703125 -3.390625 -0.742188 -3.613281 -0.828125 -3.8125 C -0.921875 -4.019531 -1.046875 -4.191406 -1.203125 -4.328125 C -1.367188 -4.472656 -1.570312 -4.582031 -1.8125 -4.65625 C -2.0625 -4.738281 -2.347656 -4.78125 -2.671875 -4.78125 L -6.34375 -4.78125 L -6.34375 -5.84375 L -1.359375 -5.84375 C -1.222656 -5.84375 -1.082031 -5.84375 -0.9375 -5.84375 C -0.789062 -5.84375 -0.648438 -5.84375 -0.515625 -5.84375 C -0.390625 -5.851562 -0.28125 -5.859375 -0.1875 -5.859375 C -0.09375 -5.867188 -0.03125 -5.875 0 -5.875 L 0 -4.875 C -0.0195312 -4.875 -0.0703125 -4.867188 -0.15625 -4.859375 C -0.238281 -4.859375 -0.335938 -4.851562 -0.453125 -4.84375 C -0.566406 -4.84375 -0.679688 -4.835938 -0.796875 -4.828125 C -0.910156 -4.828125 -1.003906 -4.828125 -1.078125 -4.828125 L -1.078125 -4.8125 C -0.898438 -4.71875 -0.734375 -4.609375 -0.578125 -4.484375 C -0.429688 -4.359375 -0.304688 -4.21875 -0.203125 -4.0625 C -0.0976562 -3.90625 -0.0195312 -3.722656 0.03125 -3.515625 C 0.09375 -3.304688 0.125 -3.066406 0.125 -2.796875 C 0.125 -2.441406 0.0820312 -2.132812 0 -1.875 C -0.09375 -1.625 -0.226562 -1.414062 -0.40625 -1.25 C -0.59375 -1.09375 -0.828125 -0.972656 -1.109375 -0.890625 C -1.390625 -0.816406 -1.722656 -0.78125 -2.109375 -0.78125 L -6.34375 -0.78125 Z M -6.34375 -1.84375 \"/>\n",
       "</symbol>\n",
       "<symbol overflow=\"visible\" id=\"glyph2-4\">\n",
       "<path style=\"stroke:none;\" d=\"M 0 -0.828125 L -4.859375 -0.828125 C -4.992188 -0.828125 -5.128906 -0.828125 -5.265625 -0.828125 C -5.410156 -0.828125 -5.546875 -0.820312 -5.671875 -0.8125 C -5.796875 -0.8125 -5.914062 -0.804688 -6.03125 -0.796875 C -6.144531 -0.796875 -6.25 -0.796875 -6.34375 -0.796875 L -6.34375 -1.796875 C -6.25 -1.796875 -6.144531 -1.796875 -6.03125 -1.796875 C -5.914062 -1.804688 -5.796875 -1.8125 -5.671875 -1.8125 C -5.554688 -1.820312 -5.441406 -1.828125 -5.328125 -1.828125 C -5.210938 -1.835938 -5.117188 -1.84375 -5.046875 -1.84375 L -5.046875 -1.859375 C -5.285156 -1.929688 -5.492188 -2.007812 -5.671875 -2.09375 C -5.847656 -2.1875 -5.992188 -2.285156 -6.109375 -2.390625 C -6.222656 -2.503906 -6.304688 -2.640625 -6.359375 -2.796875 C -6.421875 -2.953125 -6.453125 -3.144531 -6.453125 -3.375 C -6.453125 -3.457031 -6.445312 -3.535156 -6.4375 -3.609375 C -6.425781 -3.691406 -6.414062 -3.753906 -6.40625 -3.796875 L -5.4375 -3.796875 C -5.457031 -3.722656 -5.46875 -3.640625 -5.46875 -3.546875 C -5.476562 -3.453125 -5.484375 -3.347656 -5.484375 -3.234375 C -5.484375 -2.992188 -5.425781 -2.785156 -5.3125 -2.609375 C -5.207031 -2.441406 -5.054688 -2.304688 -4.859375 -2.203125 C -4.671875 -2.097656 -4.441406 -2.019531 -4.171875 -1.96875 C -3.910156 -1.914062 -3.625 -1.890625 -3.3125 -1.890625 L 0 -1.890625 Z M 0 -0.828125 \"/>\n",
       "</symbol>\n",
       "<symbol overflow=\"visible\" id=\"glyph2-5\">\n",
       "<path style=\"stroke:none;\" d=\"M 0.125 -2.421875 C 0.125 -1.785156 -0.0390625 -1.304688 -0.375 -0.984375 C -0.71875 -0.671875 -1.179688 -0.515625 -1.765625 -0.515625 C -2.179688 -0.515625 -2.523438 -0.59375 -2.796875 -0.75 C -3.066406 -0.90625 -3.273438 -1.109375 -3.421875 -1.359375 C -3.578125 -1.617188 -3.679688 -1.910156 -3.734375 -2.234375 C -3.796875 -2.566406 -3.832031 -2.90625 -3.84375 -3.25 L -3.875 -4.671875 L -4.21875 -4.671875 C -4.476562 -4.671875 -4.695312 -4.640625 -4.875 -4.578125 C -5.0625 -4.523438 -5.210938 -4.441406 -5.328125 -4.328125 C -5.441406 -4.222656 -5.523438 -4.082031 -5.578125 -3.90625 C -5.628906 -3.738281 -5.65625 -3.539062 -5.65625 -3.3125 C -5.65625 -3.101562 -5.640625 -2.914062 -5.609375 -2.75 C -5.578125 -2.59375 -5.523438 -2.453125 -5.453125 -2.328125 C -5.378906 -2.210938 -5.273438 -2.113281 -5.140625 -2.03125 C -5.015625 -1.957031 -4.847656 -1.910156 -4.640625 -1.890625 L -4.75 -0.796875 C -5 -0.828125 -5.226562 -0.894531 -5.4375 -1 C -5.644531 -1.113281 -5.820312 -1.269531 -5.96875 -1.46875 C -6.125 -1.675781 -6.242188 -1.929688 -6.328125 -2.234375 C -6.410156 -2.535156 -6.453125 -2.898438 -6.453125 -3.328125 C -6.453125 -4.128906 -6.269531 -4.726562 -5.90625 -5.125 C -5.539062 -5.53125 -5.015625 -5.734375 -4.328125 -5.734375 L -1.59375 -5.734375 C -1.28125 -5.734375 -1.046875 -5.773438 -0.890625 -5.859375 C -0.734375 -5.941406 -0.65625 -6.097656 -0.65625 -6.328125 C -0.65625 -6.390625 -0.65625 -6.445312 -0.65625 -6.5 C -0.664062 -6.5625 -0.675781 -6.617188 -0.6875 -6.671875 L -0.03125 -6.671875 C 0 -6.535156 0.0195312 -6.398438 0.03125 -6.265625 C 0.0507812 -6.140625 0.0625 -6.003906 0.0625 -5.859375 C 0.0625 -5.660156 0.0351562 -5.488281 -0.015625 -5.34375 C -0.0664062 -5.207031 -0.144531 -5.09375 -0.25 -5 C -0.363281 -4.90625 -0.5 -4.832031 -0.65625 -4.78125 C -0.8125 -4.738281 -1 -4.710938 -1.21875 -4.703125 L -1.21875 -4.671875 C -1.007812 -4.554688 -0.820312 -4.429688 -0.65625 -4.296875 C -0.5 -4.160156 -0.363281 -4.003906 -0.25 -3.828125 C -0.132812 -3.648438 -0.046875 -3.445312 0.015625 -3.21875 C 0.0859375 -2.988281 0.125 -2.722656 0.125 -2.421875 Z M -0.671875 -2.671875 C -0.671875 -3.003906 -0.734375 -3.296875 -0.859375 -3.546875 C -0.984375 -3.796875 -1.140625 -4.003906 -1.328125 -4.171875 C -1.523438 -4.335938 -1.734375 -4.460938 -1.953125 -4.546875 C -2.179688 -4.628906 -2.398438 -4.671875 -2.609375 -4.671875 L -3.125 -4.671875 L -3.109375 -3.515625 C -3.097656 -3.253906 -3.078125 -3.007812 -3.046875 -2.78125 C -3.015625 -2.550781 -2.945312 -2.347656 -2.84375 -2.171875 C -2.75 -1.992188 -2.613281 -1.851562 -2.4375 -1.75 C -2.269531 -1.644531 -2.039062 -1.59375 -1.75 -1.59375 C -1.40625 -1.59375 -1.140625 -1.6875 -0.953125 -1.875 C -0.765625 -2.0625 -0.671875 -2.328125 -0.671875 -2.671875 Z M -0.671875 -2.671875 \"/>\n",
       "</symbol>\n",
       "<symbol overflow=\"visible\" id=\"glyph2-6\">\n",
       "<path style=\"stroke:none;\" d=\"M 0 -3.546875 C 0.382812 -3.390625 0.726562 -3.234375 1.03125 -3.078125 C 1.34375 -2.929688 1.601562 -2.757812 1.8125 -2.5625 C 2.03125 -2.375 2.195312 -2.160156 2.3125 -1.921875 C 2.425781 -1.691406 2.484375 -1.425781 2.484375 -1.125 C 2.484375 -0.988281 2.476562 -0.863281 2.46875 -0.75 C 2.46875 -0.632812 2.453125 -0.515625 2.421875 -0.390625 L 1.640625 -0.390625 C 1.648438 -0.460938 1.65625 -0.546875 1.65625 -0.640625 C 1.664062 -0.734375 1.671875 -0.816406 1.671875 -0.890625 C 1.671875 -1.191406 1.554688 -1.472656 1.328125 -1.734375 C 1.097656 -2.003906 0.726562 -2.238281 0.21875 -2.4375 L -0.03125 -2.546875 L -6.34375 -0.03125 L -6.34375 -1.15625 L -2.84375 -2.484375 C -2.726562 -2.523438 -2.582031 -2.578125 -2.40625 -2.640625 C -2.238281 -2.703125 -2.066406 -2.757812 -1.890625 -2.8125 C -1.710938 -2.875 -1.550781 -2.925781 -1.40625 -2.96875 C -1.269531 -3.019531 -1.1875 -3.050781 -1.15625 -3.0625 C -1.195312 -3.070312 -1.28125 -3.097656 -1.40625 -3.140625 C -1.53125 -3.191406 -1.671875 -3.242188 -1.828125 -3.296875 C -1.984375 -3.359375 -2.140625 -3.414062 -2.296875 -3.46875 C -2.460938 -3.53125 -2.601562 -3.582031 -2.71875 -3.625 L -6.34375 -4.859375 L -6.34375 -5.984375 Z M 0 -3.546875 \"/>\n",
       "</symbol>\n",
       "<symbol overflow=\"visible\" id=\"glyph2-7\">\n",
       "<path style=\"stroke:none;\" d=\"\"/>\n",
       "</symbol>\n",
       "<symbol overflow=\"visible\" id=\"glyph2-8\">\n",
       "<path style=\"stroke:none;\" d=\"M 0 -0.984375 L -8.25 -0.984375 L -8.25 -7.25 L -7.34375 -7.25 L -7.34375 -2.109375 L -4.6875 -2.109375 L -4.6875 -6.890625 L -3.796875 -6.890625 L -3.796875 -2.109375 L -0.921875 -2.109375 L -0.921875 -7.484375 L 0 -7.484375 Z M 0 -0.984375 \"/>\n",
       "</symbol>\n",
       "<symbol overflow=\"visible\" id=\"glyph2-9\">\n",
       "<path style=\"stroke:none;\" d=\"M -1.75 -5.5625 C -1.457031 -5.5625 -1.191406 -5.503906 -0.953125 -5.390625 C -0.722656 -5.273438 -0.53125 -5.109375 -0.375 -4.890625 C -0.21875 -4.671875 -0.09375 -4.398438 0 -4.078125 C 0.0820312 -3.765625 0.125 -3.40625 0.125 -3 C 0.125 -2.625 0.09375 -2.289062 0.03125 -2 C -0.0195312 -1.707031 -0.109375 -1.445312 -0.234375 -1.21875 C -0.359375 -1 -0.523438 -0.8125 -0.734375 -0.65625 C -0.941406 -0.507812 -1.191406 -0.398438 -1.484375 -0.328125 L -1.671875 -1.265625 C -1.328125 -1.359375 -1.078125 -1.546875 -0.921875 -1.828125 C -0.765625 -2.109375 -0.6875 -2.5 -0.6875 -3 C -0.6875 -3.21875 -0.703125 -3.421875 -0.734375 -3.609375 C -0.765625 -3.804688 -0.816406 -3.972656 -0.890625 -4.109375 C -0.972656 -4.242188 -1.078125 -4.347656 -1.203125 -4.421875 C -1.328125 -4.503906 -1.484375 -4.546875 -1.671875 -4.546875 C -1.859375 -4.546875 -2.015625 -4.5 -2.140625 -4.40625 C -2.265625 -4.3125 -2.367188 -4.1875 -2.453125 -4.03125 C -2.535156 -3.875 -2.601562 -3.679688 -2.65625 -3.453125 C -2.71875 -3.222656 -2.785156 -2.972656 -2.859375 -2.703125 C -2.929688 -2.441406 -3.007812 -2.1875 -3.09375 -1.9375 C -3.175781 -1.6875 -3.28125 -1.460938 -3.40625 -1.265625 C -3.539062 -1.066406 -3.707031 -0.90625 -3.90625 -0.78125 C -4.113281 -0.65625 -4.367188 -0.59375 -4.671875 -0.59375 C -5.242188 -0.59375 -5.679688 -0.796875 -5.984375 -1.203125 C -6.285156 -1.617188 -6.4375 -2.21875 -6.4375 -3 C -6.4375 -3.707031 -6.3125 -4.265625 -6.0625 -4.671875 C -5.820312 -5.085938 -5.429688 -5.347656 -4.890625 -5.453125 L -4.765625 -4.5 C -4.929688 -4.46875 -5.066406 -4.40625 -5.171875 -4.3125 C -5.285156 -4.21875 -5.378906 -4.101562 -5.453125 -3.96875 C -5.523438 -3.84375 -5.570312 -3.695312 -5.59375 -3.53125 C -5.625 -3.363281 -5.640625 -3.1875 -5.640625 -3 C -5.640625 -2.53125 -5.566406 -2.179688 -5.421875 -1.953125 C -5.273438 -1.722656 -5.054688 -1.609375 -4.765625 -1.609375 C -4.597656 -1.609375 -4.457031 -1.648438 -4.34375 -1.734375 C -4.226562 -1.816406 -4.132812 -1.929688 -4.0625 -2.078125 C -3.988281 -2.234375 -3.921875 -2.414062 -3.859375 -2.625 C -3.804688 -2.84375 -3.75 -3.078125 -3.6875 -3.328125 C -3.644531 -3.492188 -3.597656 -3.664062 -3.546875 -3.84375 C -3.492188 -4.019531 -3.429688 -4.191406 -3.359375 -4.359375 C -3.296875 -4.523438 -3.21875 -4.679688 -3.125 -4.828125 C -3.039062 -4.972656 -2.929688 -5.097656 -2.796875 -5.203125 C -2.671875 -5.316406 -2.519531 -5.40625 -2.34375 -5.46875 C -2.175781 -5.53125 -1.976562 -5.5625 -1.75 -5.5625 Z M -1.75 -5.5625 \"/>\n",
       "</symbol>\n",
       "<symbol overflow=\"visible\" id=\"glyph2-10\">\n",
       "<path style=\"stroke:none;\" d=\"M -0.046875 -3.25 C -0.00390625 -3.082031 0.0234375 -2.914062 0.046875 -2.75 C 0.078125 -2.59375 0.09375 -2.40625 0.09375 -2.1875 C 0.09375 -1.34375 -0.382812 -0.921875 -1.34375 -0.921875 L -5.578125 -0.921875 L -5.578125 -0.1875 L -6.34375 -0.1875 L -6.34375 -0.953125 L -7.765625 -1.265625 L -7.765625 -1.96875 L -6.34375 -1.96875 L -6.34375 -3.140625 L -5.578125 -3.140625 L -5.578125 -1.96875 L -1.578125 -1.96875 C -1.265625 -1.96875 -1.046875 -2.015625 -0.921875 -2.109375 C -0.804688 -2.210938 -0.75 -2.390625 -0.75 -2.640625 C -0.75 -2.742188 -0.753906 -2.84375 -0.765625 -2.9375 C -0.785156 -3.03125 -0.804688 -3.132812 -0.828125 -3.25 Z M -0.046875 -3.25 \"/>\n",
       "</symbol>\n",
       "<symbol overflow=\"visible\" id=\"glyph2-11\">\n",
       "<path style=\"stroke:none;\" d=\"M -7.6875 -0.796875 L -8.703125 -0.796875 L -8.703125 -1.859375 L -7.6875 -1.859375 Z M 0 -0.796875 L -6.34375 -0.796875 L -6.34375 -1.859375 L 0 -1.859375 Z M 0 -0.796875 \"/>\n",
       "</symbol>\n",
       "<symbol overflow=\"visible\" id=\"glyph2-12\">\n",
       "<path style=\"stroke:none;\" d=\"M 0 -4.5 L -4.015625 -4.5 C -4.328125 -4.5 -4.585938 -4.476562 -4.796875 -4.4375 C -5.003906 -4.40625 -5.171875 -4.34375 -5.296875 -4.25 C -5.421875 -4.15625 -5.507812 -4.03125 -5.5625 -3.875 C -5.613281 -3.726562 -5.640625 -3.550781 -5.640625 -3.34375 C -5.640625 -3.113281 -5.59375 -2.910156 -5.5 -2.734375 C -5.414062 -2.554688 -5.289062 -2.40625 -5.125 -2.28125 C -4.957031 -2.15625 -4.753906 -2.054688 -4.515625 -1.984375 C -4.273438 -1.910156 -3.992188 -1.875 -3.671875 -1.875 L 0 -1.875 L 0 -0.828125 L -4.984375 -0.828125 C -5.117188 -0.828125 -5.257812 -0.828125 -5.40625 -0.828125 C -5.550781 -0.828125 -5.6875 -0.820312 -5.8125 -0.8125 C -5.945312 -0.8125 -6.0625 -0.804688 -6.15625 -0.796875 C -6.25 -0.796875 -6.3125 -0.796875 -6.34375 -0.796875 L -6.34375 -1.796875 C -6.320312 -1.796875 -6.265625 -1.796875 -6.171875 -1.796875 C -6.085938 -1.804688 -5.988281 -1.8125 -5.875 -1.8125 C -5.769531 -1.820312 -5.660156 -1.828125 -5.546875 -1.828125 C -5.429688 -1.835938 -5.332031 -1.84375 -5.25 -1.84375 L -5.25 -1.859375 C -5.4375 -1.953125 -5.601562 -2.050781 -5.75 -2.15625 C -5.90625 -2.269531 -6.03125 -2.398438 -6.125 -2.546875 C -6.226562 -2.691406 -6.304688 -2.859375 -6.359375 -3.046875 C -6.421875 -3.234375 -6.453125 -3.453125 -6.453125 -3.703125 C -6.453125 -4.191406 -6.359375 -4.570312 -6.171875 -4.84375 C -5.984375 -5.125 -5.675781 -5.320312 -5.25 -5.4375 L -5.25 -5.453125 C -5.4375 -5.546875 -5.601562 -5.648438 -5.75 -5.765625 C -5.90625 -5.878906 -6.03125 -6.015625 -6.125 -6.171875 C -6.226562 -6.328125 -6.304688 -6.503906 -6.359375 -6.703125 C -6.421875 -6.898438 -6.453125 -7.125 -6.453125 -7.375 C -6.453125 -7.695312 -6.410156 -7.972656 -6.328125 -8.203125 C -6.242188 -8.429688 -6.109375 -8.617188 -5.921875 -8.765625 C -5.742188 -8.921875 -5.515625 -9.03125 -5.234375 -9.09375 C -4.953125 -9.164062 -4.613281 -9.203125 -4.21875 -9.203125 L 0 -9.203125 L 0 -8.15625 L -4.015625 -8.15625 C -4.328125 -8.15625 -4.585938 -8.132812 -4.796875 -8.09375 C -5.003906 -8.0625 -5.171875 -8 -5.296875 -7.90625 C -5.421875 -7.8125 -5.507812 -7.691406 -5.5625 -7.546875 C -5.613281 -7.398438 -5.640625 -7.21875 -5.640625 -7 C -5.640625 -6.78125 -5.597656 -6.578125 -5.515625 -6.390625 C -5.429688 -6.210938 -5.304688 -6.0625 -5.140625 -5.9375 C -4.984375 -5.8125 -4.78125 -5.710938 -4.53125 -5.640625 C -4.28125 -5.578125 -3.992188 -5.546875 -3.671875 -5.546875 L 0 -5.546875 Z M 0 -4.5 \"/>\n",
       "</symbol>\n",
       "<symbol overflow=\"visible\" id=\"glyph2-13\">\n",
       "<path style=\"stroke:none;\" d=\"M -2.953125 -1.625 C -2.617188 -1.625 -2.3125 -1.65625 -2.03125 -1.71875 C -1.75 -1.789062 -1.507812 -1.894531 -1.3125 -2.03125 C -1.113281 -2.175781 -0.957031 -2.359375 -0.84375 -2.578125 C -0.726562 -2.804688 -0.671875 -3.078125 -0.671875 -3.390625 C -0.671875 -3.847656 -0.757812 -4.210938 -0.9375 -4.484375 C -1.125 -4.765625 -1.359375 -4.953125 -1.640625 -5.046875 L -1.390625 -5.96875 C -1.210938 -5.90625 -1.035156 -5.8125 -0.859375 -5.6875 C -0.679688 -5.570312 -0.519531 -5.414062 -0.375 -5.21875 C -0.226562 -5.019531 -0.109375 -4.769531 -0.015625 -4.46875 C 0.078125 -4.164062 0.125 -3.804688 0.125 -3.390625 C 0.125 -2.453125 -0.15625 -1.738281 -0.71875 -1.25 C -1.28125 -0.757812 -2.113281 -0.515625 -3.21875 -0.515625 C -3.8125 -0.515625 -4.3125 -0.585938 -4.71875 -0.734375 C -5.132812 -0.878906 -5.46875 -1.082031 -5.71875 -1.34375 C -5.976562 -1.601562 -6.164062 -1.90625 -6.28125 -2.25 C -6.394531 -2.59375 -6.453125 -2.957031 -6.453125 -3.34375 C -6.453125 -3.875 -6.363281 -4.316406 -6.1875 -4.671875 C -6.019531 -5.035156 -5.785156 -5.320312 -5.484375 -5.53125 C -5.179688 -5.75 -4.820312 -5.90625 -4.40625 -6 C -4 -6.09375 -3.5625 -6.140625 -3.09375 -6.140625 L -2.953125 -6.140625 Z M -3.75 -5.046875 C -4.425781 -4.992188 -4.914062 -4.828125 -5.21875 -4.546875 C -5.519531 -4.265625 -5.671875 -3.859375 -5.671875 -3.328125 C -5.671875 -3.148438 -5.644531 -2.960938 -5.59375 -2.765625 C -5.539062 -2.578125 -5.441406 -2.398438 -5.296875 -2.234375 C -5.148438 -2.078125 -4.953125 -1.941406 -4.703125 -1.828125 C -4.453125 -1.710938 -4.132812 -1.644531 -3.75 -1.625 Z M -3.75 -5.046875 \"/>\n",
       "</symbol>\n",
       "</g>\n",
       "<clipPath id=\"clip1\">\n",
       "  <path d=\"M 53.152344 5.480469 L 426.523438 5.480469 L 426.523438 321.851562 L 53.152344 321.851562 Z M 53.152344 5.480469 \"/>\n",
       "</clipPath>\n",
       "<clipPath id=\"clip2\">\n",
       "  <path d=\"M 53.152344 271 L 426.523438 271 L 426.523438 272 L 53.152344 272 Z M 53.152344 271 \"/>\n",
       "</clipPath>\n",
       "<clipPath id=\"clip3\">\n",
       "  <path d=\"M 53.152344 199 L 426.523438 199 L 426.523438 200 L 53.152344 200 Z M 53.152344 199 \"/>\n",
       "</clipPath>\n",
       "<clipPath id=\"clip4\">\n",
       "  <path d=\"M 53.152344 127 L 426.523438 127 L 426.523438 128 L 53.152344 128 Z M 53.152344 127 \"/>\n",
       "</clipPath>\n",
       "<clipPath id=\"clip5\">\n",
       "  <path d=\"M 53.152344 55 L 426.523438 55 L 426.523438 57 L 53.152344 57 Z M 53.152344 55 \"/>\n",
       "</clipPath>\n",
       "<clipPath id=\"clip6\">\n",
       "  <path d=\"M 109 5.480469 L 110 5.480469 L 110 321.851562 L 109 321.851562 Z M 109 5.480469 \"/>\n",
       "</clipPath>\n",
       "<clipPath id=\"clip7\">\n",
       "  <path d=\"M 195 5.480469 L 196 5.480469 L 196 321.851562 L 195 321.851562 Z M 195 5.480469 \"/>\n",
       "</clipPath>\n",
       "<clipPath id=\"clip8\">\n",
       "  <path d=\"M 280 5.480469 L 282 5.480469 L 282 321.851562 L 280 321.851562 Z M 280 5.480469 \"/>\n",
       "</clipPath>\n",
       "<clipPath id=\"clip9\">\n",
       "  <path d=\"M 366 5.480469 L 367 5.480469 L 367 321.851562 L 366 321.851562 Z M 366 5.480469 \"/>\n",
       "</clipPath>\n",
       "<clipPath id=\"clip10\">\n",
       "  <path d=\"M 53.152344 306 L 426.523438 306 L 426.523438 309 L 53.152344 309 Z M 53.152344 306 \"/>\n",
       "</clipPath>\n",
       "<clipPath id=\"clip11\">\n",
       "  <path d=\"M 53.152344 235 L 426.523438 235 L 426.523438 237 L 53.152344 237 Z M 53.152344 235 \"/>\n",
       "</clipPath>\n",
       "<clipPath id=\"clip12\">\n",
       "  <path d=\"M 53.152344 163 L 426.523438 163 L 426.523438 165 L 53.152344 165 Z M 53.152344 163 \"/>\n",
       "</clipPath>\n",
       "<clipPath id=\"clip13\">\n",
       "  <path d=\"M 53.152344 91 L 426.523438 91 L 426.523438 93 L 53.152344 93 Z M 53.152344 91 \"/>\n",
       "</clipPath>\n",
       "<clipPath id=\"clip14\">\n",
       "  <path d=\"M 53.152344 19 L 426.523438 19 L 426.523438 21 L 53.152344 21 Z M 53.152344 19 \"/>\n",
       "</clipPath>\n",
       "<clipPath id=\"clip15\">\n",
       "  <path d=\"M 66 5.480469 L 68 5.480469 L 68 321.851562 L 66 321.851562 Z M 66 5.480469 \"/>\n",
       "</clipPath>\n",
       "<clipPath id=\"clip16\">\n",
       "  <path d=\"M 151 5.480469 L 153 5.480469 L 153 321.851562 L 151 321.851562 Z M 151 5.480469 \"/>\n",
       "</clipPath>\n",
       "<clipPath id=\"clip17\">\n",
       "  <path d=\"M 237 5.480469 L 239 5.480469 L 239 321.851562 L 237 321.851562 Z M 237 5.480469 \"/>\n",
       "</clipPath>\n",
       "<clipPath id=\"clip18\">\n",
       "  <path d=\"M 323 5.480469 L 325 5.480469 L 325 321.851562 L 323 321.851562 Z M 323 5.480469 \"/>\n",
       "</clipPath>\n",
       "<clipPath id=\"clip19\">\n",
       "  <path d=\"M 409 5.480469 L 411 5.480469 L 411 321.851562 L 409 321.851562 Z M 409 5.480469 \"/>\n",
       "</clipPath>\n",
       "</defs>\n",
       "<g id=\"surface117\">\n",
       "<rect x=\"0\" y=\"0\" width=\"432\" height=\"360\" style=\"fill:rgb(100%,100%,100%);fill-opacity:1;stroke:none;\"/>\n",
       "<rect x=\"0\" y=\"0\" width=\"432\" height=\"360\" style=\"fill:rgb(100%,100%,100%);fill-opacity:1;stroke:none;\"/>\n",
       "<path style=\"fill:none;stroke-width:1.066978;stroke-linecap:round;stroke-linejoin:round;stroke:rgb(100%,100%,100%);stroke-opacity:1;stroke-miterlimit:10;\" d=\"M 0 360 L 432 360 L 432 0 L 0 0 Z M 0 360 \"/>\n",
       "<g clip-path=\"url(#clip1)\" clip-rule=\"nonzero\">\n",
       "<path style=\" stroke:none;fill-rule:nonzero;fill:rgb(92.156863%,92.156863%,92.156863%);fill-opacity:1;\" d=\"M 53.152344 321.847656 L 426.523438 321.847656 L 426.523438 5.476562 L 53.152344 5.476562 Z M 53.152344 321.847656 \"/>\n",
       "</g>\n",
       "<g clip-path=\"url(#clip2)\" clip-rule=\"nonzero\">\n",
       "<path style=\"fill:none;stroke-width:0.533489;stroke-linecap:butt;stroke-linejoin:round;stroke:rgb(100%,100%,100%);stroke-opacity:1;stroke-miterlimit:10;\" d=\"M 53.152344 271.519531 L 426.519531 271.519531 \"/>\n",
       "</g>\n",
       "<g clip-path=\"url(#clip3)\" clip-rule=\"nonzero\">\n",
       "<path style=\"fill:none;stroke-width:0.533489;stroke-linecap:butt;stroke-linejoin:round;stroke:rgb(100%,100%,100%);stroke-opacity:1;stroke-miterlimit:10;\" d=\"M 53.152344 199.617188 L 426.519531 199.617188 \"/>\n",
       "</g>\n",
       "<g clip-path=\"url(#clip4)\" clip-rule=\"nonzero\">\n",
       "<path style=\"fill:none;stroke-width:0.533489;stroke-linecap:butt;stroke-linejoin:round;stroke:rgb(100%,100%,100%);stroke-opacity:1;stroke-miterlimit:10;\" d=\"M 53.152344 127.714844 L 426.519531 127.714844 \"/>\n",
       "</g>\n",
       "<g clip-path=\"url(#clip5)\" clip-rule=\"nonzero\">\n",
       "<path style=\"fill:none;stroke-width:0.533489;stroke-linecap:butt;stroke-linejoin:round;stroke:rgb(100%,100%,100%);stroke-opacity:1;stroke-miterlimit:10;\" d=\"M 53.152344 55.8125 L 426.519531 55.8125 \"/>\n",
       "</g>\n",
       "<g clip-path=\"url(#clip6)\" clip-rule=\"nonzero\">\n",
       "<path style=\"fill:none;stroke-width:0.533489;stroke-linecap:butt;stroke-linejoin:round;stroke:rgb(100%,100%,100%);stroke-opacity:1;stroke-miterlimit:10;\" d=\"M 109.550781 321.847656 L 109.550781 5.480469 \"/>\n",
       "</g>\n",
       "<g clip-path=\"url(#clip7)\" clip-rule=\"nonzero\">\n",
       "<path style=\"fill:none;stroke-width:0.533489;stroke-linecap:butt;stroke-linejoin:round;stroke:rgb(100%,100%,100%);stroke-opacity:1;stroke-miterlimit:10;\" d=\"M 195.265625 321.847656 L 195.265625 5.480469 \"/>\n",
       "</g>\n",
       "<g clip-path=\"url(#clip8)\" clip-rule=\"nonzero\">\n",
       "<path style=\"fill:none;stroke-width:0.533489;stroke-linecap:butt;stroke-linejoin:round;stroke:rgb(100%,100%,100%);stroke-opacity:1;stroke-miterlimit:10;\" d=\"M 280.976562 321.847656 L 280.976562 5.480469 \"/>\n",
       "</g>\n",
       "<g clip-path=\"url(#clip9)\" clip-rule=\"nonzero\">\n",
       "<path style=\"fill:none;stroke-width:0.533489;stroke-linecap:butt;stroke-linejoin:round;stroke:rgb(100%,100%,100%);stroke-opacity:1;stroke-miterlimit:10;\" d=\"M 366.691406 321.847656 L 366.691406 5.480469 \"/>\n",
       "</g>\n",
       "<g clip-path=\"url(#clip10)\" clip-rule=\"nonzero\">\n",
       "<path style=\"fill:none;stroke-width:1.066978;stroke-linecap:butt;stroke-linejoin:round;stroke:rgb(100%,100%,100%);stroke-opacity:1;stroke-miterlimit:10;\" d=\"M 53.152344 307.46875 L 426.519531 307.46875 \"/>\n",
       "</g>\n",
       "<g clip-path=\"url(#clip11)\" clip-rule=\"nonzero\">\n",
       "<path style=\"fill:none;stroke-width:1.066978;stroke-linecap:butt;stroke-linejoin:round;stroke:rgb(100%,100%,100%);stroke-opacity:1;stroke-miterlimit:10;\" d=\"M 53.152344 235.566406 L 426.519531 235.566406 \"/>\n",
       "</g>\n",
       "<g clip-path=\"url(#clip12)\" clip-rule=\"nonzero\">\n",
       "<path style=\"fill:none;stroke-width:1.066978;stroke-linecap:butt;stroke-linejoin:round;stroke:rgb(100%,100%,100%);stroke-opacity:1;stroke-miterlimit:10;\" d=\"M 53.152344 163.664062 L 426.519531 163.664062 \"/>\n",
       "</g>\n",
       "<g clip-path=\"url(#clip13)\" clip-rule=\"nonzero\">\n",
       "<path style=\"fill:none;stroke-width:1.066978;stroke-linecap:butt;stroke-linejoin:round;stroke:rgb(100%,100%,100%);stroke-opacity:1;stroke-miterlimit:10;\" d=\"M 53.152344 91.761719 L 426.519531 91.761719 \"/>\n",
       "</g>\n",
       "<g clip-path=\"url(#clip14)\" clip-rule=\"nonzero\">\n",
       "<path style=\"fill:none;stroke-width:1.066978;stroke-linecap:butt;stroke-linejoin:round;stroke:rgb(100%,100%,100%);stroke-opacity:1;stroke-miterlimit:10;\" d=\"M 53.152344 19.859375 L 426.519531 19.859375 \"/>\n",
       "</g>\n",
       "<g clip-path=\"url(#clip15)\" clip-rule=\"nonzero\">\n",
       "<path style=\"fill:none;stroke-width:1.066978;stroke-linecap:butt;stroke-linejoin:round;stroke:rgb(100%,100%,100%);stroke-opacity:1;stroke-miterlimit:10;\" d=\"M 66.695312 321.847656 L 66.695312 5.480469 \"/>\n",
       "</g>\n",
       "<g clip-path=\"url(#clip16)\" clip-rule=\"nonzero\">\n",
       "<path style=\"fill:none;stroke-width:1.066978;stroke-linecap:butt;stroke-linejoin:round;stroke:rgb(100%,100%,100%);stroke-opacity:1;stroke-miterlimit:10;\" d=\"M 152.40625 321.847656 L 152.40625 5.480469 \"/>\n",
       "</g>\n",
       "<g clip-path=\"url(#clip17)\" clip-rule=\"nonzero\">\n",
       "<path style=\"fill:none;stroke-width:1.066978;stroke-linecap:butt;stroke-linejoin:round;stroke:rgb(100%,100%,100%);stroke-opacity:1;stroke-miterlimit:10;\" d=\"M 238.121094 321.847656 L 238.121094 5.480469 \"/>\n",
       "</g>\n",
       "<g clip-path=\"url(#clip18)\" clip-rule=\"nonzero\">\n",
       "<path style=\"fill:none;stroke-width:1.066978;stroke-linecap:butt;stroke-linejoin:round;stroke:rgb(100%,100%,100%);stroke-opacity:1;stroke-miterlimit:10;\" d=\"M 323.835938 321.847656 L 323.835938 5.480469 \"/>\n",
       "</g>\n",
       "<g clip-path=\"url(#clip19)\" clip-rule=\"nonzero\">\n",
       "<path style=\"fill:none;stroke-width:1.066978;stroke-linecap:butt;stroke-linejoin:round;stroke:rgb(100%,100%,100%);stroke-opacity:1;stroke-miterlimit:10;\" d=\"M 409.550781 321.847656 L 409.550781 5.480469 \"/>\n",
       "</g>\n",
       "<path style=\"fill-rule:nonzero;fill:rgb(0%,0%,0%);fill-opacity:1;stroke-width:0.708661;stroke-linecap:round;stroke-linejoin:round;stroke:rgb(0%,0%,0%);stroke-opacity:1;stroke-miterlimit:10;\" d=\"M 72.078125 51.261719 C 72.078125 53.867188 68.167969 53.867188 68.167969 51.261719 C 68.167969 48.652344 72.078125 48.652344 72.078125 51.261719 \"/>\n",
       "<path style=\"fill-rule:nonzero;fill:rgb(0%,0%,0%);fill-opacity:1;stroke-width:0.708661;stroke-linecap:round;stroke-linejoin:round;stroke:rgb(0%,0%,0%);stroke-opacity:1;stroke-miterlimit:10;\" d=\"M 75.503906 51.261719 C 75.503906 53.867188 71.597656 53.867188 71.597656 51.261719 C 71.597656 48.652344 75.503906 48.652344 75.503906 51.261719 \"/>\n",
       "<path style=\"fill-rule:nonzero;fill:rgb(0%,0%,0%);fill-opacity:1;stroke-width:0.708661;stroke-linecap:round;stroke-linejoin:round;stroke:rgb(0%,0%,0%);stroke-opacity:1;stroke-miterlimit:10;\" d=\"M 78.933594 73.097656 C 78.933594 75.707031 75.023438 75.707031 75.023438 73.097656 C 75.023438 70.492188 78.933594 70.492188 78.933594 73.097656 \"/>\n",
       "<path style=\"fill-rule:nonzero;fill:rgb(0%,0%,0%);fill-opacity:1;stroke-width:0.708661;stroke-linecap:round;stroke-linejoin:round;stroke:rgb(0%,0%,0%);stroke-opacity:1;stroke-miterlimit:10;\" d=\"M 82.363281 73.097656 C 82.363281 75.707031 78.453125 75.707031 78.453125 73.097656 C 78.453125 70.492188 82.363281 70.492188 82.363281 73.097656 \"/>\n",
       "<path style=\"fill-rule:nonzero;fill:rgb(0%,0%,0%);fill-opacity:1;stroke-width:0.708661;stroke-linecap:round;stroke-linejoin:round;stroke:rgb(0%,0%,0%);stroke-opacity:1;stroke-miterlimit:10;\" d=\"M 85.792969 91.042969 C 85.792969 93.648438 81.882812 93.648438 81.882812 91.042969 C 81.882812 88.433594 85.792969 88.433594 85.792969 91.042969 \"/>\n",
       "<path style=\"fill-rule:nonzero;fill:rgb(0%,0%,0%);fill-opacity:1;stroke-width:0.708661;stroke-linecap:round;stroke-linejoin:round;stroke:rgb(0%,0%,0%);stroke-opacity:1;stroke-miterlimit:10;\" d=\"M 89.21875 91.042969 C 89.21875 93.648438 85.308594 93.648438 85.308594 91.042969 C 85.308594 88.433594 89.21875 88.433594 89.21875 91.042969 \"/>\n",
       "<path style=\"fill-rule:nonzero;fill:rgb(0%,0%,0%);fill-opacity:1;stroke-width:0.708661;stroke-linecap:round;stroke-linejoin:round;stroke:rgb(0%,0%,0%);stroke-opacity:1;stroke-miterlimit:10;\" d=\"M 92.648438 110.28125 C 92.648438 112.890625 88.738281 112.890625 88.738281 110.28125 C 88.738281 107.675781 92.648438 107.675781 92.648438 110.28125 \"/>\n",
       "<path style=\"fill-rule:nonzero;fill:rgb(0%,0%,0%);fill-opacity:1;stroke-width:0.708661;stroke-linecap:round;stroke-linejoin:round;stroke:rgb(0%,0%,0%);stroke-opacity:1;stroke-miterlimit:10;\" d=\"M 96.078125 110.28125 C 96.078125 112.890625 92.167969 112.890625 92.167969 110.28125 C 92.167969 107.675781 96.078125 107.675781 96.078125 110.28125 \"/>\n",
       "<path style=\"fill-rule:nonzero;fill:rgb(0%,0%,0%);fill-opacity:1;stroke-width:0.708661;stroke-linecap:round;stroke-linejoin:round;stroke:rgb(0%,0%,0%);stroke-opacity:1;stroke-miterlimit:10;\" d=\"M 99.503906 130.585938 C 99.503906 133.195312 95.59375 133.195312 95.59375 130.585938 C 95.59375 127.980469 99.503906 127.980469 99.503906 130.585938 \"/>\n",
       "<path style=\"fill-rule:nonzero;fill:rgb(0%,0%,0%);fill-opacity:1;stroke-width:0.708661;stroke-linecap:round;stroke-linejoin:round;stroke:rgb(0%,0%,0%);stroke-opacity:1;stroke-miterlimit:10;\" d=\"M 102.933594 130.585938 C 102.933594 133.195312 99.023438 133.195312 99.023438 130.585938 C 99.023438 127.980469 102.933594 127.980469 102.933594 130.585938 \"/>\n",
       "<path style=\"fill-rule:nonzero;fill:rgb(0%,0%,0%);fill-opacity:1;stroke-width:0.708661;stroke-linecap:round;stroke-linejoin:round;stroke:rgb(0%,0%,0%);stroke-opacity:1;stroke-miterlimit:10;\" d=\"M 106.363281 145.460938 C 106.363281 148.066406 102.453125 148.066406 102.453125 145.460938 C 102.453125 142.855469 106.363281 142.855469 106.363281 145.460938 \"/>\n",
       "<path style=\"fill-rule:nonzero;fill:rgb(0%,0%,0%);fill-opacity:1;stroke-width:0.708661;stroke-linecap:round;stroke-linejoin:round;stroke:rgb(0%,0%,0%);stroke-opacity:1;stroke-miterlimit:10;\" d=\"M 109.789062 145.460938 C 109.789062 148.066406 105.882812 148.066406 105.882812 145.460938 C 105.882812 142.855469 109.789062 142.855469 109.789062 145.460938 \"/>\n",
       "<path style=\"fill-rule:nonzero;fill:rgb(0%,0%,0%);fill-opacity:1;stroke-width:0.708661;stroke-linecap:round;stroke-linejoin:round;stroke:rgb(0%,0%,0%);stroke-opacity:1;stroke-miterlimit:10;\" d=\"M 113.21875 159.742188 C 113.21875 162.351562 109.308594 162.351562 109.308594 159.742188 C 109.308594 157.136719 113.21875 157.136719 113.21875 159.742188 \"/>\n",
       "<path style=\"fill-rule:nonzero;fill:rgb(0%,0%,0%);fill-opacity:1;stroke-width:0.708661;stroke-linecap:round;stroke-linejoin:round;stroke:rgb(0%,0%,0%);stroke-opacity:1;stroke-miterlimit:10;\" d=\"M 116.648438 159.742188 C 116.648438 162.351562 112.738281 162.351562 112.738281 159.742188 C 112.738281 157.136719 116.648438 157.136719 116.648438 159.742188 \"/>\n",
       "<path style=\"fill-rule:nonzero;fill:rgb(0%,0%,0%);fill-opacity:1;stroke-width:0.708661;stroke-linecap:round;stroke-linejoin:round;stroke:rgb(0%,0%,0%);stroke-opacity:1;stroke-miterlimit:10;\" d=\"M 120.078125 163.640625 C 120.078125 166.246094 116.167969 166.246094 116.167969 163.640625 C 116.167969 161.03125 120.078125 161.03125 120.078125 163.640625 \"/>\n",
       "<path style=\"fill-rule:nonzero;fill:rgb(0%,0%,0%);fill-opacity:1;stroke-width:0.708661;stroke-linecap:round;stroke-linejoin:round;stroke:rgb(0%,0%,0%);stroke-opacity:1;stroke-miterlimit:10;\" d=\"M 123.503906 163.640625 C 123.503906 166.246094 119.59375 166.246094 119.59375 163.640625 C 119.59375 161.03125 123.503906 161.03125 123.503906 163.640625 \"/>\n",
       "<path style=\"fill-rule:nonzero;fill:rgb(0%,0%,0%);fill-opacity:1;stroke-width:0.708661;stroke-linecap:round;stroke-linejoin:round;stroke:rgb(0%,0%,0%);stroke-opacity:1;stroke-miterlimit:10;\" d=\"M 126.933594 169.777344 C 126.933594 172.386719 123.023438 172.386719 123.023438 169.777344 C 123.023438 167.171875 126.933594 167.171875 126.933594 169.777344 \"/>\n",
       "<path style=\"fill-rule:nonzero;fill:rgb(0%,0%,0%);fill-opacity:1;stroke-width:0.708661;stroke-linecap:round;stroke-linejoin:round;stroke:rgb(0%,0%,0%);stroke-opacity:1;stroke-miterlimit:10;\" d=\"M 130.363281 169.777344 C 130.363281 172.386719 126.453125 172.386719 126.453125 169.777344 C 126.453125 167.171875 130.363281 167.171875 130.363281 169.777344 \"/>\n",
       "<path style=\"fill-rule:nonzero;fill:rgb(0%,0%,0%);fill-opacity:1;stroke-width:0.708661;stroke-linecap:round;stroke-linejoin:round;stroke:rgb(0%,0%,0%);stroke-opacity:1;stroke-miterlimit:10;\" d=\"M 133.789062 173.203125 C 133.789062 175.808594 129.882812 175.808594 129.882812 173.203125 C 129.882812 170.59375 133.789062 170.59375 133.789062 173.203125 \"/>\n",
       "<path style=\"fill-rule:nonzero;fill:rgb(0%,0%,0%);fill-opacity:1;stroke-width:0.708661;stroke-linecap:round;stroke-linejoin:round;stroke:rgb(0%,0%,0%);stroke-opacity:1;stroke-miterlimit:10;\" d=\"M 137.21875 173.203125 C 137.21875 175.808594 133.308594 175.808594 133.308594 173.203125 C 133.308594 170.59375 137.21875 170.59375 137.21875 173.203125 \"/>\n",
       "<path style=\"fill-rule:nonzero;fill:rgb(0%,0%,0%);fill-opacity:1;stroke-width:0.708661;stroke-linecap:round;stroke-linejoin:round;stroke:rgb(0%,0%,0%);stroke-opacity:1;stroke-miterlimit:10;\" d=\"M 140.648438 177.921875 C 140.648438 180.53125 136.738281 180.53125 136.738281 177.921875 C 136.738281 175.316406 140.648438 175.316406 140.648438 177.921875 \"/>\n",
       "<path style=\"fill-rule:nonzero;fill:rgb(0%,0%,0%);fill-opacity:1;stroke-width:0.708661;stroke-linecap:round;stroke-linejoin:round;stroke:rgb(0%,0%,0%);stroke-opacity:1;stroke-miterlimit:10;\" d=\"M 144.078125 177.921875 C 144.078125 180.53125 140.167969 180.53125 140.167969 177.921875 C 140.167969 175.316406 144.078125 175.316406 144.078125 177.921875 \"/>\n",
       "<path style=\"fill-rule:nonzero;fill:rgb(0%,0%,0%);fill-opacity:1;stroke-width:0.708661;stroke-linecap:round;stroke-linejoin:round;stroke:rgb(0%,0%,0%);stroke-opacity:1;stroke-miterlimit:10;\" d=\"M 147.503906 175.800781 C 147.503906 178.40625 143.59375 178.40625 143.59375 175.800781 C 143.59375 173.191406 147.503906 173.191406 147.503906 175.800781 \"/>\n",
       "<path style=\"fill-rule:nonzero;fill:rgb(0%,0%,0%);fill-opacity:1;stroke-width:0.708661;stroke-linecap:round;stroke-linejoin:round;stroke:rgb(0%,0%,0%);stroke-opacity:1;stroke-miterlimit:10;\" d=\"M 150.933594 175.800781 C 150.933594 178.40625 147.023438 178.40625 147.023438 175.800781 C 147.023438 173.191406 150.933594 173.191406 150.933594 175.800781 \"/>\n",
       "<path style=\"fill-rule:nonzero;fill:rgb(0%,0%,0%);fill-opacity:1;stroke-width:0.708661;stroke-linecap:round;stroke-linejoin:round;stroke:rgb(0%,0%,0%);stroke-opacity:1;stroke-miterlimit:10;\" d=\"M 154.363281 176.980469 C 154.363281 179.585938 150.453125 179.585938 150.453125 176.980469 C 150.453125 174.375 154.363281 174.375 154.363281 176.980469 \"/>\n",
       "<path style=\"fill-rule:nonzero;fill:rgb(0%,0%,0%);fill-opacity:1;stroke-width:0.708661;stroke-linecap:round;stroke-linejoin:round;stroke:rgb(0%,0%,0%);stroke-opacity:1;stroke-miterlimit:10;\" d=\"M 157.789062 176.980469 C 157.789062 179.585938 153.882812 179.585938 153.882812 176.980469 C 153.882812 174.375 157.789062 174.375 157.789062 176.980469 \"/>\n",
       "<path style=\"fill-rule:nonzero;fill:rgb(0%,0%,0%);fill-opacity:1;stroke-width:0.708661;stroke-linecap:round;stroke-linejoin:round;stroke:rgb(0%,0%,0%);stroke-opacity:1;stroke-miterlimit:10;\" d=\"M 161.21875 178.984375 C 161.21875 181.59375 157.308594 181.59375 157.308594 178.984375 C 157.308594 176.378906 161.21875 176.378906 161.21875 178.984375 \"/>\n",
       "<path style=\"fill-rule:nonzero;fill:rgb(0%,0%,0%);fill-opacity:1;stroke-width:0.708661;stroke-linecap:round;stroke-linejoin:round;stroke:rgb(0%,0%,0%);stroke-opacity:1;stroke-miterlimit:10;\" d=\"M 164.648438 178.984375 C 164.648438 181.59375 160.738281 181.59375 160.738281 178.984375 C 160.738281 176.378906 164.648438 176.378906 164.648438 178.984375 \"/>\n",
       "<path style=\"fill-rule:nonzero;fill:rgb(0%,0%,0%);fill-opacity:1;stroke-width:0.708661;stroke-linecap:round;stroke-linejoin:round;stroke:rgb(0%,0%,0%);stroke-opacity:1;stroke-miterlimit:10;\" d=\"M 168.078125 177.6875 C 168.078125 180.292969 164.167969 180.292969 164.167969 177.6875 C 164.167969 175.082031 168.078125 175.082031 168.078125 177.6875 \"/>\n",
       "<path style=\"fill-rule:nonzero;fill:rgb(0%,0%,0%);fill-opacity:1;stroke-width:0.708661;stroke-linecap:round;stroke-linejoin:round;stroke:rgb(0%,0%,0%);stroke-opacity:1;stroke-miterlimit:10;\" d=\"M 171.503906 177.6875 C 171.503906 180.292969 167.59375 180.292969 167.59375 177.6875 C 167.59375 175.082031 171.503906 175.082031 171.503906 177.6875 \"/>\n",
       "<path style=\"fill-rule:nonzero;fill:rgb(0%,0%,0%);fill-opacity:1;stroke-width:0.708661;stroke-linecap:round;stroke-linejoin:round;stroke:rgb(0%,0%,0%);stroke-opacity:1;stroke-miterlimit:10;\" d=\"M 174.933594 180.992188 C 174.933594 183.597656 171.023438 183.597656 171.023438 180.992188 C 171.023438 178.386719 174.933594 178.386719 174.933594 180.992188 \"/>\n",
       "<path style=\"fill-rule:nonzero;fill:rgb(0%,0%,0%);fill-opacity:1;stroke-width:0.708661;stroke-linecap:round;stroke-linejoin:round;stroke:rgb(0%,0%,0%);stroke-opacity:1;stroke-miterlimit:10;\" d=\"M 178.363281 180.992188 C 178.363281 183.597656 174.453125 183.597656 174.453125 180.992188 C 174.453125 178.386719 178.363281 178.386719 178.363281 180.992188 \"/>\n",
       "<path style=\"fill-rule:nonzero;fill:rgb(0%,0%,0%);fill-opacity:1;stroke-width:0.708661;stroke-linecap:round;stroke-linejoin:round;stroke:rgb(0%,0%,0%);stroke-opacity:1;stroke-miterlimit:10;\" d=\"M 181.789062 182.054688 C 181.789062 184.660156 177.882812 184.660156 177.882812 182.054688 C 177.882812 179.449219 181.789062 179.449219 181.789062 182.054688 \"/>\n",
       "<path style=\"fill-rule:nonzero;fill:rgb(0%,0%,0%);fill-opacity:1;stroke-width:0.708661;stroke-linecap:round;stroke-linejoin:round;stroke:rgb(0%,0%,0%);stroke-opacity:1;stroke-miterlimit:10;\" d=\"M 185.21875 182.054688 C 185.21875 184.660156 181.308594 184.660156 181.308594 182.054688 C 181.308594 179.449219 185.21875 179.449219 185.21875 182.054688 \"/>\n",
       "<path style=\"fill-rule:nonzero;fill:rgb(0%,0%,0%);fill-opacity:1;stroke-width:0.708661;stroke-linecap:round;stroke-linejoin:round;stroke:rgb(0%,0%,0%);stroke-opacity:1;stroke-miterlimit:10;\" d=\"M 188.648438 182.761719 C 188.648438 185.371094 184.738281 185.371094 184.738281 182.761719 C 184.738281 180.15625 188.648438 180.15625 188.648438 182.761719 \"/>\n",
       "<path style=\"fill-rule:nonzero;fill:rgb(0%,0%,0%);fill-opacity:1;stroke-width:0.708661;stroke-linecap:round;stroke-linejoin:round;stroke:rgb(0%,0%,0%);stroke-opacity:1;stroke-miterlimit:10;\" d=\"M 192.078125 182.761719 C 192.078125 185.371094 188.167969 185.371094 188.167969 182.761719 C 188.167969 180.15625 192.078125 180.15625 192.078125 182.761719 \"/>\n",
       "<path style=\"fill-rule:nonzero;fill:rgb(0%,0%,0%);fill-opacity:1;stroke-width:0.708661;stroke-linecap:round;stroke-linejoin:round;stroke:rgb(0%,0%,0%);stroke-opacity:1;stroke-miterlimit:10;\" d=\"M 195.503906 185.476562 C 195.503906 188.085938 191.59375 188.085938 191.59375 185.476562 C 191.59375 182.871094 195.503906 182.871094 195.503906 185.476562 \"/>\n",
       "<path style=\"fill-rule:nonzero;fill:rgb(0%,0%,0%);fill-opacity:1;stroke-width:0.708661;stroke-linecap:round;stroke-linejoin:round;stroke:rgb(0%,0%,0%);stroke-opacity:1;stroke-miterlimit:10;\" d=\"M 198.933594 185.476562 C 198.933594 188.085938 195.023438 188.085938 195.023438 185.476562 C 195.023438 182.871094 198.933594 182.871094 198.933594 185.476562 \"/>\n",
       "<path style=\"fill-rule:nonzero;fill:rgb(0%,0%,0%);fill-opacity:1;stroke-width:0.708661;stroke-linecap:round;stroke-linejoin:round;stroke:rgb(0%,0%,0%);stroke-opacity:1;stroke-miterlimit:10;\" d=\"M 202.363281 186.1875 C 202.363281 188.792969 198.453125 188.792969 198.453125 186.1875 C 198.453125 183.578125 202.363281 183.578125 202.363281 186.1875 \"/>\n",
       "<path style=\"fill-rule:nonzero;fill:rgb(0%,0%,0%);fill-opacity:1;stroke-width:0.708661;stroke-linecap:round;stroke-linejoin:round;stroke:rgb(0%,0%,0%);stroke-opacity:1;stroke-miterlimit:10;\" d=\"M 205.789062 186.1875 C 205.789062 188.792969 201.882812 188.792969 201.882812 186.1875 C 201.882812 183.578125 205.789062 183.578125 205.789062 186.1875 \"/>\n",
       "<path style=\"fill-rule:nonzero;fill:rgb(0%,0%,0%);fill-opacity:1;stroke-width:0.708661;stroke-linecap:round;stroke-linejoin:round;stroke:rgb(0%,0%,0%);stroke-opacity:1;stroke-miterlimit:10;\" d=\"M 209.21875 186.066406 C 209.21875 188.675781 205.308594 188.675781 205.308594 186.066406 C 205.308594 183.460938 209.21875 183.460938 209.21875 186.066406 \"/>\n",
       "<path style=\"fill-rule:nonzero;fill:rgb(0%,0%,0%);fill-opacity:1;stroke-width:0.708661;stroke-linecap:round;stroke-linejoin:round;stroke:rgb(0%,0%,0%);stroke-opacity:1;stroke-miterlimit:10;\" d=\"M 212.648438 186.066406 C 212.648438 188.675781 208.738281 188.675781 208.738281 186.066406 C 208.738281 183.460938 212.648438 183.460938 212.648438 186.066406 \"/>\n",
       "<path style=\"fill-rule:nonzero;fill:rgb(0%,0%,0%);fill-opacity:1;stroke-width:0.708661;stroke-linecap:round;stroke-linejoin:round;stroke:rgb(0%,0%,0%);stroke-opacity:1;stroke-miterlimit:10;\" d=\"M 216.078125 186.1875 C 216.078125 188.792969 212.167969 188.792969 212.167969 186.1875 C 212.167969 183.578125 216.078125 183.578125 216.078125 186.1875 \"/>\n",
       "<path style=\"fill-rule:nonzero;fill:rgb(0%,0%,0%);fill-opacity:1;stroke-width:0.708661;stroke-linecap:round;stroke-linejoin:round;stroke:rgb(0%,0%,0%);stroke-opacity:1;stroke-miterlimit:10;\" d=\"M 219.503906 186.1875 C 219.503906 188.792969 215.59375 188.792969 215.59375 186.1875 C 215.59375 183.578125 219.503906 183.578125 219.503906 186.1875 \"/>\n",
       "<path style=\"fill-rule:nonzero;fill:rgb(0%,0%,0%);fill-opacity:1;stroke-width:0.708661;stroke-linecap:round;stroke-linejoin:round;stroke:rgb(0%,0%,0%);stroke-opacity:1;stroke-miterlimit:10;\" d=\"M 222.933594 187.957031 C 222.933594 190.5625 219.023438 190.5625 219.023438 187.957031 C 219.023438 185.351562 222.933594 185.351562 222.933594 187.957031 \"/>\n",
       "<path style=\"fill-rule:nonzero;fill:rgb(0%,0%,0%);fill-opacity:1;stroke-width:0.708661;stroke-linecap:round;stroke-linejoin:round;stroke:rgb(0%,0%,0%);stroke-opacity:1;stroke-miterlimit:10;\" d=\"M 226.363281 187.957031 C 226.363281 190.5625 222.453125 190.5625 222.453125 187.957031 C 222.453125 185.351562 226.363281 185.351562 226.363281 187.957031 \"/>\n",
       "<path style=\"fill-rule:nonzero;fill:rgb(0%,0%,0%);fill-opacity:1;stroke-width:0.708661;stroke-linecap:round;stroke-linejoin:round;stroke:rgb(0%,0%,0%);stroke-opacity:1;stroke-miterlimit:10;\" d=\"M 229.789062 187.011719 C 229.789062 189.617188 225.882812 189.617188 225.882812 187.011719 C 225.882812 184.40625 229.789062 184.40625 229.789062 187.011719 \"/>\n",
       "<path style=\"fill-rule:nonzero;fill:rgb(0%,0%,0%);fill-opacity:1;stroke-width:0.708661;stroke-linecap:round;stroke-linejoin:round;stroke:rgb(0%,0%,0%);stroke-opacity:1;stroke-miterlimit:10;\" d=\"M 233.21875 187.011719 C 233.21875 189.617188 229.308594 189.617188 229.308594 187.011719 C 229.308594 184.40625 233.21875 184.40625 233.21875 187.011719 \"/>\n",
       "<path style=\"fill-rule:nonzero;fill:rgb(0%,0%,0%);fill-opacity:1;stroke-width:0.708661;stroke-linecap:round;stroke-linejoin:round;stroke:rgb(0%,0%,0%);stroke-opacity:1;stroke-miterlimit:10;\" d=\"M 236.648438 188.074219 C 236.648438 190.679688 232.738281 190.679688 232.738281 188.074219 C 232.738281 185.46875 236.648438 185.46875 236.648438 188.074219 \"/>\n",
       "<path style=\"fill-rule:nonzero;fill:rgb(0%,0%,0%);fill-opacity:1;stroke-width:0.708661;stroke-linecap:round;stroke-linejoin:round;stroke:rgb(0%,0%,0%);stroke-opacity:1;stroke-miterlimit:10;\" d=\"M 240.074219 188.074219 C 240.074219 190.679688 236.167969 190.679688 236.167969 188.074219 C 236.167969 185.46875 240.074219 185.46875 240.074219 188.074219 \"/>\n",
       "<path style=\"fill-rule:nonzero;fill:rgb(0%,0%,0%);fill-opacity:1;stroke-width:0.708661;stroke-linecap:round;stroke-linejoin:round;stroke:rgb(0%,0%,0%);stroke-opacity:1;stroke-miterlimit:10;\" d=\"M 243.503906 189.253906 C 243.503906 191.863281 239.59375 191.863281 239.59375 189.253906 C 239.59375 186.648438 243.503906 186.648438 243.503906 189.253906 \"/>\n",
       "<path style=\"fill-rule:nonzero;fill:rgb(0%,0%,0%);fill-opacity:1;stroke-width:0.708661;stroke-linecap:round;stroke-linejoin:round;stroke:rgb(0%,0%,0%);stroke-opacity:1;stroke-miterlimit:10;\" d=\"M 246.933594 189.253906 C 246.933594 191.863281 243.023438 191.863281 243.023438 189.253906 C 243.023438 186.648438 246.933594 186.648438 246.933594 189.253906 \"/>\n",
       "<path style=\"fill-rule:nonzero;fill:rgb(0%,0%,0%);fill-opacity:1;stroke-width:0.708661;stroke-linecap:round;stroke-linejoin:round;stroke:rgb(0%,0%,0%);stroke-opacity:1;stroke-miterlimit:10;\" d=\"M 250.363281 188.785156 C 250.363281 191.390625 246.453125 191.390625 246.453125 188.785156 C 246.453125 186.175781 250.363281 186.175781 250.363281 188.785156 \"/>\n",
       "<path style=\"fill-rule:nonzero;fill:rgb(0%,0%,0%);fill-opacity:1;stroke-width:0.708661;stroke-linecap:round;stroke-linejoin:round;stroke:rgb(0%,0%,0%);stroke-opacity:1;stroke-miterlimit:10;\" d=\"M 253.789062 188.785156 C 253.789062 191.390625 249.878906 191.390625 249.878906 188.785156 C 249.878906 186.175781 253.789062 186.175781 253.789062 188.785156 \"/>\n",
       "<path style=\"fill-rule:nonzero;fill:rgb(0%,0%,0%);fill-opacity:1;stroke-width:0.708661;stroke-linecap:round;stroke-linejoin:round;stroke:rgb(0%,0%,0%);stroke-opacity:1;stroke-miterlimit:10;\" d=\"M 257.21875 190.199219 C 257.21875 192.804688 253.308594 192.804688 253.308594 190.199219 C 253.308594 187.59375 257.21875 187.59375 257.21875 190.199219 \"/>\n",
       "<path style=\"fill-rule:nonzero;fill:rgb(0%,0%,0%);fill-opacity:1;stroke-width:0.708661;stroke-linecap:round;stroke-linejoin:round;stroke:rgb(0%,0%,0%);stroke-opacity:1;stroke-miterlimit:10;\" d=\"M 260.648438 190.199219 C 260.648438 192.804688 256.738281 192.804688 256.738281 190.199219 C 256.738281 187.59375 260.648438 187.59375 260.648438 190.199219 \"/>\n",
       "<path style=\"fill-rule:nonzero;fill:rgb(0%,0%,0%);fill-opacity:1;stroke-width:0.708661;stroke-linecap:round;stroke-linejoin:round;stroke:rgb(0%,0%,0%);stroke-opacity:1;stroke-miterlimit:10;\" d=\"M 264.074219 192.324219 C 264.074219 194.929688 260.167969 194.929688 260.167969 192.324219 C 260.167969 189.71875 264.074219 189.71875 264.074219 192.324219 \"/>\n",
       "<path style=\"fill-rule:nonzero;fill:rgb(0%,0%,0%);fill-opacity:1;stroke-width:0.708661;stroke-linecap:round;stroke-linejoin:round;stroke:rgb(0%,0%,0%);stroke-opacity:1;stroke-miterlimit:10;\" d=\"M 267.503906 192.324219 C 267.503906 194.929688 263.59375 194.929688 263.59375 192.324219 C 263.59375 189.71875 267.503906 189.71875 267.503906 192.324219 \"/>\n",
       "<path style=\"fill-rule:nonzero;fill:rgb(0%,0%,0%);fill-opacity:1;stroke-width:0.708661;stroke-linecap:round;stroke-linejoin:round;stroke:rgb(0%,0%,0%);stroke-opacity:1;stroke-miterlimit:10;\" d=\"M 270.933594 193.503906 C 270.933594 196.113281 267.023438 196.113281 267.023438 193.503906 C 267.023438 190.898438 270.933594 190.898438 270.933594 193.503906 \"/>\n",
       "<path style=\"fill-rule:nonzero;fill:rgb(0%,0%,0%);fill-opacity:1;stroke-width:0.708661;stroke-linecap:round;stroke-linejoin:round;stroke:rgb(0%,0%,0%);stroke-opacity:1;stroke-miterlimit:10;\" d=\"M 274.363281 193.503906 C 274.363281 196.113281 270.453125 196.113281 270.453125 193.503906 C 270.453125 190.898438 274.363281 190.898438 274.363281 193.503906 \"/>\n",
       "<path style=\"fill-rule:nonzero;fill:rgb(0%,0%,0%);fill-opacity:1;stroke-width:0.708661;stroke-linecap:round;stroke-linejoin:round;stroke:rgb(0%,0%,0%);stroke-opacity:1;stroke-miterlimit:10;\" d=\"M 277.789062 193.503906 C 277.789062 196.113281 273.878906 196.113281 273.878906 193.503906 C 273.878906 190.898438 277.789062 190.898438 277.789062 193.503906 \"/>\n",
       "<path style=\"fill-rule:nonzero;fill:rgb(0%,0%,0%);fill-opacity:1;stroke-width:0.708661;stroke-linecap:round;stroke-linejoin:round;stroke:rgb(0%,0%,0%);stroke-opacity:1;stroke-miterlimit:10;\" d=\"M 281.21875 193.503906 C 281.21875 196.113281 277.308594 196.113281 277.308594 193.503906 C 277.308594 190.898438 281.21875 190.898438 281.21875 193.503906 \"/>\n",
       "<path style=\"fill-rule:nonzero;fill:rgb(0%,0%,0%);fill-opacity:1;stroke-width:0.708661;stroke-linecap:round;stroke-linejoin:round;stroke:rgb(0%,0%,0%);stroke-opacity:1;stroke-miterlimit:10;\" d=\"M 284.648438 195.628906 C 284.648438 198.238281 280.738281 198.238281 280.738281 195.628906 C 280.738281 193.023438 284.648438 193.023438 284.648438 195.628906 \"/>\n",
       "<path style=\"fill-rule:nonzero;fill:rgb(0%,0%,0%);fill-opacity:1;stroke-width:0.708661;stroke-linecap:round;stroke-linejoin:round;stroke:rgb(0%,0%,0%);stroke-opacity:1;stroke-miterlimit:10;\" d=\"M 288.074219 195.628906 C 288.074219 198.238281 284.167969 198.238281 284.167969 195.628906 C 284.167969 193.023438 288.074219 193.023438 288.074219 195.628906 \"/>\n",
       "<path style=\"fill-rule:nonzero;fill:rgb(0%,0%,0%);fill-opacity:1;stroke-width:0.708661;stroke-linecap:round;stroke-linejoin:round;stroke:rgb(0%,0%,0%);stroke-opacity:1;stroke-miterlimit:10;\" d=\"M 291.503906 195.628906 C 291.503906 198.238281 287.59375 198.238281 287.59375 195.628906 C 287.59375 193.023438 291.503906 193.023438 291.503906 195.628906 \"/>\n",
       "<path style=\"fill-rule:nonzero;fill:rgb(0%,0%,0%);fill-opacity:1;stroke-width:0.708661;stroke-linecap:round;stroke-linejoin:round;stroke:rgb(0%,0%,0%);stroke-opacity:1;stroke-miterlimit:10;\" d=\"M 294.933594 195.628906 C 294.933594 198.238281 291.023438 198.238281 291.023438 195.628906 C 291.023438 193.023438 294.933594 193.023438 294.933594 195.628906 \"/>\n",
       "<path style=\"fill-rule:nonzero;fill:rgb(0%,0%,0%);fill-opacity:1;stroke-width:0.708661;stroke-linecap:round;stroke-linejoin:round;stroke:rgb(0%,0%,0%);stroke-opacity:1;stroke-miterlimit:10;\" d=\"M 298.363281 197.519531 C 298.363281 200.125 294.453125 200.125 294.453125 197.519531 C 294.453125 194.910156 298.363281 194.910156 298.363281 197.519531 \"/>\n",
       "<path style=\"fill-rule:nonzero;fill:rgb(0%,0%,0%);fill-opacity:1;stroke-width:0.708661;stroke-linecap:round;stroke-linejoin:round;stroke:rgb(0%,0%,0%);stroke-opacity:1;stroke-miterlimit:10;\" d=\"M 301.789062 197.519531 C 301.789062 200.125 297.878906 200.125 297.878906 197.519531 C 297.878906 194.910156 301.789062 194.910156 301.789062 197.519531 \"/>\n",
       "<path style=\"fill-rule:nonzero;fill:rgb(0%,0%,0%);fill-opacity:1;stroke-width:0.708661;stroke-linecap:round;stroke-linejoin:round;stroke:rgb(0%,0%,0%);stroke-opacity:1;stroke-miterlimit:10;\" d=\"M 305.21875 197.28125 C 305.21875 199.890625 301.308594 199.890625 301.308594 197.28125 C 301.308594 194.675781 305.21875 194.675781 305.21875 197.28125 \"/>\n",
       "<path style=\"fill-rule:nonzero;fill:rgb(0%,0%,0%);fill-opacity:1;stroke-width:0.708661;stroke-linecap:round;stroke-linejoin:round;stroke:rgb(0%,0%,0%);stroke-opacity:1;stroke-miterlimit:10;\" d=\"M 308.648438 197.28125 C 308.648438 199.890625 304.738281 199.890625 304.738281 197.28125 C 304.738281 194.675781 308.648438 194.675781 308.648438 197.28125 \"/>\n",
       "<path style=\"fill-rule:nonzero;fill:rgb(0%,0%,0%);fill-opacity:1;stroke-width:0.708661;stroke-linecap:round;stroke-linejoin:round;stroke:rgb(0%,0%,0%);stroke-opacity:1;stroke-miterlimit:10;\" d=\"M 312.074219 198.34375 C 312.074219 200.953125 308.167969 200.953125 308.167969 198.34375 C 308.167969 195.738281 312.074219 195.738281 312.074219 198.34375 \"/>\n",
       "<path style=\"fill-rule:nonzero;fill:rgb(0%,0%,0%);fill-opacity:1;stroke-width:0.708661;stroke-linecap:round;stroke-linejoin:round;stroke:rgb(0%,0%,0%);stroke-opacity:1;stroke-miterlimit:10;\" d=\"M 315.503906 198.34375 C 315.503906 200.953125 311.59375 200.953125 311.59375 198.34375 C 311.59375 195.738281 315.503906 195.738281 315.503906 198.34375 \"/>\n",
       "<path style=\"fill-rule:nonzero;fill:rgb(0%,0%,0%);fill-opacity:1;stroke-width:0.708661;stroke-linecap:round;stroke-linejoin:round;stroke:rgb(0%,0%,0%);stroke-opacity:1;stroke-miterlimit:10;\" d=\"M 318.933594 199.761719 C 318.933594 202.367188 315.023438 202.367188 315.023438 199.761719 C 315.023438 197.15625 318.933594 197.15625 318.933594 199.761719 \"/>\n",
       "<path style=\"fill-rule:nonzero;fill:rgb(0%,0%,0%);fill-opacity:1;stroke-width:0.708661;stroke-linecap:round;stroke-linejoin:round;stroke:rgb(0%,0%,0%);stroke-opacity:1;stroke-miterlimit:10;\" d=\"M 322.363281 199.761719 C 322.363281 202.367188 318.453125 202.367188 318.453125 199.761719 C 318.453125 197.15625 322.363281 197.15625 322.363281 199.761719 \"/>\n",
       "<path style=\"fill-rule:nonzero;fill:rgb(0%,0%,0%);fill-opacity:1;stroke-width:0.708661;stroke-linecap:round;stroke-linejoin:round;stroke:rgb(0%,0%,0%);stroke-opacity:1;stroke-miterlimit:10;\" d=\"M 325.789062 202.003906 C 325.789062 204.609375 321.878906 204.609375 321.878906 202.003906 C 321.878906 199.398438 325.789062 199.398438 325.789062 202.003906 \"/>\n",
       "<path style=\"fill-rule:nonzero;fill:rgb(0%,0%,0%);fill-opacity:1;stroke-width:0.708661;stroke-linecap:round;stroke-linejoin:round;stroke:rgb(0%,0%,0%);stroke-opacity:1;stroke-miterlimit:10;\" d=\"M 329.21875 202.003906 C 329.21875 204.609375 325.308594 204.609375 325.308594 202.003906 C 325.308594 199.398438 329.21875 199.398438 329.21875 202.003906 \"/>\n",
       "<path style=\"fill-rule:nonzero;fill:rgb(0%,0%,0%);fill-opacity:1;stroke-width:0.708661;stroke-linecap:round;stroke-linejoin:round;stroke:rgb(0%,0%,0%);stroke-opacity:1;stroke-miterlimit:10;\" d=\"M 332.648438 201.886719 C 332.648438 204.492188 328.738281 204.492188 328.738281 201.886719 C 328.738281 199.28125 332.648438 199.28125 332.648438 201.886719 \"/>\n",
       "<path style=\"fill-rule:nonzero;fill:rgb(0%,0%,0%);fill-opacity:1;stroke-width:0.708661;stroke-linecap:round;stroke-linejoin:round;stroke:rgb(0%,0%,0%);stroke-opacity:1;stroke-miterlimit:10;\" d=\"M 336.074219 201.886719 C 336.074219 204.492188 332.167969 204.492188 332.167969 201.886719 C 332.167969 199.28125 336.074219 199.28125 336.074219 201.886719 \"/>\n",
       "<path style=\"fill-rule:nonzero;fill:rgb(0%,0%,0%);fill-opacity:1;stroke-width:0.708661;stroke-linecap:round;stroke-linejoin:round;stroke:rgb(0%,0%,0%);stroke-opacity:1;stroke-miterlimit:10;\" d=\"M 339.503906 201.652344 C 339.503906 204.257812 335.59375 204.257812 335.59375 201.652344 C 335.59375 199.042969 339.503906 199.042969 339.503906 201.652344 \"/>\n",
       "<path style=\"fill-rule:nonzero;fill:rgb(0%,0%,0%);fill-opacity:1;stroke-width:0.708661;stroke-linecap:round;stroke-linejoin:round;stroke:rgb(0%,0%,0%);stroke-opacity:1;stroke-miterlimit:10;\" d=\"M 342.933594 201.652344 C 342.933594 204.257812 339.023438 204.257812 339.023438 201.652344 C 339.023438 199.042969 342.933594 199.042969 342.933594 201.652344 \"/>\n",
       "<path style=\"fill-rule:nonzero;fill:rgb(0%,0%,0%);fill-opacity:1;stroke-width:0.708661;stroke-linecap:round;stroke-linejoin:round;stroke:rgb(0%,0%,0%);stroke-opacity:1;stroke-miterlimit:10;\" d=\"M 346.363281 200 C 346.363281 202.605469 342.453125 202.605469 342.453125 200 C 342.453125 197.390625 346.363281 197.390625 346.363281 200 \"/>\n",
       "<path style=\"fill-rule:nonzero;fill:rgb(0%,0%,0%);fill-opacity:1;stroke-width:0.708661;stroke-linecap:round;stroke-linejoin:round;stroke:rgb(0%,0%,0%);stroke-opacity:1;stroke-miterlimit:10;\" d=\"M 349.789062 200 C 349.789062 202.605469 345.878906 202.605469 345.878906 200 C 345.878906 197.390625 349.789062 197.390625 349.789062 200 \"/>\n",
       "<path style=\"fill-rule:nonzero;fill:rgb(0%,0%,0%);fill-opacity:1;stroke-width:0.708661;stroke-linecap:round;stroke-linejoin:round;stroke:rgb(0%,0%,0%);stroke-opacity:1;stroke-miterlimit:10;\" d=\"M 353.21875 199.289062 C 353.21875 201.894531 349.308594 201.894531 349.308594 199.289062 C 349.308594 196.683594 353.21875 196.683594 353.21875 199.289062 \"/>\n",
       "<path style=\"fill-rule:nonzero;fill:rgb(0%,0%,0%);fill-opacity:1;stroke-width:0.708661;stroke-linecap:round;stroke-linejoin:round;stroke:rgb(0%,0%,0%);stroke-opacity:1;stroke-miterlimit:10;\" d=\"M 356.648438 199.289062 C 356.648438 201.894531 352.738281 201.894531 352.738281 199.289062 C 352.738281 196.683594 356.648438 196.683594 356.648438 199.289062 \"/>\n",
       "<path style=\"fill-rule:nonzero;fill:rgb(0%,0%,0%);fill-opacity:1;stroke-width:0.708661;stroke-linecap:round;stroke-linejoin:round;stroke:rgb(0%,0%,0%);stroke-opacity:1;stroke-miterlimit:10;\" d=\"M 360.074219 198.582031 C 360.074219 201.1875 356.167969 201.1875 356.167969 198.582031 C 356.167969 195.976562 360.074219 195.976562 360.074219 198.582031 \"/>\n",
       "<path style=\"fill-rule:nonzero;fill:rgb(0%,0%,0%);fill-opacity:1;stroke-width:0.708661;stroke-linecap:round;stroke-linejoin:round;stroke:rgb(0%,0%,0%);stroke-opacity:1;stroke-miterlimit:10;\" d=\"M 363.503906 198.582031 C 363.503906 201.1875 359.59375 201.1875 359.59375 198.582031 C 359.59375 195.976562 363.503906 195.976562 363.503906 198.582031 \"/>\n",
       "<path style=\"fill-rule:nonzero;fill:rgb(0%,0%,0%);fill-opacity:1;stroke-width:0.708661;stroke-linecap:round;stroke-linejoin:round;stroke:rgb(0%,0%,0%);stroke-opacity:1;stroke-miterlimit:10;\" d=\"M 366.933594 199.289062 C 366.933594 201.894531 363.023438 201.894531 363.023438 199.289062 C 363.023438 196.683594 366.933594 196.683594 366.933594 199.289062 \"/>\n",
       "<path style=\"fill-rule:nonzero;fill:rgb(0%,0%,0%);fill-opacity:1;stroke-width:0.708661;stroke-linecap:round;stroke-linejoin:round;stroke:rgb(0%,0%,0%);stroke-opacity:1;stroke-miterlimit:10;\" d=\"M 370.359375 199.289062 C 370.359375 201.894531 366.453125 201.894531 366.453125 199.289062 C 366.453125 196.683594 370.359375 196.683594 370.359375 199.289062 \"/>\n",
       "<path style=\"fill-rule:nonzero;fill:rgb(0%,0%,0%);fill-opacity:1;stroke-width:0.708661;stroke-linecap:round;stroke-linejoin:round;stroke:rgb(0%,0%,0%);stroke-opacity:1;stroke-miterlimit:10;\" d=\"M 373.789062 200 C 373.789062 202.605469 369.878906 202.605469 369.878906 200 C 369.878906 197.390625 373.789062 197.390625 373.789062 200 \"/>\n",
       "<path style=\"fill-rule:nonzero;fill:rgb(0%,0%,0%);fill-opacity:1;stroke-width:0.708661;stroke-linecap:round;stroke-linejoin:round;stroke:rgb(0%,0%,0%);stroke-opacity:1;stroke-miterlimit:10;\" d=\"M 377.21875 200 C 377.21875 202.605469 373.308594 202.605469 373.308594 200 C 373.308594 197.390625 377.21875 197.390625 377.21875 200 \"/>\n",
       "<path style=\"fill-rule:nonzero;fill:rgb(0%,0%,0%);fill-opacity:1;stroke-width:0.708661;stroke-linecap:round;stroke-linejoin:round;stroke:rgb(0%,0%,0%);stroke-opacity:1;stroke-miterlimit:10;\" d=\"M 380.648438 200.941406 C 380.648438 203.550781 376.738281 203.550781 376.738281 200.941406 C 376.738281 198.335938 380.648438 198.335938 380.648438 200.941406 \"/>\n",
       "<path style=\"fill-rule:nonzero;fill:rgb(0%,0%,0%);fill-opacity:1;stroke-width:0.708661;stroke-linecap:round;stroke-linejoin:round;stroke:rgb(0%,0%,0%);stroke-opacity:1;stroke-miterlimit:10;\" d=\"M 384.074219 200.941406 C 384.074219 203.550781 380.164062 203.550781 380.164062 200.941406 C 380.164062 198.335938 384.074219 198.335938 384.074219 200.941406 \"/>\n",
       "<path style=\"fill-rule:nonzero;fill:rgb(0%,0%,0%);fill-opacity:1;stroke-width:0.708661;stroke-linecap:round;stroke-linejoin:round;stroke:rgb(0%,0%,0%);stroke-opacity:1;stroke-miterlimit:10;\" d=\"M 387.503906 199.878906 C 387.503906 202.488281 383.59375 202.488281 383.59375 199.878906 C 383.59375 197.273438 387.503906 197.273438 387.503906 199.878906 \"/>\n",
       "<path style=\"fill-rule:nonzero;fill:rgb(0%,0%,0%);fill-opacity:1;stroke-width:0.708661;stroke-linecap:round;stroke-linejoin:round;stroke:rgb(0%,0%,0%);stroke-opacity:1;stroke-miterlimit:10;\" d=\"M 390.933594 199.878906 C 390.933594 202.488281 387.023438 202.488281 387.023438 199.878906 C 387.023438 197.273438 390.933594 197.273438 390.933594 199.878906 \"/>\n",
       "<path style=\"fill-rule:nonzero;fill:rgb(0%,0%,0%);fill-opacity:1;stroke-width:0.708661;stroke-linecap:round;stroke-linejoin:round;stroke:rgb(0%,0%,0%);stroke-opacity:1;stroke-miterlimit:10;\" d=\"M 394.359375 199.171875 C 394.359375 201.777344 390.453125 201.777344 390.453125 199.171875 C 390.453125 196.566406 394.359375 196.566406 394.359375 199.171875 \"/>\n",
       "<path style=\"fill-rule:nonzero;fill:rgb(0%,0%,0%);fill-opacity:1;stroke-width:0.708661;stroke-linecap:round;stroke-linejoin:round;stroke:rgb(0%,0%,0%);stroke-opacity:1;stroke-miterlimit:10;\" d=\"M 397.789062 199.171875 C 397.789062 201.777344 393.878906 201.777344 393.878906 199.171875 C 393.878906 196.566406 397.789062 196.566406 397.789062 199.171875 \"/>\n",
       "<path style=\"fill-rule:nonzero;fill:rgb(0%,0%,0%);fill-opacity:1;stroke-width:0.708661;stroke-linecap:round;stroke-linejoin:round;stroke:rgb(0%,0%,0%);stroke-opacity:1;stroke-miterlimit:10;\" d=\"M 401.21875 198.226562 C 401.21875 200.832031 397.308594 200.832031 397.308594 198.226562 C 397.308594 195.621094 401.21875 195.621094 401.21875 198.226562 \"/>\n",
       "<path style=\"fill-rule:nonzero;fill:rgb(0%,0%,0%);fill-opacity:1;stroke-width:0.708661;stroke-linecap:round;stroke-linejoin:round;stroke:rgb(0%,0%,0%);stroke-opacity:1;stroke-miterlimit:10;\" d=\"M 404.648438 198.226562 C 404.648438 200.832031 400.738281 200.832031 400.738281 198.226562 C 400.738281 195.621094 404.648438 195.621094 404.648438 198.226562 \"/>\n",
       "<path style=\"fill-rule:nonzero;fill:rgb(0%,0%,0%);fill-opacity:1;stroke-width:0.708661;stroke-linecap:round;stroke-linejoin:round;stroke:rgb(0%,0%,0%);stroke-opacity:1;stroke-miterlimit:10;\" d=\"M 408.074219 198.109375 C 408.074219 200.714844 404.164062 200.714844 404.164062 198.109375 C 404.164062 195.503906 408.074219 195.503906 408.074219 198.109375 \"/>\n",
       "<path style=\"fill-rule:nonzero;fill:rgb(0%,0%,0%);fill-opacity:1;stroke-width:0.708661;stroke-linecap:round;stroke-linejoin:round;stroke:rgb(0%,0%,0%);stroke-opacity:1;stroke-miterlimit:10;\" d=\"M 411.503906 198.109375 C 411.503906 200.714844 407.59375 200.714844 407.59375 198.109375 C 407.59375 195.503906 411.503906 195.503906 411.503906 198.109375 \"/>\n",
       "<path style=\"fill:none;stroke-width:1.066978;stroke-linecap:butt;stroke-linejoin:round;stroke:rgb(0%,0%,0%);stroke-opacity:1;stroke-miterlimit:10;\" d=\"M 70.121094 51.261719 L 73.550781 51.261719 L 76.980469 73.097656 L 80.40625 73.097656 L 83.835938 91.042969 L 87.265625 91.042969 L 90.695312 110.28125 L 94.121094 110.28125 L 97.550781 130.585938 L 100.980469 130.585938 L 104.40625 145.460938 L 107.835938 145.460938 L 111.265625 159.742188 L 114.691406 159.742188 L 118.121094 163.640625 L 121.550781 163.640625 L 124.980469 169.777344 L 128.40625 169.777344 L 131.835938 173.203125 L 135.265625 173.203125 L 138.691406 177.921875 L 142.121094 177.921875 L 145.550781 175.800781 L 148.980469 175.800781 L 152.40625 176.980469 L 155.835938 176.980469 L 159.265625 178.984375 L 162.691406 178.984375 L 166.121094 177.6875 L 169.550781 177.6875 L 172.980469 180.992188 L 176.40625 180.992188 L 179.835938 182.054688 L 183.265625 182.054688 L 186.691406 182.761719 L 190.121094 182.761719 L 193.550781 185.476562 L 196.980469 185.476562 L 200.40625 186.1875 L 203.835938 186.1875 L 207.265625 186.066406 L 210.691406 186.066406 L 214.121094 186.1875 L 217.550781 186.1875 L 220.980469 187.957031 L 224.40625 187.957031 L 227.835938 187.011719 L 231.265625 187.011719 L 234.691406 188.074219 L 238.121094 188.074219 L 241.550781 189.253906 L 244.976562 189.253906 L 248.40625 188.785156 L 251.835938 188.785156 L 255.265625 190.199219 L 258.691406 190.199219 L 262.121094 192.324219 L 265.550781 192.324219 L 268.976562 193.503906 L 279.265625 193.503906 L 282.691406 195.628906 L 292.976562 195.628906 L 296.40625 197.519531 L 299.835938 197.519531 L 303.265625 197.28125 L 306.691406 197.28125 L 310.121094 198.34375 L 313.550781 198.34375 L 316.976562 199.761719 L 320.40625 199.761719 L 323.835938 202.003906 L 327.265625 202.003906 L 330.691406 201.886719 L 334.121094 201.886719 L 337.550781 201.652344 L 340.976562 201.652344 L 344.40625 200 L 347.835938 200 L 351.265625 199.289062 L 354.691406 199.289062 L 358.121094 198.582031 L 361.550781 198.582031 L 364.976562 199.289062 L 368.40625 199.289062 L 371.835938 200 L 375.261719 200 L 378.691406 200.941406 L 382.121094 200.941406 L 385.550781 199.878906 L 388.976562 199.878906 L 392.40625 199.171875 L 395.835938 199.171875 L 399.261719 198.226562 L 402.691406 198.226562 L 406.121094 198.109375 L 409.550781 198.109375 \"/>\n",
       "<g style=\"fill:rgb(30.196078%,30.196078%,30.196078%);fill-opacity:1;\">\n",
       "  <use xlink:href=\"#glyph0-1\" x=\"25.21875\" y=\"310.658203\"/>\n",
       "  <use xlink:href=\"#glyph0-2\" x=\"30.21875\" y=\"310.658203\"/>\n",
       "  <use xlink:href=\"#glyph0-3\" x=\"33.21875\" y=\"310.658203\"/>\n",
       "  <use xlink:href=\"#glyph0-1\" x=\"38.21875\" y=\"310.658203\"/>\n",
       "  <use xlink:href=\"#glyph0-1\" x=\"43.21875\" y=\"310.658203\"/>\n",
       "</g>\n",
       "<g style=\"fill:rgb(30.196078%,30.196078%,30.196078%);fill-opacity:1;\">\n",
       "  <use xlink:href=\"#glyph0-1\" x=\"25.21875\" y=\"238.755859\"/>\n",
       "  <use xlink:href=\"#glyph0-2\" x=\"30.21875\" y=\"238.755859\"/>\n",
       "  <use xlink:href=\"#glyph0-3\" x=\"33.21875\" y=\"238.755859\"/>\n",
       "  <use xlink:href=\"#glyph0-4\" x=\"38.21875\" y=\"238.755859\"/>\n",
       "  <use xlink:href=\"#glyph0-5\" x=\"43.21875\" y=\"238.755859\"/>\n",
       "</g>\n",
       "<g style=\"fill:rgb(30.196078%,30.196078%,30.196078%);fill-opacity:1;\">\n",
       "  <use xlink:href=\"#glyph0-1\" x=\"25.21875\" y=\"166.853516\"/>\n",
       "  <use xlink:href=\"#glyph0-2\" x=\"30.21875\" y=\"166.853516\"/>\n",
       "  <use xlink:href=\"#glyph0-3\" x=\"33.21875\" y=\"166.853516\"/>\n",
       "  <use xlink:href=\"#glyph0-5\" x=\"38.21875\" y=\"166.853516\"/>\n",
       "  <use xlink:href=\"#glyph0-1\" x=\"43.21875\" y=\"166.853516\"/>\n",
       "</g>\n",
       "<g style=\"fill:rgb(30.196078%,30.196078%,30.196078%);fill-opacity:1;\">\n",
       "  <use xlink:href=\"#glyph0-1\" x=\"25.21875\" y=\"94.951172\"/>\n",
       "  <use xlink:href=\"#glyph0-2\" x=\"30.21875\" y=\"94.951172\"/>\n",
       "  <use xlink:href=\"#glyph0-3\" x=\"33.21875\" y=\"94.951172\"/>\n",
       "  <use xlink:href=\"#glyph0-6\" x=\"38.21875\" y=\"94.951172\"/>\n",
       "  <use xlink:href=\"#glyph0-5\" x=\"43.21875\" y=\"94.951172\"/>\n",
       "</g>\n",
       "<g style=\"fill:rgb(30.196078%,30.196078%,30.196078%);fill-opacity:1;\">\n",
       "  <use xlink:href=\"#glyph0-7\" x=\"25.21875\" y=\"23.048828\"/>\n",
       "  <use xlink:href=\"#glyph0-2\" x=\"30.21875\" y=\"23.048828\"/>\n",
       "  <use xlink:href=\"#glyph0-1\" x=\"33.21875\" y=\"23.048828\"/>\n",
       "  <use xlink:href=\"#glyph0-1\" x=\"38.21875\" y=\"23.048828\"/>\n",
       "  <use xlink:href=\"#glyph0-1\" x=\"43.21875\" y=\"23.048828\"/>\n",
       "</g>\n",
       "<path style=\"fill:none;stroke-width:1.066978;stroke-linecap:butt;stroke-linejoin:round;stroke:rgb(20%,20%,20%);stroke-opacity:1;stroke-miterlimit:10;\" d=\"M 50.410156 307.46875 L 53.152344 307.46875 \"/>\n",
       "<path style=\"fill:none;stroke-width:1.066978;stroke-linecap:butt;stroke-linejoin:round;stroke:rgb(20%,20%,20%);stroke-opacity:1;stroke-miterlimit:10;\" d=\"M 50.410156 235.566406 L 53.152344 235.566406 \"/>\n",
       "<path style=\"fill:none;stroke-width:1.066978;stroke-linecap:butt;stroke-linejoin:round;stroke:rgb(20%,20%,20%);stroke-opacity:1;stroke-miterlimit:10;\" d=\"M 50.410156 163.664062 L 53.152344 163.664062 \"/>\n",
       "<path style=\"fill:none;stroke-width:1.066978;stroke-linecap:butt;stroke-linejoin:round;stroke:rgb(20%,20%,20%);stroke-opacity:1;stroke-miterlimit:10;\" d=\"M 50.410156 91.761719 L 53.152344 91.761719 \"/>\n",
       "<path style=\"fill:none;stroke-width:1.066978;stroke-linecap:butt;stroke-linejoin:round;stroke:rgb(20%,20%,20%);stroke-opacity:1;stroke-miterlimit:10;\" d=\"M 50.410156 19.859375 L 53.152344 19.859375 \"/>\n",
       "<path style=\"fill:none;stroke-width:1.066978;stroke-linecap:butt;stroke-linejoin:round;stroke:rgb(20%,20%,20%);stroke-opacity:1;stroke-miterlimit:10;\" d=\"M 66.695312 324.589844 L 66.695312 321.847656 \"/>\n",
       "<path style=\"fill:none;stroke-width:1.066978;stroke-linecap:butt;stroke-linejoin:round;stroke:rgb(20%,20%,20%);stroke-opacity:1;stroke-miterlimit:10;\" d=\"M 152.40625 324.589844 L 152.40625 321.847656 \"/>\n",
       "<path style=\"fill:none;stroke-width:1.066978;stroke-linecap:butt;stroke-linejoin:round;stroke:rgb(20%,20%,20%);stroke-opacity:1;stroke-miterlimit:10;\" d=\"M 238.121094 324.589844 L 238.121094 321.847656 \"/>\n",
       "<path style=\"fill:none;stroke-width:1.066978;stroke-linecap:butt;stroke-linejoin:round;stroke:rgb(20%,20%,20%);stroke-opacity:1;stroke-miterlimit:10;\" d=\"M 323.835938 324.589844 L 323.835938 321.847656 \"/>\n",
       "<path style=\"fill:none;stroke-width:1.066978;stroke-linecap:butt;stroke-linejoin:round;stroke:rgb(20%,20%,20%);stroke-opacity:1;stroke-miterlimit:10;\" d=\"M 409.550781 324.589844 L 409.550781 321.847656 \"/>\n",
       "<g style=\"fill:rgb(30.196078%,30.196078%,30.196078%);fill-opacity:1;\">\n",
       "  <use xlink:href=\"#glyph0-1\" x=\"64.195312\" y=\"333.470703\"/>\n",
       "</g>\n",
       "<g style=\"fill:rgb(30.196078%,30.196078%,30.196078%);fill-opacity:1;\">\n",
       "  <use xlink:href=\"#glyph0-4\" x=\"147.40625\" y=\"333.470703\"/>\n",
       "  <use xlink:href=\"#glyph0-5\" x=\"152.40625\" y=\"333.470703\"/>\n",
       "</g>\n",
       "<g style=\"fill:rgb(30.196078%,30.196078%,30.196078%);fill-opacity:1;\">\n",
       "  <use xlink:href=\"#glyph0-5\" x=\"233.121094\" y=\"333.470703\"/>\n",
       "  <use xlink:href=\"#glyph0-1\" x=\"238.121094\" y=\"333.470703\"/>\n",
       "</g>\n",
       "<g style=\"fill:rgb(30.196078%,30.196078%,30.196078%);fill-opacity:1;\">\n",
       "  <use xlink:href=\"#glyph0-6\" x=\"318.835938\" y=\"333.470703\"/>\n",
       "  <use xlink:href=\"#glyph0-5\" x=\"323.835938\" y=\"333.470703\"/>\n",
       "</g>\n",
       "<g style=\"fill:rgb(30.196078%,30.196078%,30.196078%);fill-opacity:1;\">\n",
       "  <use xlink:href=\"#glyph0-7\" x=\"402.050781\" y=\"333.470703\"/>\n",
       "  <use xlink:href=\"#glyph0-1\" x=\"407.050781\" y=\"333.470703\"/>\n",
       "  <use xlink:href=\"#glyph0-1\" x=\"412.050781\" y=\"333.470703\"/>\n",
       "</g>\n",
       "<g style=\"fill:rgb(0%,0%,0%);fill-opacity:1;\">\n",
       "  <use xlink:href=\"#glyph1-1\" x=\"211.335938\" y=\"346.382812\"/>\n",
       "  <use xlink:href=\"#glyph1-2\" x=\"220.335938\" y=\"346.382812\"/>\n",
       "  <use xlink:href=\"#glyph1-3\" x=\"227.335938\" y=\"346.382812\"/>\n",
       "  <use xlink:href=\"#glyph1-4\" x=\"230.335938\" y=\"346.382812\"/>\n",
       "  <use xlink:href=\"#glyph1-5\" x=\"237.335938\" y=\"346.382812\"/>\n",
       "  <use xlink:href=\"#glyph1-6\" x=\"244.335938\" y=\"346.382812\"/>\n",
       "  <use xlink:href=\"#glyph1-7\" x=\"251.335938\" y=\"346.382812\"/>\n",
       "  <use xlink:href=\"#glyph1-8\" x=\"258.335938\" y=\"346.382812\"/>\n",
       "  <use xlink:href=\"#glyph1-9\" x=\"262.335938\" y=\"346.382812\"/>\n",
       "</g>\n",
       "<g style=\"fill:rgb(0%,0%,0%);fill-opacity:1;\">\n",
       "  <use xlink:href=\"#glyph2-1\" x=\"14.34375\" y=\"213.664062\"/>\n",
       "  <use xlink:href=\"#glyph2-2\" x=\"14.34375\" y=\"205.664062\"/>\n",
       "  <use xlink:href=\"#glyph2-2\" x=\"14.34375\" y=\"199.664062\"/>\n",
       "  <use xlink:href=\"#glyph2-3\" x=\"14.34375\" y=\"193.664062\"/>\n",
       "  <use xlink:href=\"#glyph2-4\" x=\"14.34375\" y=\"186.664062\"/>\n",
       "  <use xlink:href=\"#glyph2-5\" x=\"14.34375\" y=\"182.664062\"/>\n",
       "  <use xlink:href=\"#glyph2-2\" x=\"14.34375\" y=\"175.664062\"/>\n",
       "  <use xlink:href=\"#glyph2-6\" x=\"14.34375\" y=\"169.664062\"/>\n",
       "  <use xlink:href=\"#glyph2-7\" x=\"14.34375\" y=\"163.664062\"/>\n",
       "  <use xlink:href=\"#glyph2-8\" x=\"14.34375\" y=\"160.664062\"/>\n",
       "  <use xlink:href=\"#glyph2-9\" x=\"14.34375\" y=\"152.664062\"/>\n",
       "  <use xlink:href=\"#glyph2-10\" x=\"14.34375\" y=\"146.664062\"/>\n",
       "  <use xlink:href=\"#glyph2-11\" x=\"14.34375\" y=\"143.664062\"/>\n",
       "  <use xlink:href=\"#glyph2-12\" x=\"14.34375\" y=\"140.664062\"/>\n",
       "  <use xlink:href=\"#glyph2-5\" x=\"14.34375\" y=\"130.664062\"/>\n",
       "  <use xlink:href=\"#glyph2-10\" x=\"14.34375\" y=\"123.664062\"/>\n",
       "  <use xlink:href=\"#glyph2-13\" x=\"14.34375\" y=\"120.664062\"/>\n",
       "</g>\n",
       "</g>\n",
       "</svg>\n"
      ],
      "text/plain": [
       "plot without title"
      ]
     },
     "metadata": {
      "application/pdf": {
       "height": 300,
       "width": 360
      },
      "image/jpeg": {
       "height": 300,
       "width": 360
      },
      "image/png": {
       "height": 300,
       "width": 360
      },
      "image/svg+xml": {
       "height": 300,
       "isolated": true,
       "width": 360
      }
     },
     "output_type": "display_data"
    }
   ],
   "source": [
    "cross_val_plot <- ggplot(accuracies, aes(x = neighbors, y = mean)) +\n",
    "  geom_point() +\n",
    "  geom_line() +\n",
    "  labs(x = \"Neighbors\", y = \"Accuracy Estimate\") +\n",
    "  ylim(0.90, 1) +\n",
    "  theme(text = element_text(size = 12))\n",
    "\n",
    "cross_val_plot"
   ]
  },
  {
   "cell_type": "markdown",
   "id": "6f4b0eb7-a5b7-4a69-9c91-d69408cb12fe",
   "metadata": {},
   "source": [
    "Clearly, the accuracy is highest for $K=1$, but choosing $K=1$ will lead to overfitting. Also, the value of accuracy changes a lot for $K<25$. Because of these reasons, we will choose $K=30$, because the accuracy is fairly high ($95%$), and changing the value of $K$ does not change the the accuracy by a large amount."
   ]
  },
  {
   "cell_type": "code",
   "execution_count": 11,
   "id": "6ca63d79-808d-4795-ab43-6ab8c2b57b4c",
   "metadata": {},
   "outputs": [],
   "source": [
    "final_spec <- nearest_neighbor(weight_func = \"rectangular\", neighbors = 30) |>\n",
    "    set_engine(\"kknn\") |>\n",
    "    set_mode(\"classification\")\n",
    "\n",
    "final_fit <- workflow() |>\n",
    "  add_recipe(knn_recipe) |>\n",
    "  add_model(final_spec) |>\n",
    "  fit(data = pulsar_train)\n",
    "\n",
    "pulsar_predictions <- predict(final_fit, pulsar_test) |>\n",
    "    bind_cols(pulsar_test)"
   ]
  },
  {
   "cell_type": "code",
   "execution_count": 12,
   "id": "05eb6b2b-30e0-470f-9274-071776ce8fe5",
   "metadata": {},
   "outputs": [
    {
     "data": {
      "text/plain": [
       "           Truth\n",
       "Prediction  notpulsar pulsar\n",
       "  notpulsar      3904     35\n",
       "  pulsar          173    363"
      ]
     },
     "metadata": {},
     "output_type": "display_data"
    }
   ],
   "source": [
    "mnist_conf_mat <- pulsar_predictions |>\n",
    "     conf_mat(truth = Class, estimate = .pred_class)\n",
    "mnist_conf_mat"
   ]
  },
  {
   "cell_type": "code",
   "execution_count": 13,
   "id": "592ab9fc-dbbe-46c1-b78a-889280804061",
   "metadata": {},
   "outputs": [
    {
     "data": {
      "text/html": [
       "0.953519553072626"
      ],
      "text/latex": [
       "0.953519553072626"
      ],
      "text/markdown": [
       "0.953519553072626"
      ],
      "text/plain": [
       "[1] 0.9535196"
      ]
     },
     "metadata": {},
     "output_type": "display_data"
    }
   ],
   "source": [
    "mnist_accuracy <- pulsar_predictions |>\n",
    "    metrics(truth = Class, estimate = .pred_class) |>\n",
    "    filter(.metric == \"accuracy\") |>\n",
    "    pull(.estimate)\n",
    "mnist_accuracy"
   ]
  },
  {
   "cell_type": "markdown",
   "id": "fd998323-07dc-4465-8141-c9d3e6eb4562",
   "metadata": {},
   "source": [
    "Since we are interested in predicting pulsars, we will assume that \"pulsar\" classification is the \"positive\" class"
   ]
  },
  {
   "cell_type": "code",
   "execution_count": 14,
   "id": "c4683155-ee67-42dd-9387-bf79f475d3d2",
   "metadata": {},
   "outputs": [
    {
     "data": {
      "text/html": [
       "<style>\n",
       ".list-inline {list-style: none; margin:0; padding: 0}\n",
       ".list-inline>li {display: inline-block}\n",
       ".list-inline>li:not(:last-child)::after {content: \"\\00b7\"; padding: 0 .5ex}\n",
       "</style>\n",
       "<ol class=list-inline><li>'notpulsar'</li><li>'pulsar'</li></ol>\n"
      ],
      "text/latex": [
       "\\begin{enumerate*}\n",
       "\\item 'notpulsar'\n",
       "\\item 'pulsar'\n",
       "\\end{enumerate*}\n"
      ],
      "text/markdown": [
       "1. 'notpulsar'\n",
       "2. 'pulsar'\n",
       "\n",
       "\n"
      ],
      "text/plain": [
       "[1] \"notpulsar\" \"pulsar\"   "
      ]
     },
     "metadata": {},
     "output_type": "display_data"
    }
   ],
   "source": [
    "pulsar_predictions |> pull(Class) |> levels()"
   ]
  },
  {
   "cell_type": "markdown",
   "id": "7c68747a-9e2b-4b38-a6bf-2b62565af24e",
   "metadata": {},
   "source": [
    "Now, we calculate the precision and recall of our model:"
   ]
  },
  {
   "cell_type": "code",
   "execution_count": 15,
   "id": "05c02aab-bdb8-4abe-8bd2-16243b9e61b3",
   "metadata": {},
   "outputs": [
    {
     "name": "stdout",
     "output_type": "stream",
     "text": [
      "[1] \"Precision: 0.677238805970149\"\n"
     ]
    }
   ],
   "source": [
    "precision <- pulsar_predictions |> \n",
    "    precision(truth = Class, estimate = .pred_class, event_level = \"second\") |> \n",
    "    pull(.estimate)\n",
    "\n",
    "print(paste(\"Precision:\", precision)) "
   ]
  },
  {
   "cell_type": "markdown",
   "id": "e9ba0588-7a59-4ddb-b40e-e2768186cf19",
   "metadata": {},
   "source": [
    "Calculating the recall of our model:"
   ]
  },
  {
   "cell_type": "code",
   "execution_count": 16,
   "id": "91d499be-b744-4431-9dce-59335fc4dbb1",
   "metadata": {},
   "outputs": [
    {
     "name": "stdout",
     "output_type": "stream",
     "text": [
      "[1] \"Recall 0.912060301507538\"\n"
     ]
    }
   ],
   "source": [
    "recall <- pulsar_predictions |> \n",
    "    recall(truth = Class, estimate = .pred_class, event_level = \"second\") |> \n",
    "    pull(.estimate)\n",
    "print(paste(\"Recall\", recall))   "
   ]
  },
  {
   "cell_type": "markdown",
   "id": "3b6f46f4-d757-4241-9b9a-92b00819c646",
   "metadata": {},
   "source": [
    "Finally, let's visualize our results using "
   ]
  },
  {
   "cell_type": "code",
   "execution_count": 17,
   "id": "327455c9-d173-4157-aa5c-d62ae7548cda",
   "metadata": {},
   "outputs": [
    {
     "ename": "ERROR",
     "evalue": "Error in eval(expr, envir, enclos): object 'mnist_acc' not found\n",
     "output_type": "error",
     "traceback": [
      "Error in eval(expr, envir, enclos): object 'mnist_acc' not found\nTraceback:\n",
      "1. ggplot(mnist_acc, aes(x = neighbors, y = mean))"
     ]
    }
   ],
   "source": [
    "accuracy_versus_k <- ggplot(mnist_acc, aes(x = neighbors, y = mean))+\n",
    "      geom_point() +\n",
    "      geom_line() +\n",
    "      labs(x = \"Neighbors\", y = \"Accuracy Estimate\") +\n",
    "      scale_x_continuous(breaks = seq(0, 14, by = 1)) +  # adjusting the x-axis\n",
    "      scale_y_continuous(limits = c(0.4, 1.0)) # adjusting the y-axis\n",
    "accuracy_versus_k"
   ]
  },
  {
   "attachments": {},
   "cell_type": "markdown",
   "id": "090261b9-d33f-42e1-b6ca-099d62e32c66",
   "metadata": {},
   "source": [
    "## Discussion\n",
    "\n",
    "### Summary\n",
    "From our analysis of the data set, using K nearest neighbour (KNN) algorithm, we found out that K=30 neighbours gives the optimal accuracy for our model. Our model has a high recall of 91%, and since models with high recall usually have low precision, the precision of our model is a modest 67%\n",
    "\n",
    "### Were these results what we expected?\n",
    "Currently, most ML algorithms that are used to detect pulsars have an accuracy of above 90% (Rong Song, 2023). Hence, we were expecting our model to have an accuacy of above 90% as well. Our model, which uses the K-nearest neighbour (KNN) algorithm and uses 5 variables, has an accuracy of 95%, just as we expected\n",
    "\n",
    "### Impacts of our finding\n",
    "This data analysis can help scientists in classifying if an observation is a Pulsar star. By reliably identifying Pulsars, their periodic nature can give astronomers valuable insight into accurate time intervals at which we are in. This also shows the abundance of gravitational radiation and is a matter of great scientific interest due to the nature of the stars as gravitational probes. act as incredibly accurate timing devices and, as such, have proven to be valuable tools of astronomical discovery\n",
    "\n",
    "### Future questions this data analysis could lead to:\n",
    "\n",
    "- Are there any other factors that can help in determining whether an observation is a Pulsar star?\n",
    "- Are there other algorithms that may be more effective in classifying Pulsar status compared to K-NN?"
   ]
  },
  {
   "cell_type": "markdown",
   "id": "d9d0d313-121a-4f9c-a113-1cdea9d6778c",
   "metadata": {},
   "source": [
    "### <center> References </center>\r\n",
    "Eatough, R. P., Molkenthin, N., Kramer, M., Noutsos, A., Keith, M. J., Stappers, B. W., & Lyne, A. G. (2010). Selection of radio pulsar candidates using artificial neural networks. Monthly Notices of the Royal Astronomical Society, 407(4), 2443–2450. https://doi.org/10.1111/j.1365-2966.2010.17082.x\n",
    "\n",
    "\n",
    "Ng, C., Champion, D. J., Bailes, M., Barr, E. D., Bates, S. D., Bhat, N. D. R., Burgay, M., Burke-Spolaor, S., Flynn, C. M. L., Jameson, A., Johnston, S., Keith, M. J., Kramer, M., Levin, L., Petroff, E., Possenti, A., Stappers, B. W., van Straten, W., Tiburzi, C., & Eatough, R. P. (2015). The High Time Resolution Universe Pulsar Survey – XII. Galactic plane acceleration search and the discovery of 60 pulsars. Monthly Notices of the Royal Astronomical Society, 450(3), 2922–2947. https://doi.org/10.1093/mnras/stv75 <br> <br>3\n",
    "Galli, S. (2023, November 3). Exploring Oversampling Techniques for Imbalanced Datasets. Train in Data Blog. https://www.blog.trainindata.com/oversampling-techniques-for-imbalanced-data/#:~:text=Oversampling%20is%20a%20data%20augmentation,samples%20in%20the%20minority%20clas \n",
    "<br><br>\n",
    "Song, J. R. (2023). The effectiveness of different machine learning algorithms in classifying pulsar stars and the impact of data preparation. Journal of Physics: Conference Series, 2428(1), 012046. https://doi.org/10.1088/1742-6596/2428/1/012046\r\n"
   ]
  },
  {
   "cell_type": "code",
   "execution_count": null,
   "id": "1a8a1912-918a-49a4-b803-6f1821d073dc",
   "metadata": {},
   "outputs": [],
   "source": []
  }
 ],
 "metadata": {
  "kernelspec": {
   "display_name": "R",
   "language": "R",
   "name": "ir"
  },
  "language_info": {
   "codemirror_mode": "r",
   "file_extension": ".r",
   "mimetype": "text/x-r-source",
   "name": "R",
   "pygments_lexer": "r",
   "version": "4.3.1"
  }
 },
 "nbformat": 4,
 "nbformat_minor": 5
}
