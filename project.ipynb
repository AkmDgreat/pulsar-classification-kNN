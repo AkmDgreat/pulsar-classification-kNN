{
 "cells": [
  {
   "cell_type": "markdown",
   "id": "917e9bb1-b1dd-4ebf-97a5-93c56387bda5",
   "metadata": {},
   "source": [
    "# Pulsars\n",
    "\n",
    "## Introduction\n",
    "- Pulsars are rotating neutron stars observed to have pulses of radiation at very regular intervals that typically range from milliseconds to seconds. Pulsars have very strong magnetic fields which funnel jets of particles out along the two magnetic poles. These accelerated particles produce very powerful beams of light.\n",
    "- Some pulsars produce radio emission detectable here on Earth. They are of considerable scientific interest as probes of space-time, the inter-stellar medium, and states of matter\n",
    "\n",
    "### Dataset\n",
    "- The data set that we use describes a sample of pulsar candidates collected during the High Time Resolution Universe Survey (South)\n",
    "- The data set contains the excess kurtosis of the integrated profile, the skewness of the integrated profile, mean of the DM-SNR curve, excess kurtosis of the DM-SNR curve, Skewness of the DM-SNR curve and the *Class* of the star (whether its a pulsar star or not)."
   ]
  },
  {
   "cell_type": "code",
   "execution_count": 25,
   "id": "84627c0e-2752-40d7-8feb-34fb72e799b5",
   "metadata": {},
   "outputs": [],
   "source": [
    "library(tidyverse)\n",
    "library(tidymodels)\n",
    "library(repr)\n",
    "library(rvest)\n",
    "library(stringr)\n",
    "library(janitor)\n",
    "# options(repr.matrix.max.rows = 10)\n",
    "\n",
    "set.seed(100)"
   ]
  },
  {
   "cell_type": "code",
   "execution_count": 37,
   "id": "ee048b5d-9fb0-4dce-a0b9-2eede25ad6bc",
   "metadata": {},
   "outputs": [
    {
     "name": "stderr",
     "output_type": "stream",
     "text": [
      "\u001b[1mRows: \u001b[22m\u001b[34m17898\u001b[39m \u001b[1mColumns: \u001b[22m\u001b[34m9\u001b[39m\n",
      "\u001b[36m──\u001b[39m \u001b[1mColumn specification\u001b[22m \u001b[36m────────────────────────────────────────────────────────\u001b[39m\n",
      "\u001b[1mDelimiter:\u001b[22m \",\"\n",
      "\u001b[32mdbl\u001b[39m (9): X1, X2, X3, X4, X5, X6, X7, X8, X9\n",
      "\n",
      "\u001b[36mℹ\u001b[39m Use `spec()` to retrieve the full column specification for this data.\n",
      "\u001b[36mℹ\u001b[39m Specify the column types or set `show_col_types = FALSE` to quiet this message.\n"
     ]
    },
    {
     "data": {
      "text/html": [
       "<table class=\"dataframe\">\n",
       "<caption>A tibble: 17898 × 6</caption>\n",
       "<thead>\n",
       "\t<tr><th scope=col>Profile_skewness</th><th scope=col>Profile_kurtosis</th><th scope=col>DM_mean</th><th scope=col>DM_skewness</th><th scope=col>DM_kurtosis</th><th scope=col>Class</th></tr>\n",
       "\t<tr><th scope=col>&lt;dbl&gt;</th><th scope=col>&lt;dbl&gt;</th><th scope=col>&lt;dbl&gt;</th><th scope=col>&lt;dbl&gt;</th><th scope=col>&lt;dbl&gt;</th><th scope=col>&lt;fct&gt;</th></tr>\n",
       "</thead>\n",
       "<tbody>\n",
       "\t<tr><td>-0.23457141</td><td>-0.6996484</td><td>3.199833</td><td> 7.975532</td><td> 74.24222</td><td>notpulsar</td></tr>\n",
       "\t<tr><td> 0.46531815</td><td>-0.5150879</td><td>1.677258</td><td>10.576487</td><td>127.39358</td><td>notpulsar</td></tr>\n",
       "\t<tr><td> 0.32332837</td><td> 1.0511644</td><td>3.121237</td><td> 7.735822</td><td> 63.17191</td><td>notpulsar</td></tr>\n",
       "\t<tr><td>-0.06841464</td><td>-0.6362384</td><td>3.642977</td><td> 6.896499</td><td> 53.59366</td><td>notpulsar</td></tr>\n",
       "\t<tr><td> 0.60086608</td><td> 1.1234917</td><td>1.178930</td><td>14.269573</td><td>252.56731</td><td>notpulsar</td></tr>\n",
       "\t<tr><td>⋮</td><td>⋮</td><td>⋮</td><td>⋮</td><td>⋮</td><td>⋮</td></tr>\n",
       "\t<tr><td>-0.1878456</td><td>-0.73812297</td><td>  1.296823</td><td>15.450260</td><td>285.931022</td><td>notpulsar</td></tr>\n",
       "\t<tr><td> 0.1279781</td><td> 0.32306090</td><td> 16.409699</td><td> 2.945244</td><td>  8.297092</td><td>notpulsar</td></tr>\n",
       "\t<tr><td> 0.1593631</td><td>-0.74302540</td><td> 21.430602</td><td> 2.499517</td><td>  4.595173</td><td>notpulsar</td></tr>\n",
       "\t<tr><td> 0.2011614</td><td>-0.02478884</td><td>  1.946488</td><td>10.007967</td><td>134.238910</td><td>notpulsar</td></tr>\n",
       "\t<tr><td> 1.4063910</td><td> 0.08951971</td><td>188.306020</td><td>-1.597527</td><td>  1.429475</td><td>notpulsar</td></tr>\n",
       "</tbody>\n",
       "</table>\n"
      ],
      "text/latex": [
       "A tibble: 17898 × 6\n",
       "\\begin{tabular}{llllll}\n",
       " Profile\\_skewness & Profile\\_kurtosis & DM\\_mean & DM\\_skewness & DM\\_kurtosis & Class\\\\\n",
       " <dbl> & <dbl> & <dbl> & <dbl> & <dbl> & <fct>\\\\\n",
       "\\hline\n",
       "\t -0.23457141 & -0.6996484 & 3.199833 &  7.975532 &  74.24222 & notpulsar\\\\\n",
       "\t  0.46531815 & -0.5150879 & 1.677258 & 10.576487 & 127.39358 & notpulsar\\\\\n",
       "\t  0.32332837 &  1.0511644 & 3.121237 &  7.735822 &  63.17191 & notpulsar\\\\\n",
       "\t -0.06841464 & -0.6362384 & 3.642977 &  6.896499 &  53.59366 & notpulsar\\\\\n",
       "\t  0.60086608 &  1.1234917 & 1.178930 & 14.269573 & 252.56731 & notpulsar\\\\\n",
       "\t ⋮ & ⋮ & ⋮ & ⋮ & ⋮ & ⋮\\\\\n",
       "\t -0.1878456 & -0.73812297 &   1.296823 & 15.450260 & 285.931022 & notpulsar\\\\\n",
       "\t  0.1279781 &  0.32306090 &  16.409699 &  2.945244 &   8.297092 & notpulsar\\\\\n",
       "\t  0.1593631 & -0.74302540 &  21.430602 &  2.499517 &   4.595173 & notpulsar\\\\\n",
       "\t  0.2011614 & -0.02478884 &   1.946488 & 10.007967 & 134.238910 & notpulsar\\\\\n",
       "\t  1.4063910 &  0.08951971 & 188.306020 & -1.597527 &   1.429475 & notpulsar\\\\\n",
       "\\end{tabular}\n"
      ],
      "text/markdown": [
       "\n",
       "A tibble: 17898 × 6\n",
       "\n",
       "| Profile_skewness &lt;dbl&gt; | Profile_kurtosis &lt;dbl&gt; | DM_mean &lt;dbl&gt; | DM_skewness &lt;dbl&gt; | DM_kurtosis &lt;dbl&gt; | Class &lt;fct&gt; |\n",
       "|---|---|---|---|---|---|\n",
       "| -0.23457141 | -0.6996484 | 3.199833 |  7.975532 |  74.24222 | notpulsar |\n",
       "|  0.46531815 | -0.5150879 | 1.677258 | 10.576487 | 127.39358 | notpulsar |\n",
       "|  0.32332837 |  1.0511644 | 3.121237 |  7.735822 |  63.17191 | notpulsar |\n",
       "| -0.06841464 | -0.6362384 | 3.642977 |  6.896499 |  53.59366 | notpulsar |\n",
       "|  0.60086608 |  1.1234917 | 1.178930 | 14.269573 | 252.56731 | notpulsar |\n",
       "| ⋮ | ⋮ | ⋮ | ⋮ | ⋮ | ⋮ |\n",
       "| -0.1878456 | -0.73812297 |   1.296823 | 15.450260 | 285.931022 | notpulsar |\n",
       "|  0.1279781 |  0.32306090 |  16.409699 |  2.945244 |   8.297092 | notpulsar |\n",
       "|  0.1593631 | -0.74302540 |  21.430602 |  2.499517 |   4.595173 | notpulsar |\n",
       "|  0.2011614 | -0.02478884 |   1.946488 | 10.007967 | 134.238910 | notpulsar |\n",
       "|  1.4063910 |  0.08951971 | 188.306020 | -1.597527 |   1.429475 | notpulsar |\n",
       "\n"
      ],
      "text/plain": [
       "      Profile_skewness Profile_kurtosis DM_mean    DM_skewness DM_kurtosis\n",
       "1     -0.23457141      -0.6996484       3.199833    7.975532    74.24222  \n",
       "2      0.46531815      -0.5150879       1.677258   10.576487   127.39358  \n",
       "3      0.32332837       1.0511644       3.121237    7.735822    63.17191  \n",
       "4     -0.06841464      -0.6362384       3.642977    6.896499    53.59366  \n",
       "5      0.60086608       1.1234917       1.178930   14.269573   252.56731  \n",
       "⋮     ⋮                ⋮                ⋮          ⋮           ⋮          \n",
       "17894 -0.1878456       -0.73812297        1.296823 15.450260   285.931022 \n",
       "17895  0.1279781        0.32306090       16.409699  2.945244     8.297092 \n",
       "17896  0.1593631       -0.74302540       21.430602  2.499517     4.595173 \n",
       "17897  0.2011614       -0.02478884        1.946488 10.007967   134.238910 \n",
       "17898  1.4063910        0.08951971      188.306020 -1.597527     1.429475 \n",
       "      Class    \n",
       "1     notpulsar\n",
       "2     notpulsar\n",
       "3     notpulsar\n",
       "4     notpulsar\n",
       "5     notpulsar\n",
       "⋮     ⋮        \n",
       "17894 notpulsar\n",
       "17895 notpulsar\n",
       "17896 notpulsar\n",
       "17897 notpulsar\n",
       "17898 notpulsar"
      ]
     },
     "metadata": {},
     "output_type": "display_data"
    }
   ],
   "source": [
    "pulsar_df <- read_csv(\"data/HTRU_2.arff\", skip = 11, col_names = FALSE) |>\n",
    "    rename(\"Profile_mean\" = X1,\n",
    "       \"Profile_stdev\" = X2,\n",
    "       \"Profile_skewness\" = X3,\n",
    "       \"Profile_kurtosis\" = X4,\n",
    "       \"DM_mean\" = X5, \n",
    "       \"DM_stdev\" = X6, \n",
    "       \"DM_skewness\" = X7,\n",
    "       \"DM_kurtosis\" = X8,\n",
    "       \"class\" = X9     \n",
    "      ) |>\n",
    "    mutate(practice, class = as_factor(class)) |>\n",
    "    mutate(Class = fct_recode(class, \"notpulsar\" = \"0\", \"pulsar\" = \"1\")) |>\n",
    "    select(-Profile_mean, -Profile_stdev, -DM_stdev, -class)\n",
    "pulsar_df\n",
    "\n",
    "pulsar_split <- initial_split(pulsar_df, prop = 0.75, strata = Class)\n",
    "pulsar_train <- training(pulsar_split)\n",
    "pulsar_test <- testing(pulsar_split)"
   ]
  },
  {
   "cell_type": "code",
   "execution_count": 30,
   "id": "6e8d8cbe-f618-431c-b35f-7e7169907af2",
   "metadata": {},
   "outputs": [
    {
     "data": {
      "text/html": [
       "<table class=\"dataframe\">\n",
       "<caption>A tibble: 2 × 1</caption>\n",
       "<thead>\n",
       "\t<tr><th scope=col>class</th></tr>\n",
       "\t<tr><th scope=col>&lt;fct&gt;</th></tr>\n",
       "</thead>\n",
       "<tbody>\n",
       "\t<tr><td>0</td></tr>\n",
       "\t<tr><td>1</td></tr>\n",
       "</tbody>\n",
       "</table>\n"
      ],
      "text/latex": [
       "A tibble: 2 × 1\n",
       "\\begin{tabular}{l}\n",
       " class\\\\\n",
       " <fct>\\\\\n",
       "\\hline\n",
       "\t 0\\\\\n",
       "\t 1\\\\\n",
       "\\end{tabular}\n"
      ],
      "text/markdown": [
       "\n",
       "A tibble: 2 × 1\n",
       "\n",
       "| class &lt;fct&gt; |\n",
       "|---|\n",
       "| 0 |\n",
       "| 1 |\n",
       "\n"
      ],
      "text/plain": [
       "  class\n",
       "1 0    \n",
       "2 1    "
      ]
     },
     "metadata": {},
     "output_type": "display_data"
    },
    {
     "data": {
      "text/html": [
       "1639"
      ],
      "text/latex": [
       "1639"
      ],
      "text/markdown": [
       "1639"
      ],
      "text/plain": [
       "[1] 1639"
      ]
     },
     "metadata": {},
     "output_type": "display_data"
    },
    {
     "data": {
      "text/html": [
       "16259"
      ],
      "text/latex": [
       "16259"
      ],
      "text/markdown": [
       "16259"
      ],
      "text/plain": [
       "[1] 16259"
      ]
     },
     "metadata": {},
     "output_type": "display_data"
    },
    {
     "ename": "ERROR",
     "evalue": "\u001b[1m\u001b[33mError\u001b[39m in `n()`:\u001b[22m\n\u001b[1m\u001b[22m\u001b[33m!\u001b[39m Must only be used inside data-masking verbs like `mutate()`,\n  `filter()`, and `group_by()`.\n",
     "output_type": "error",
     "traceback": [
      "\u001b[1m\u001b[33mError\u001b[39m in `n()`:\u001b[22m\n\u001b[1m\u001b[22m\u001b[33m!\u001b[39m Must only be used inside data-masking verbs like `mutate()`,\n  `filter()`, and `group_by()`.\nTraceback:\n",
      "1. map_df(pulsar_df, n())",
      "2. as_mapper(.f, ...)",
      "3. n()",
      "4. peek_mask()",
      "5. context_peek(\"mask\", \"data-masking verbs like `mutate()`, `filter()`, and `group_by()`\", \n .     call)",
      "6. context_peek_bare(name) %||% abort(glue(\"Must only be used inside {location}.\"), \n .     call = call)",
      "7. abort(glue(\"Must only be used inside {location}.\"), call = call)",
      "8. signal_abort(cnd, .file)"
     ]
    }
   ],
   "source": [
    "pulsar_df |>\n",
    "    distinct(class)\n",
    "pulsar_df |>\n",
    "    filter(class == 1) |>\n",
    "    nrow()\n",
    "pulsar_df |>\n",
    "    filter(class == 0) |>\n",
    "    nrow()\n",
    "pulsar_df |>\n",
    "    map_df(())"
   ]
  },
  {
   "cell_type": "code",
   "execution_count": null,
   "id": "d6947b56-7465-4da5-a5e1-75c52df6dc20",
   "metadata": {},
   "outputs": [],
   "source": []
  }
 ],
 "metadata": {
  "kernelspec": {
   "display_name": "R",
   "language": "R",
   "name": "ir"
  },
  "language_info": {
   "codemirror_mode": "r",
   "file_extension": ".r",
   "mimetype": "text/x-r-source",
   "name": "R",
   "pygments_lexer": "r",
   "version": "4.3.1"
  }
 },
 "nbformat": 4,
 "nbformat_minor": 5
}
